{
 "cells": [
  {
   "cell_type": "code",
   "execution_count": 23,
   "metadata": {},
   "outputs": [
    {
     "name": "stderr",
     "output_type": "stream",
     "text": [
      "C:\\Users\\moosb\\AppData\\Local\\Continuum\\Anaconda3\\lib\\site-packages\\numpy\\lib\\arraysetops.py:463: FutureWarning: elementwise comparison failed; returning scalar instead, but in the future will perform elementwise comparison\n",
      "  mask |= (ar1 == a)\n"
     ]
    }
   ],
   "source": [
    "import pandas as pd\n",
    "from os.path import join\n",
    "path_raw = 'D:/Projet'\n",
    "file_train = 'all_data.csv'\n",
    "#file_songs = 'songs.csv'\n",
    "train = pd.read_csv(join(path_raw, file_train), error_bad_lines=False,index_col=0)"
   ]
  },
  {
   "cell_type": "code",
   "execution_count": 24,
   "metadata": {},
   "outputs": [
    {
     "name": "stdout",
     "output_type": "stream",
     "text": [
      "Num. of Users: 30755\n",
      "Num of Songs: 359914\n"
     ]
    }
   ],
   "source": [
    "n_users = train.memb_id.nunique()\n",
    "n_songs = train.song_id2.nunique()\n",
    "\n",
    "print('Num. of Users: '+ str(n_users))\n",
    "print('Num of Songs: '+str(n_songs))"
   ]
  },
  {
   "cell_type": "markdown",
   "metadata": {},
   "source": [
    "# On choisit un échantillon de 2000 utilisateurs et 5000 chansons"
   ]
  },
  {
   "cell_type": "code",
   "execution_count": 25,
   "metadata": {
    "collapsed": true
   },
   "outputs": [],
   "source": [
    "members=train.memb_id.sample(2000)"
   ]
  },
  {
   "cell_type": "code",
   "execution_count": 26,
   "metadata": {
    "collapsed": true
   },
   "outputs": [],
   "source": [
    "songs=train.song_id2.sample(5000)"
   ]
  },
  {
   "cell_type": "code",
   "execution_count": 27,
   "metadata": {
    "collapsed": true
   },
   "outputs": [],
   "source": [
    "train=train.loc[train['memb_id'].isin(members.values) & train['song_id2'].isin(songs.values)]"
   ]
  },
  {
   "cell_type": "code",
   "execution_count": 28,
   "metadata": {},
   "outputs": [
    {
     "name": "stdout",
     "output_type": "stream",
     "text": [
      "Num. of Users: 1832\n",
      "Num of Songs: 3463\n"
     ]
    }
   ],
   "source": [
    "n_users = train.memb_id.nunique()\n",
    "n_songs = train.song_id2.nunique()\n",
    "\n",
    "print('Num. of Users: '+ str(n_users))\n",
    "print('Num of Songs: '+str(n_songs))"
   ]
  },
  {
   "cell_type": "code",
   "execution_count": 29,
   "metadata": {
    "collapsed": true
   },
   "outputs": [],
   "source": [
    "from sklearn import preprocessing\n",
    "le = preprocessing.LabelEncoder()\n",
    "\n",
    "cols = ['memb_id', 'song_id2']\n",
    "\n",
    "for col in cols:\n",
    "    le.fit(train[col])\n",
    "    train[col] = le.transform(train[col])"
   ]
  },
  {
   "cell_type": "code",
   "execution_count": 30,
   "metadata": {
    "collapsed": true
   },
   "outputs": [],
   "source": [
    "from sklearn.model_selection import train_test_split\n",
    "train_data, test_data = train_test_split(train, shuffle=True, test_size=0.2, stratify=train['target'])"
   ]
  },
  {
   "cell_type": "markdown",
   "metadata": {},
   "source": [
    "# On crée les matrices d'apprentissage et validation en mettant -1 si la target est 0 et 1 si la target est 1 avec des 0 pour les valeurs manquantes"
   ]
  },
  {
   "cell_type": "code",
   "execution_count": 31,
   "metadata": {
    "collapsed": true
   },
   "outputs": [],
   "source": [
    "import numpy as np\n",
    "from scipy.sparse import *\n",
    "#Create two user-item matrices, one for training and another for testing\n",
    "train_data_matrix = np.zeros( (n_users,n_songs) )\n",
    "for line in train_data.itertuples():\n",
    "    train_data_matrix[line[2], line[1]] = 2*line[6]-1\n",
    "\n",
    "test_data_matrix = np.zeros((n_users, n_songs))\n",
    "for line in test_data.itertuples():\n",
    "    test_data_matrix[line[2], line[1]] = 2*line[6]-1"
   ]
  },
  {
   "cell_type": "markdown",
   "metadata": {},
   "source": [
    "# On calcule les normes euclidiennes des vecteurs lignes de la matrice d'apprentissage pour ensuite normaliser les vecteurs lignes des matrices d'apprentissage et de validation"
   ]
  },
  {
   "cell_type": "code",
   "execution_count": 32,
   "metadata": {
    "collapsed": true
   },
   "outputs": [],
   "source": [
    "magnitude = np.sqrt(np.square(train_data_matrix).sum(axis=1))\n",
    "train_data_matrix = np.where(np.isclose(magnitude,0)[:,None], 0, train_data_matrix/magnitude[:,None])\n",
    "test_data_matrix = np.where(np.isclose(magnitude,0)[:,None], 0, test_data_matrix/magnitude[:,None])"
   ]
  },
  {
   "cell_type": "code",
   "execution_count": 14,
   "metadata": {
    "collapsed": true
   },
   "outputs": [],
   "source": [
    "from sklearn.metrics import mean_squared_error\n",
    "from math import sqrt\n",
    "\n",
    "\n",
    "#  fonction qui permet de calculer l'erreur\n",
    "def rmse(prediction, ground_truth):\n",
    "    prediction = prediction[ground_truth.nonzero()].flatten()\n",
    "    ground_truth = ground_truth[ground_truth.nonzero()].flatten()\n",
    "    return sqrt(mean_squared_error(prediction, ground_truth))"
   ]
  },
  {
   "cell_type": "markdown",
   "metadata": {},
   "source": [
    "# SVD avec RMSE"
   ]
  },
  {
   "cell_type": "code",
   "execution_count": 44,
   "metadata": {},
   "outputs": [
    {
     "name": "stdout",
     "output_type": "stream",
     "text": [
      "SVD-based CF MSE: 0.07326892806384945\n"
     ]
    }
   ],
   "source": [
    "import scipy.sparse as sp\n",
    "from scipy.sparse.linalg import svds\n",
    "import numpy as np\n",
    "#get SVD components from train matrix. Choose k.\n",
    "u, s, vt = svds(train_data_matrix, k = 50)\n",
    "u=u[:,::-1]\n",
    "s=s[::-1]\n",
    "vt=vt[::-1,:]\n",
    "s_diag_matrix=np.diag(s)\n",
    "X_pred = np.dot(np.dot(u, s_diag_matrix), vt)\n",
    "print ('SVD-based CF MSE: ' + str(rmse(X_pred, test_data_matrix)))"
   ]
  },
  {
   "cell_type": "code",
   "execution_count": 45,
   "metadata": {},
   "outputs": [
    {
     "data": {
      "image/png": "[encoded data removed]",
      "text/plain": [
       "<matplotlib.figure.Figure at 0xea00930ac8>"
      ]
     },
     "metadata": {},
     "output_type": "display_data"
    }
   ],
   "source": [
    "error_app=list()\n",
    "error_val=list()\n",
    "for i in range(2,50):\n",
    "    s_diag_matrix=np.diag(s[:i])\n",
    "    X_pred = np.dot(np.dot(u[:,0:i], s_diag_matrix), vt[0:i])\n",
    "    error_app.append(rmse(X_pred, train_data_matrix))\n",
    "    error_val.append(rmse(X_pred, test_data_matrix))\n",
    "from matplotlib import pyplot as plt\n",
    "\n",
    "#plt.plot(error_app,label='err app')  \n",
    "plt.plot(error_val,label='err val')\n",
    "plt.legend()\n",
    "plt.show()"
   ]
  },
  {
   "cell_type": "code",
   "execution_count": 46,
   "metadata": {
    "collapsed": true
   },
   "outputs": [],
   "source": [
    "ind_min=np.argmin(error_val)"
   ]
  },
  {
   "cell_type": "code",
   "execution_count": 47,
   "metadata": {},
   "outputs": [
    {
     "data": {
      "text/plain": [
       "10"
      ]
     },
     "execution_count": 47,
     "metadata": {},
     "output_type": "execute_result"
    }
   ],
   "source": [
    "ind_min"
   ]
  },
  {
   "cell_type": "code",
   "execution_count": 48,
   "metadata": {},
   "outputs": [
    {
     "name": "stdout",
     "output_type": "stream",
     "text": [
      "SVD-based CF MSE: 0.07259198552900077\n"
     ]
    }
   ],
   "source": [
    "u, s, vt = svds(train_data_matrix, k = ind_min)\n",
    "u=u[:,::-1]\n",
    "s=s[::-1]\n",
    "vt=vt[::-1,:]\n",
    "s_diag_matrix=np.diag(s)\n",
    "X_pred = np.dot(np.dot(u, s_diag_matrix), vt)\n",
    "print ('SVD-based CF MSE: ' + str(rmse(X_pred, test_data_matrix)))"
   ]
  },
  {
   "cell_type": "markdown",
   "metadata": {},
   "source": [
    "# Calcul du score de classification"
   ]
  },
  {
   "cell_type": "code",
   "execution_count": 49,
   "metadata": {
    "collapsed": true
   },
   "outputs": [],
   "source": [
    "svd_prediction=pd.DataFrame(np.dot(np.dot(u, s_diag_matrix), vt),index=range(n_users),columns=range(n_songs))"
   ]
  },
  {
   "cell_type": "code",
   "execution_count": 50,
   "metadata": {
    "collapsed": true
   },
   "outputs": [],
   "source": [
    "def evaluate(x):\n",
    "    if x>0:\n",
    "        return 1\n",
    "    else:\n",
    "        return 0\n",
    "\n",
    "l=[]\n",
    "for line in test_data.values:\n",
    "    l.append(evaluate(svd_prediction.loc[line[1],line[0]]))"
   ]
  },
  {
   "cell_type": "code",
   "execution_count": 51,
   "metadata": {
    "collapsed": true
   },
   "outputs": [],
   "source": [
    "target=test_data.target.values"
   ]
  },
  {
   "cell_type": "code",
   "execution_count": 52,
   "metadata": {},
   "outputs": [
    {
     "data": {
      "text/plain": [
       "0.67781366203888371"
      ]
     },
     "execution_count": 52,
     "metadata": {},
     "output_type": "execute_result"
    }
   ],
   "source": [
    "1-np.sum(np.abs(target-l))/target.size"
   ]
  },
  {
   "cell_type": "markdown",
   "metadata": {},
   "source": [
    "# Moindres carrés alternés"
   ]
  },
  {
   "cell_type": "code",
   "execution_count": 53,
   "metadata": {
    "collapsed": true
   },
   "outputs": [],
   "source": [
    "W = train_data_matrix!=0\n",
    "W[W == True] = 1\n",
    "W[W == False] = 0\n",
    "# To be consistent with our Q matrix\n",
    "W = W.astype(np.float64, copy=False)\n",
    "\n",
    "Wt = test_data_matrix!=0\n",
    "Wt[Wt == True] = 1\n",
    "Wt[Wt == False] = 0\n",
    "# To be consistent with our Q matrix\n",
    "Wt = Wt.astype(np.float64, copy=False)"
   ]
  },
  {
   "cell_type": "code",
   "execution_count": 54,
   "metadata": {},
   "outputs": [
    {
     "data": {
      "text/plain": [
       "0.07259198552900076"
      ]
     },
     "execution_count": 54,
     "metadata": {},
     "output_type": "execute_result"
    }
   ],
   "source": [
    "from scipy.sparse.linalg import svds\n",
    "\n",
    "n_factors = ind_min\n",
    "lambda_ = 0.1\n",
    "m, n = train_data_matrix.shape\n",
    "n_iterations = 20\n",
    "\n",
    "#u=np.random.rand(m, n_factors)\n",
    "#vt=np.random.rand(n_factors, n)\n",
    "\n",
    "\n",
    "u, s, vt = svds(train_data_matrix, k = n_factors)\n",
    "u=u[:,::-1]# taille (943,3)\n",
    "s=s[::-1] # vect col taille 3\n",
    "vt=vt[::-1,:] # taille (3,1682)\n",
    "vt = np.dot(np.diag(s),vt)\n",
    "\n",
    "def get_error(Q, X, Y, W):\n",
    "    return sqrt(np.sum(( W*(Q - np.dot(X, Y)))**2)/np.sum(W))\n",
    "\n",
    "get_error(test_data_matrix, u, vt, Wt)"
   ]
  },
  {
   "cell_type": "code",
   "execution_count": 55,
   "metadata": {},
   "outputs": [
    {
     "name": "stdout",
     "output_type": "stream",
     "text": [
      "0th iteration is completed, error val: 0.0725002923749821, error app: 0.06016995446919294\n",
      "1th iteration is completed, error val: 0.07370501891868615, error app: 0.056172288543228956\n",
      "2th iteration is completed, error val: 0.07412584629468323, error app: 0.055362525768183256\n"
     ]
    },
    {
     "ename": "KeyboardInterrupt",
     "evalue": "",
     "output_type": "error",
     "traceback": [
      "\u001b[1;31m---------------------------------------------------------------------------\u001b[0m",
      "\u001b[1;31mKeyboardInterrupt\u001b[0m                         Traceback (most recent call last)",
      "\u001b[1;32m<ipython-input-55-762afa85f78e>\u001b[0m in \u001b[0;36m<module>\u001b[1;34m()\u001b[0m\n\u001b[0;32m      3\u001b[0m \u001b[1;32mfor\u001b[0m \u001b[0mii\u001b[0m \u001b[1;32min\u001b[0m \u001b[0mrange\u001b[0m\u001b[1;33m(\u001b[0m\u001b[0mn_iterations\u001b[0m\u001b[1;33m)\u001b[0m\u001b[1;33m:\u001b[0m\u001b[1;33m\u001b[0m\u001b[0m\n\u001b[0;32m      4\u001b[0m     \u001b[1;32mfor\u001b[0m \u001b[0mj\u001b[0m\u001b[1;33m,\u001b[0m \u001b[0mWj\u001b[0m \u001b[1;32min\u001b[0m \u001b[0menumerate\u001b[0m\u001b[1;33m(\u001b[0m\u001b[0mW\u001b[0m\u001b[1;33m.\u001b[0m\u001b[0mT\u001b[0m\u001b[1;33m)\u001b[0m\u001b[1;33m:\u001b[0m\u001b[1;31m# fixe u et optimise v (parcours des films)\u001b[0m\u001b[1;33m\u001b[0m\u001b[0m\n\u001b[1;32m----> 5\u001b[1;33m         \u001b[0mXtWX\u001b[0m \u001b[1;33m=\u001b[0m\u001b[0mnp\u001b[0m\u001b[1;33m.\u001b[0m\u001b[0mdot\u001b[0m\u001b[1;33m(\u001b[0m\u001b[0mu\u001b[0m\u001b[1;33m.\u001b[0m\u001b[0mT\u001b[0m\u001b[1;33m,\u001b[0m \u001b[0mnp\u001b[0m\u001b[1;33m.\u001b[0m\u001b[0mdot\u001b[0m\u001b[1;33m(\u001b[0m\u001b[0mnp\u001b[0m\u001b[1;33m.\u001b[0m\u001b[0mdiag\u001b[0m\u001b[1;33m(\u001b[0m\u001b[0mWj\u001b[0m\u001b[1;33m)\u001b[0m\u001b[1;33m,\u001b[0m \u001b[0mu\u001b[0m\u001b[1;33m)\u001b[0m\u001b[1;33m)\u001b[0m\u001b[1;33m\u001b[0m\u001b[0m\n\u001b[0m\u001b[0;32m      6\u001b[0m         vt[:,j] = np.linalg.solve(XtWX + lambda_ * np.eye(n_factors),\n\u001b[0;32m      7\u001b[0m                                np.dot(u.T, np.dot(np.diag(Wj), train_data_matrix[:,j])))\n",
      "\u001b[1;31mKeyboardInterrupt\u001b[0m: "
     ]
    }
   ],
   "source": [
    "weighted_errors = []\n",
    "weighted_errors_app= []\n",
    "for ii in range(n_iterations):\n",
    "    for j, Wj in enumerate(W.T):# fixe u et optimise v (parcours des films)\n",
    "        XtWX =np.dot(u.T, np.dot(np.diag(Wj), u))\n",
    "        vt[:,j] = np.linalg.solve(XtWX + lambda_ * np.eye(n_factors),\n",
    "                               np.dot(u.T, np.dot(np.diag(Wj), train_data_matrix[:,j])))\n",
    "    for i, Wi in enumerate(W):# fixe v et optimise u (parcours des utilisateurs)\n",
    "        YWYt =np.dot(vt, np.dot(np.diag(Wi), vt.T))\n",
    "        u[i] = np.linalg.solve(YWYt + lambda_ * np.eye(n_factors),\n",
    "                                 np.dot(vt, np.dot(np.diag(Wi), train_data_matrix[i].T))).T\n",
    "  \n",
    "    weighted_errors.append(get_error(test_data_matrix, u, vt, Wt))\n",
    "    weighted_errors_app.append(get_error(train_data_matrix, u, vt, W))\n",
    "    print('{}th iteration is completed, error val: {}, error app: {}'.format(ii,weighted_errors[ii],weighted_errors_app[ii]))"
   ]
  },
  {
   "cell_type": "markdown",
   "metadata": {},
   "source": [
    "# Calcul du score de classification"
   ]
  },
  {
   "cell_type": "code",
   "execution_count": 56,
   "metadata": {
    "collapsed": true
   },
   "outputs": [],
   "source": [
    "als_prediction=pd.DataFrame(Wt*np.dot(u,vt),index=range(n_users),columns=range(n_songs))"
   ]
  },
  {
   "cell_type": "code",
   "execution_count": 57,
   "metadata": {
    "collapsed": true
   },
   "outputs": [],
   "source": [
    "def evaluate(x):\n",
    "    if x>0:\n",
    "        return 1\n",
    "    else:\n",
    "        return 0\n",
    "\n",
    "l=[]\n",
    "for line in test_data.values:\n",
    "    l.append(evaluate(als_prediction.loc[line[1],line[0]]))"
   ]
  },
  {
   "cell_type": "code",
   "execution_count": 58,
   "metadata": {
    "collapsed": true
   },
   "outputs": [],
   "source": [
    "target=test_data.target.values"
   ]
  },
  {
   "cell_type": "code",
   "execution_count": 59,
   "metadata": {},
   "outputs": [
    {
     "data": {
      "text/plain": [
       "0.67683578018245216"
      ]
     },
     "execution_count": 59,
     "metadata": {},
     "output_type": "execute_result"
    }
   ],
   "source": [
    "1-np.sum(np.abs(target-l))/target.size"
   ]
  },
  {
   "cell_type": "code",
   "execution_count": 60,
   "metadata": {},
   "outputs": [
    {
     "data": {
      "image/png": "[encoded data removed]",
      "text/plain": [
       "<matplotlib.figure.Figure at 0xea00ec92b0>"
      ]
     },
     "metadata": {},
     "output_type": "display_data"
    }
   ],
   "source": [
    "plt.plot(weighted_errors,label='err val')\n",
    "plt.legend()\n",
    "plt.show()"
   ]
  },
  {
   "cell_type": "markdown",
   "metadata": {},
   "source": [
    "# Descente de gradient stochastique"
   ]
  },
  {
   "cell_type": "code",
   "execution_count": 61,
   "metadata": {},
   "outputs": [
    {
     "data": {
      "text/plain": [
       "0.07259198552900076"
      ]
     },
     "execution_count": 61,
     "metadata": {},
     "output_type": "execute_result"
    }
   ],
   "source": [
    "n_factors = ind_min  # number of factors\n",
    "alpha = .1  # learning rate\n",
    "n_epochs = 20  # numb\n",
    "\n",
    "#u=np.random.rand(m, n_factors)\n",
    "#vt=np.random.rand(n_factors, n)\n",
    "\n",
    "u, s, vt = svds(train_data_matrix, k = n_factors)\n",
    "u=u[:,::-1]# taille (943,3)\n",
    "s=s[::-1] # vect col taille 3\n",
    "vt=vt[::-1,:] # taille (3,1682)\n",
    "vt = np.dot(np.diag(s),vt)\n",
    "\n",
    "get_error(test_data_matrix, u, vt, Wt)"
   ]
  },
  {
   "cell_type": "code",
   "execution_count": 62,
   "metadata": {},
   "outputs": [
    {
     "name": "stdout",
     "output_type": "stream",
     "text": [
      "0th iteration is completed, error val: 0.07100166156644731, error app: 0.06775641341859326\n",
      "1th iteration is completed, error val: 0.07065261134121949, error app: 0.06662887166722475\n",
      "2th iteration is completed, error val: 0.07047552806980564, error app: 0.06580334633094083\n",
      "3th iteration is completed, error val: 0.07036227737594233, error app: 0.06511774842208899\n",
      "4th iteration is completed, error val: 0.07028501548906495, error app: 0.06451621643091768\n",
      "5th iteration is completed, error val: 0.07023572826042411, error app: 0.06397445811245432\n",
      "6th iteration is completed, error val: 0.07021133262876147, error app: 0.06347958880002336\n"
     ]
    },
    {
     "ename": "KeyboardInterrupt",
     "evalue": "",
     "output_type": "error",
     "traceback": [
      "\u001b[1;31m---------------------------------------------------------------------------\u001b[0m",
      "\u001b[1;31mKeyboardInterrupt\u001b[0m                         Traceback (most recent call last)",
      "\u001b[1;32m<ipython-input-62-d8078f05489c>\u001b[0m in \u001b[0;36m<module>\u001b[1;34m()\u001b[0m\n\u001b[0;32m      6\u001b[0m         \u001b[1;32mfor\u001b[0m \u001b[0mj\u001b[0m \u001b[1;32min\u001b[0m \u001b[0mrange\u001b[0m\u001b[1;33m(\u001b[0m\u001b[0mn\u001b[0m\u001b[1;33m)\u001b[0m\u001b[1;33m:\u001b[0m\u001b[1;33m\u001b[0m\u001b[0m\n\u001b[0;32m      7\u001b[0m             \u001b[1;32mif\u001b[0m \u001b[0mtrain_data_matrix\u001b[0m\u001b[1;33m[\u001b[0m\u001b[0mi\u001b[0m\u001b[1;33m]\u001b[0m\u001b[1;33m[\u001b[0m\u001b[0mj\u001b[0m\u001b[1;33m]\u001b[0m\u001b[1;33m!=\u001b[0m\u001b[1;36m0\u001b[0m\u001b[1;33m:\u001b[0m\u001b[1;33m\u001b[0m\u001b[0m\n\u001b[1;32m----> 8\u001b[1;33m                 \u001b[0merr\u001b[0m \u001b[1;33m=\u001b[0m \u001b[0mtrain_data_matrix\u001b[0m\u001b[1;33m[\u001b[0m\u001b[0mi\u001b[0m\u001b[1;33m]\u001b[0m\u001b[1;33m[\u001b[0m\u001b[0mj\u001b[0m\u001b[1;33m]\u001b[0m \u001b[1;33m-\u001b[0m \u001b[0mnp\u001b[0m\u001b[1;33m.\u001b[0m\u001b[0mdot\u001b[0m\u001b[1;33m(\u001b[0m\u001b[0mu\u001b[0m\u001b[1;33m[\u001b[0m\u001b[0mi\u001b[0m\u001b[1;33m]\u001b[0m\u001b[1;33m,\u001b[0m \u001b[0mvt\u001b[0m\u001b[1;33m[\u001b[0m\u001b[1;33m:\u001b[0m\u001b[1;33m,\u001b[0m\u001b[0mj\u001b[0m\u001b[1;33m]\u001b[0m\u001b[1;33m)\u001b[0m\u001b[1;33m\u001b[0m\u001b[0m\n\u001b[0m\u001b[0;32m      9\u001b[0m         \u001b[1;31m# Update vectors p_u and q_i\u001b[0m\u001b[1;33m\u001b[0m\u001b[1;33m\u001b[0m\u001b[0m\n\u001b[0;32m     10\u001b[0m                 \u001b[0mu\u001b[0m\u001b[1;33m[\u001b[0m\u001b[0mi\u001b[0m\u001b[1;33m]\u001b[0m \u001b[1;33m+=\u001b[0m \u001b[0malpha\u001b[0m \u001b[1;33m*\u001b[0m \u001b[0merr\u001b[0m \u001b[1;33m*\u001b[0m \u001b[0mvt\u001b[0m\u001b[1;33m[\u001b[0m\u001b[1;33m:\u001b[0m\u001b[1;33m,\u001b[0m\u001b[0mj\u001b[0m\u001b[1;33m]\u001b[0m\u001b[1;33m\u001b[0m\u001b[0m\n",
      "\u001b[1;31mKeyboardInterrupt\u001b[0m: "
     ]
    }
   ],
   "source": [
    "weighted_errors = []\n",
    "weighted_errors_app= []\n",
    "    # Optimization procedure\n",
    "for k in range(n_epochs):\n",
    "    for i in range(m):\n",
    "        for j in range(n):\n",
    "            if train_data_matrix[i][j]!=0:\n",
    "                err = train_data_matrix[i][j] - np.dot(u[i], vt[:,j])\n",
    "        # Update vectors p_u and q_i\n",
    "                u[i] += alpha * err * vt[:,j]\n",
    "                vt[:,j] += alpha * err * u[i]\n",
    "    weighted_errors.append(get_error(test_data_matrix, u, vt, Wt))\n",
    "    weighted_errors_app.append(get_error(train_data_matrix, u, vt, W))\n",
    "    print('{}th iteration is completed, error val: {}, error app: {}'.format(k,weighted_errors[k],weighted_errors_app[k]))"
   ]
  },
  {
   "cell_type": "code",
   "execution_count": 63,
   "metadata": {
    "collapsed": true
   },
   "outputs": [],
   "source": [
    "stoch_prediction=pd.DataFrame(Wt*np.dot(u,vt),index=range(n_users),columns=range(n_songs))"
   ]
  },
  {
   "cell_type": "code",
   "execution_count": 64,
   "metadata": {
    "collapsed": true
   },
   "outputs": [],
   "source": [
    "def evaluate(x):\n",
    "    if x>0:\n",
    "        return 1\n",
    "    else:\n",
    "        return 0\n",
    "\n",
    "l=[]\n",
    "for line in test_data.values:\n",
    "    l.append(evaluate(stoch_prediction.loc[line[1],line[0]]))"
   ]
  },
  {
   "cell_type": "code",
   "execution_count": 65,
   "metadata": {
    "collapsed": true
   },
   "outputs": [],
   "source": [
    "target=test_data.target.values"
   ]
  },
  {
   "cell_type": "code",
   "execution_count": 66,
   "metadata": {},
   "outputs": [
    {
     "data": {
      "text/plain": [
       "0.68618999215121135"
      ]
     },
     "execution_count": 66,
     "metadata": {},
     "output_type": "execute_result"
    }
   ],
   "source": [
    "1-np.sum(np.abs(target-l))/target.size"
   ]
  },
  {
   "cell_type": "markdown",
   "metadata": {},
   "source": [
    "# Filtrage collaboratif"
   ]
  },
  {
   "cell_type": "code",
   "execution_count": 33,
   "metadata": {
    "collapsed": true
   },
   "outputs": [],
   "source": [
    "from sklearn.metrics.pairwise import pairwise_distances\n",
    "user_similarity = pairwise_distances(train_data_matrix, metric='cosine')\n",
    "item_similarity = pairwise_distances(train_data_matrix.T, metric='cosine')"
   ]
  },
  {
   "cell_type": "code",
   "execution_count": 34,
   "metadata": {
    "collapsed": true
   },
   "outputs": [],
   "source": [
    "def predict(ratings, similarity, type='user'):\n",
    "    if type == 'user':\n",
    "        mean_user_rating = ratings.mean(axis=1)\n",
    "        #You use np.newaxis so that mean_user_rating has same format as ratings\n",
    "        ratings_diff = (ratings - mean_user_rating[:, np.newaxis])\n",
    "        pred = mean_user_rating[:, np.newaxis] + similarity.dot(ratings_diff) / np.array([np.abs(similarity).sum(axis=1)]).T\n",
    "    elif type == 'item':\n",
    "        pred = ratings.dot(similarity) / np.array([np.abs(similarity).sum(axis=1)])\n",
    "    return pred"
   ]
  },
  {
   "cell_type": "code",
   "execution_count": 35,
   "metadata": {
    "collapsed": true
   },
   "outputs": [],
   "source": [
    "item_prediction = predict(train_data_matrix, item_similarity, type='item')\n",
    "user_prediction = predict(train_data_matrix, user_similarity, type='user')"
   ]
  },
  {
   "cell_type": "code",
   "execution_count": 36,
   "metadata": {},
   "outputs": [
    {
     "name": "stdout",
     "output_type": "stream",
     "text": [
      "User-based CF RMSE: 0.0756556104455714\n",
      "Item-based CF RMSE: 0.07680563670279625\n"
     ]
    }
   ],
   "source": [
    "print ('User-based CF RMSE: ' + str(rmse(user_prediction, test_data_matrix)))\n",
    "print ('Item-based CF RMSE: ' + str(rmse(item_prediction, test_data_matrix)))"
   ]
  },
  {
   "cell_type": "code",
   "execution_count": 37,
   "metadata": {
    "collapsed": true
   },
   "outputs": [],
   "source": [
    "user_based_prediction=pd.DataFrame(user_prediction,index=range(n_users),columns=range(n_songs))\n",
    "item_based_prediction=pd.DataFrame(item_prediction,index=range(n_users),columns=range(n_songs))"
   ]
  },
  {
   "cell_type": "code",
   "execution_count": 38,
   "metadata": {
    "collapsed": true
   },
   "outputs": [],
   "source": [
    "def evaluate(x):\n",
    "    if x>0:\n",
    "        return 1\n",
    "    else:\n",
    "        return 0\n",
    "\n",
    "l=[]\n",
    "for line in test_data.values:\n",
    "    l.append(evaluate(user_based_prediction.loc[line[1],line[0]]))"
   ]
  },
  {
   "cell_type": "code",
   "execution_count": 39,
   "metadata": {
    "collapsed": true
   },
   "outputs": [],
   "source": [
    "target=test_data.target.values"
   ]
  },
  {
   "cell_type": "code",
   "execution_count": 40,
   "metadata": {},
   "outputs": [
    {
     "data": {
      "text/plain": [
       "0.65067744052290943"
      ]
     },
     "execution_count": 40,
     "metadata": {},
     "output_type": "execute_result"
    }
   ],
   "source": [
    "1-np.sum(np.abs(target-l))/target.size"
   ]
  },
  {
   "cell_type": "code",
   "execution_count": 41,
   "metadata": {
    "collapsed": true
   },
   "outputs": [],
   "source": [
    "def evaluate(x):\n",
    "    if x>0:\n",
    "        return 1\n",
    "    else:\n",
    "        return 0\n",
    "\n",
    "l=[]\n",
    "for line in test_data.values:\n",
    "    l.append(evaluate(item_based_prediction.loc[line[1],line[0]]))"
   ]
  },
  {
   "cell_type": "code",
   "execution_count": 42,
   "metadata": {
    "collapsed": true
   },
   "outputs": [],
   "source": [
    "target=test_data.target.values"
   ]
  },
  {
   "cell_type": "code",
   "execution_count": 43,
   "metadata": {},
   "outputs": [
    {
     "data": {
      "text/plain": [
       "0.64447561085448868"
      ]
     },
     "execution_count": 43,
     "metadata": {},
     "output_type": "execute_result"
    }
   ],
   "source": [
    "1-np.sum(np.abs(target-l))/target.size"
   ]
  },
  {
   "cell_type": "code",
   "execution_count": null,
   "metadata": {
    "collapsed": true
   },
   "outputs": [],
   "source": []
  }
 ],
 "metadata": {
  "kernelspec": {
   "display_name": "Python 3",
   "language": "python",
   "name": "python3"
  },
  "language_info": {
   "codemirror_mode": {
    "name": "ipython",
    "version": 3
   },
   "file_extension": ".py",
   "mimetype": "text/x-python",
   "name": "python",
   "nbconvert_exporter": "python",
   "pygments_lexer": "ipython3",
   "version": "3.6.1"
  }
 },
 "nbformat": 4,
 "nbformat_minor": 2
}
