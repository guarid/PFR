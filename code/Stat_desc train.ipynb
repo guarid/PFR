{
 "cells": [
  {
   "cell_type": "code",
   "execution_count": 1,
   "metadata": {},
   "outputs": [],
   "source": [
    "import pandas as pd\n",
    "import numpy as np\n",
    "from os.path import join"
   ]
  },
  {
   "cell_type": "code",
   "execution_count": 2,
   "metadata": {
    "collapsed": true
   },
   "outputs": [],
   "source": [
    "#Chargement des données\n",
    "path_raw = 'C:/Users/Benjamin/Documents/Mastere/Projet/data'\n",
    "\n",
    "\n",
    "file_members = 'members.csv'\n",
    "file_songs = 'songs.csv'\n",
    "file_train = 'train.csv'"
   ]
  },
  {
   "cell_type": "code",
   "execution_count": 3,
   "metadata": {},
   "outputs": [],
   "source": [
    "members = pd.read_csv(join(path_raw, file_members), error_bad_lines=False)\n",
    "songs = pd.read_csv(join(path_raw, file_songs), error_bad_lines=False)\n",
    "train = pd.read_csv(join(path_raw, file_train), error_bad_lines=False)"
   ]
  },
  {
   "cell_type": "code",
   "execution_count": 11,
   "metadata": {},
   "outputs": [
    {
     "name": "stdout",
     "output_type": "stream",
     "text": [
      "Taille données membres: (34403, 7)\n",
      "Taille données chansons: (2296320, 7)\n",
      "Taille données de train: (7377418, 6)\n"
     ]
    }
   ],
   "source": [
    "print(\"Taille données membres: {}\".format(members.shape))\n",
    "print(\"Taille données chansons: {}\".format(songs.shape))\n",
    "print(\"Taille données de train: {}\".format(train.shape))"
   ]
  },
  {
   "cell_type": "code",
   "execution_count": 195,
   "metadata": {},
   "outputs": [
    {
     "data": {
      "text/html": [
       "<div>\n",
       "<style>\n",
       "    .dataframe thead tr:only-child th {\n",
       "        text-align: right;\n",
       "    }\n",
       "\n",
       "    .dataframe thead th {\n",
       "        text-align: left;\n",
       "    }\n",
       "\n",
       "    .dataframe tbody tr th {\n",
       "        vertical-align: top;\n",
       "    }\n",
       "</style>\n",
       "<table border=\"1\" class=\"dataframe\">\n",
       "  <thead>\n",
       "    <tr style=\"text-align: right;\">\n",
       "      <th></th>\n",
       "      <th>msno</th>\n",
       "      <th>song_id</th>\n",
       "      <th>source_system_tab</th>\n",
       "      <th>source_screen_name</th>\n",
       "      <th>source_type</th>\n",
       "      <th>target</th>\n",
       "    </tr>\n",
       "  </thead>\n",
       "  <tbody>\n",
       "    <tr>\n",
       "      <th>0</th>\n",
       "      <td>FGtllVqz18RPiwJj/edr2gV78zirAiY/9SmYvia+kCg=</td>\n",
       "      <td>BBzumQNXUHKdEBOB7mAJuzok+IJA1c2Ryg/yzTF6tik=</td>\n",
       "      <td>explore</td>\n",
       "      <td>Explore</td>\n",
       "      <td>online-playlist</td>\n",
       "      <td>1</td>\n",
       "    </tr>\n",
       "    <tr>\n",
       "      <th>1</th>\n",
       "      <td>Xumu+NIjS6QYVxDS4/t3SawvJ7viT9hPKXmf0RtLNx8=</td>\n",
       "      <td>bhp/MpSNoqoxOIB+/l8WPqu6jldth4DIpCm3ayXnJqM=</td>\n",
       "      <td>my library</td>\n",
       "      <td>Local playlist more</td>\n",
       "      <td>local-playlist</td>\n",
       "      <td>1</td>\n",
       "    </tr>\n",
       "    <tr>\n",
       "      <th>8</th>\n",
       "      <td>uHqAtShXTRXju5GE8ri3ITsVFepPf8jUoCF7ffNOuqE=</td>\n",
       "      <td>/bU6IRSK+YNlNbaTkxo7bhsb2EDLPrnksdX3ggcZNhI=</td>\n",
       "      <td>my library</td>\n",
       "      <td>Local playlist more</td>\n",
       "      <td>local-library</td>\n",
       "      <td>1</td>\n",
       "    </tr>\n",
       "    <tr>\n",
       "      <th>12</th>\n",
       "      <td>TJU0Gfvy7FB+r89bWovPKXTjuApTCiv3xg/tt5shR78=</td>\n",
       "      <td>u6/Pb7X4u7KU4gXrBgGqt8RlRrNNFLn03tLAHyxRxwA=</td>\n",
       "      <td>my library</td>\n",
       "      <td>NaN</td>\n",
       "      <td>top-hits-for-artist</td>\n",
       "      <td>0</td>\n",
       "    </tr>\n",
       "    <tr>\n",
       "      <th>16</th>\n",
       "      <td>TJU0Gfvy7FB+r89bWovPKXTjuApTCiv3xg/tt5shR78=</td>\n",
       "      <td>a4TbK5V15pj3YZUOGa9h2U3t0OsE+3aiFw41mNlcgcw=</td>\n",
       "      <td>my library</td>\n",
       "      <td>My library</td>\n",
       "      <td>local-playlist</td>\n",
       "      <td>1</td>\n",
       "    </tr>\n",
       "    <tr>\n",
       "      <th>23</th>\n",
       "      <td>pouJqjNRmZOnRNzzMWWkamTKkIGHyvhl/jo4HgbncnM=</td>\n",
       "      <td>gAsKceTstGBoPKWib6Zp0h8m15fH/qFwlfWsr24KFRg=</td>\n",
       "      <td>my library</td>\n",
       "      <td>Online playlist more</td>\n",
       "      <td>online-playlist</td>\n",
       "      <td>1</td>\n",
       "    </tr>\n",
       "    <tr>\n",
       "      <th>33</th>\n",
       "      <td>HtdItmpx36u5trW7la7gelIcwUiz/DvlhIgvdK1USUc=</td>\n",
       "      <td>56GgUdZtxpOVaQWIIPK2gFBiyJxYjbC8gPMPU1stoL8=</td>\n",
       "      <td>search</td>\n",
       "      <td>Album more</td>\n",
       "      <td>album</td>\n",
       "      <td>1</td>\n",
       "    </tr>\n",
       "    <tr>\n",
       "      <th>62</th>\n",
       "      <td>FE+vOBWbYW+sl9YMZR0jYIzZVonsr+G7NA+rDApwnvw=</td>\n",
       "      <td>LBFRdBacp7Ob6Ada2N7uCQ47DhiNT2KjUtwOA7oSm7I=</td>\n",
       "      <td>discover</td>\n",
       "      <td>Discover Feature</td>\n",
       "      <td>online-playlist</td>\n",
       "      <td>1</td>\n",
       "    </tr>\n",
       "    <tr>\n",
       "      <th>63</th>\n",
       "      <td>8Nlr1MyF+XUilQ4z9Cv6Re9qQIYwa5rCi90flRoyDv0=</td>\n",
       "      <td>aaosaazotfFOGS0pdK4RLNmLtezYXub2Gb6T6YGGObU=</td>\n",
       "      <td>discover</td>\n",
       "      <td>Unknown</td>\n",
       "      <td>online-playlist</td>\n",
       "      <td>0</td>\n",
       "    </tr>\n",
       "    <tr>\n",
       "      <th>75</th>\n",
       "      <td>zcCi+lR4SecPMBbZEwj4UUBrWhgBUbxx+t4O5KA28K8=</td>\n",
       "      <td>3RnXpHSbz61HoSCJEB7B9Sn3bqKPUvgYVwM8ceOEd1M=</td>\n",
       "      <td>discover</td>\n",
       "      <td>NaN</td>\n",
       "      <td>top-hits-for-artist</td>\n",
       "      <td>1</td>\n",
       "    </tr>\n",
       "    <tr>\n",
       "      <th>86</th>\n",
       "      <td>rAI+tZ85/S4CEHBEhUkHDLO1afqVLArCu0nsBmORwfQ=</td>\n",
       "      <td>U03If8ekFQ69MIodnGZOgaFV9vbFpwDQZQYCf5To5fo=</td>\n",
       "      <td>NaN</td>\n",
       "      <td>NaN</td>\n",
       "      <td>NaN</td>\n",
       "      <td>0</td>\n",
       "    </tr>\n",
       "    <tr>\n",
       "      <th>90</th>\n",
       "      <td>rAI+tZ85/S4CEHBEhUkHDLO1afqVLArCu0nsBmORwfQ=</td>\n",
       "      <td>ux6db2W4f9nhapYVkSg81Uzhxnw0vf44cFWHSd2EuJo=</td>\n",
       "      <td>discover</td>\n",
       "      <td>Online playlist more</td>\n",
       "      <td>online-playlist</td>\n",
       "      <td>1</td>\n",
       "    </tr>\n",
       "    <tr>\n",
       "      <th>95</th>\n",
       "      <td>Eaq21N7ijazDjnqU5v1jjWewJopGxgZxkKr4GIq7JTs=</td>\n",
       "      <td>BwDDym6Tp7EnGudWBGJyjONZeX0/4ndu5PETiPWzav8=</td>\n",
       "      <td>my library</td>\n",
       "      <td>NaN</td>\n",
       "      <td>local-library</td>\n",
       "      <td>1</td>\n",
       "    </tr>\n",
       "    <tr>\n",
       "      <th>101</th>\n",
       "      <td>9ibQ9CebtCHGclFMWRSUDCO+007NOardgQlZt0Y/2I8=</td>\n",
       "      <td>0eBnzCiQYi7NVJdPoa4CnpZIAKdsHm2TODGnWQB/UAI=</td>\n",
       "      <td>discover</td>\n",
       "      <td>Online playlist more</td>\n",
       "      <td>song-based-playlist</td>\n",
       "      <td>0</td>\n",
       "    </tr>\n",
       "    <tr>\n",
       "      <th>121</th>\n",
       "      <td>AXKTVBbdr2/z7m5WL1IXzlriNbun8B+7wM41MsWCYDw=</td>\n",
       "      <td>GopWs12UdPVQa3rEWVHv19FsoqHHsjo0il0Le89wN28=</td>\n",
       "      <td>discover</td>\n",
       "      <td>Discover Feature</td>\n",
       "      <td>album</td>\n",
       "      <td>0</td>\n",
       "    </tr>\n",
       "    <tr>\n",
       "      <th>122</th>\n",
       "      <td>AXKTVBbdr2/z7m5WL1IXzlriNbun8B+7wM41MsWCYDw=</td>\n",
       "      <td>8geiVKcfEd3jj9XiGb3hOVio3v0/BY8P29b2r3eo3Ps=</td>\n",
       "      <td>discover</td>\n",
       "      <td>Discover Feature</td>\n",
       "      <td>song-based-playlist</td>\n",
       "      <td>1</td>\n",
       "    </tr>\n",
       "    <tr>\n",
       "      <th>124</th>\n",
       "      <td>/waL2mmZc8jUc2zQdOjJjypxwEHEsm/VksD9bQ8HriQ=</td>\n",
       "      <td>NhQfOVnptpW5z5qsP/sN+hVS8TM2iYvdy/ZGVe7K+kM=</td>\n",
       "      <td>discover</td>\n",
       "      <td>Discover Chart</td>\n",
       "      <td>online-playlist</td>\n",
       "      <td>1</td>\n",
       "    </tr>\n",
       "    <tr>\n",
       "      <th>136</th>\n",
       "      <td>hOyJGmY7tciqGf1EhDj5UT86IfSSnaTHP5JWAPxYN6s=</td>\n",
       "      <td>evaPiUW4ZoRCp27WhCmBCebbpvDtSW7IBNkhQ6M/ldM=</td>\n",
       "      <td>radio</td>\n",
       "      <td>Radio</td>\n",
       "      <td>radio</td>\n",
       "      <td>0</td>\n",
       "    </tr>\n",
       "    <tr>\n",
       "      <th>139</th>\n",
       "      <td>ocdN6b9BP9Qr0B8q6+UNpcBvfErNMk8P6Ny5CK3CyKA=</td>\n",
       "      <td>dSkGPyBKM97xpD3mOsCmhwSLO42eLuqBaDAamdZNBkI=</td>\n",
       "      <td>search</td>\n",
       "      <td>Online playlist more</td>\n",
       "      <td>online-playlist</td>\n",
       "      <td>0</td>\n",
       "    </tr>\n",
       "    <tr>\n",
       "      <th>142</th>\n",
       "      <td>ocdN6b9BP9Qr0B8q6+UNpcBvfErNMk8P6Ny5CK3CyKA=</td>\n",
       "      <td>F2d52gKSwWcIHb9TAQRBtj2uJ/ly5b8p5+cEucxV9aw=</td>\n",
       "      <td>my library</td>\n",
       "      <td>Artist more</td>\n",
       "      <td>top-hits-for-artist</td>\n",
       "      <td>1</td>\n",
       "    </tr>\n",
       "    <tr>\n",
       "      <th>143</th>\n",
       "      <td>hE9WBNEn/Wv0qSG2hB7/C4oQStAxcGJgRnpn3ZY/abw=</td>\n",
       "      <td>r01XmbdwG4sqS8ZA7tIx+VAuxrXNuDu7siNQB+Q2jrs=</td>\n",
       "      <td>my library</td>\n",
       "      <td>Album more</td>\n",
       "      <td>album</td>\n",
       "      <td>0</td>\n",
       "    </tr>\n",
       "    <tr>\n",
       "      <th>145</th>\n",
       "      <td>hE9WBNEn/Wv0qSG2hB7/C4oQStAxcGJgRnpn3ZY/abw=</td>\n",
       "      <td>ijDKxOgX49hGdPBoC0S7ScN7g2TbuV1C9jfmoQMI6QM=</td>\n",
       "      <td>my library</td>\n",
       "      <td>Search</td>\n",
       "      <td>online-playlist</td>\n",
       "      <td>0</td>\n",
       "    </tr>\n",
       "    <tr>\n",
       "      <th>224</th>\n",
       "      <td>BrjHr2sDwLNsKLfAoTZwx6D7+W55aC2+H+UHWLFzVRI=</td>\n",
       "      <td>CTwL9Gnx6QsaZ6+ygo/VHirN/XZKxlUJEB2VGQX8yjg=</td>\n",
       "      <td>discover</td>\n",
       "      <td>Search</td>\n",
       "      <td>online-playlist</td>\n",
       "      <td>1</td>\n",
       "    </tr>\n",
       "    <tr>\n",
       "      <th>269</th>\n",
       "      <td>4H6YvwwaZTqp0K52ildhnudkRNux2G4CZSrIADbtW9k=</td>\n",
       "      <td>I1tqmFQRttTkQ8dQc3e3H3E6TXi/cjNjew2WHp5LptQ=</td>\n",
       "      <td>search</td>\n",
       "      <td>Search</td>\n",
       "      <td>song</td>\n",
       "      <td>1</td>\n",
       "    </tr>\n",
       "    <tr>\n",
       "      <th>401</th>\n",
       "      <td>3YP0jWMILsszO+UlJzGlCadbCIw1P3hIrYrDiatrJBo=</td>\n",
       "      <td>f63hfddZjOyVnUEmQ8oX4jvCbFNVuz6bnFhXCzAjoLM=</td>\n",
       "      <td>listen with</td>\n",
       "      <td>Others profile more</td>\n",
       "      <td>listen-with</td>\n",
       "      <td>0</td>\n",
       "    </tr>\n",
       "    <tr>\n",
       "      <th>413</th>\n",
       "      <td>yp6A/uxyh/0D2+D177JVzWcruMfNzVr6l19bsssb3XY=</td>\n",
       "      <td>43Qm2YzsP99P5wm37B1JIhezUcQ/1CDjYlQx6rBbz2U=</td>\n",
       "      <td>discover</td>\n",
       "      <td>NaN</td>\n",
       "      <td>online-playlist</td>\n",
       "      <td>1</td>\n",
       "    </tr>\n",
       "    <tr>\n",
       "      <th>420</th>\n",
       "      <td>gvJ0N8gkqJwm4psewGcv/nwXEFe38jacQOz+oyzrmEQ=</td>\n",
       "      <td>PyOTkp+L3tTilhQHyrOxiIiGJAgdy1JVBjPMFaoFYzg=</td>\n",
       "      <td>discover</td>\n",
       "      <td>NaN</td>\n",
       "      <td>song-based-playlist</td>\n",
       "      <td>1</td>\n",
       "    </tr>\n",
       "    <tr>\n",
       "      <th>424</th>\n",
       "      <td>i20rf6mroP6vsce9ZWJzKI6tdQ3cwBJFkc90lys+W58=</td>\n",
       "      <td>NevP3UESU9O78jplmv9o5m9gN8ntZWXwD7l7VuIM4X8=</td>\n",
       "      <td>my library</td>\n",
       "      <td>My library</td>\n",
       "      <td>album</td>\n",
       "      <td>1</td>\n",
       "    </tr>\n",
       "    <tr>\n",
       "      <th>429</th>\n",
       "      <td>J8aAM+sSMlwGR8bK52NvJh3oxgg0Ko9uwKdDXrAVzKM=</td>\n",
       "      <td>t4Vlf/YT6j2Uo5XfhKCrBEsYjlya5xW31NKgDSDhErU=</td>\n",
       "      <td>search</td>\n",
       "      <td>Artist more</td>\n",
       "      <td>top-hits-for-artist</td>\n",
       "      <td>1</td>\n",
       "    </tr>\n",
       "    <tr>\n",
       "      <th>466</th>\n",
       "      <td>dipfW+612f/PTHaBITuRU5JNTYDiUQjMyFomaIGWW+o=</td>\n",
       "      <td>zrpibgya17Ts+MHFuwUDP7Kw3UvAWmT/XGBGTelfCYM=</td>\n",
       "      <td>my library</td>\n",
       "      <td>My library</td>\n",
       "      <td>local-library</td>\n",
       "      <td>1</td>\n",
       "    </tr>\n",
       "    <tr>\n",
       "      <th>...</th>\n",
       "      <td>...</td>\n",
       "      <td>...</td>\n",
       "      <td>...</td>\n",
       "      <td>...</td>\n",
       "      <td>...</td>\n",
       "      <td>...</td>\n",
       "    </tr>\n",
       "    <tr>\n",
       "      <th>6288496</th>\n",
       "      <td>leF0DwdsgY6LJiFinTlTKdvu6alRcRGclTIsxCUaZwc=</td>\n",
       "      <td>wNGr/s2XR8TuqI+UgFvVxpH2z8Wgg9g9bpaSzmQU6Lc=</td>\n",
       "      <td>notification</td>\n",
       "      <td>Others profile more</td>\n",
       "      <td>radio</td>\n",
       "      <td>1</td>\n",
       "    </tr>\n",
       "    <tr>\n",
       "      <th>6354239</th>\n",
       "      <td>rKkT2zHiwdl3ZaoO2oKqsDQs4astdN91b3kne9pEAXY=</td>\n",
       "      <td>cy10N2j2sdY/X4BDUcMu2Iumfz7pV3tqE5iEaup2yGI=</td>\n",
       "      <td>listen with</td>\n",
       "      <td>Discover New</td>\n",
       "      <td>online-playlist</td>\n",
       "      <td>1</td>\n",
       "    </tr>\n",
       "    <tr>\n",
       "      <th>6372383</th>\n",
       "      <td>V71CyR/G9TTSapk4KYLRPTMOMkjsRQbz6rA4DXekGjs=</td>\n",
       "      <td>vHvKfZnNwF/SUC/ltV1pISPEJtkx8nM5i3H7KFquVgw=</td>\n",
       "      <td>my library</td>\n",
       "      <td>Explore</td>\n",
       "      <td>listen-with</td>\n",
       "      <td>0</td>\n",
       "    </tr>\n",
       "    <tr>\n",
       "      <th>6420711</th>\n",
       "      <td>dU4RbzpIRRd/EkA9Xncpy9CglzDBZp7nKMfdnfr3Aj8=</td>\n",
       "      <td>W4gOC3iBXV97C05qyVDGIKAJg76BJcrzWPnLwkKK6kQ=</td>\n",
       "      <td>listen with</td>\n",
       "      <td>Search Home</td>\n",
       "      <td>song</td>\n",
       "      <td>0</td>\n",
       "    </tr>\n",
       "    <tr>\n",
       "      <th>6575133</th>\n",
       "      <td>kXcxk9SFGMZfO2CU92pTmfDsNx2/F1e3V91gLqSBhc4=</td>\n",
       "      <td>Yo7fRp8s3sgb0Y6o16m7Wr0hF7OCx2Rx3OThkZEcJJ4=</td>\n",
       "      <td>null</td>\n",
       "      <td>Search Trends</td>\n",
       "      <td>online-playlist</td>\n",
       "      <td>0</td>\n",
       "    </tr>\n",
       "    <tr>\n",
       "      <th>6631050</th>\n",
       "      <td>qCdv9I9kDcR9VBm1qjVIHu1gNRcDz6tegOdrMM63TWA=</td>\n",
       "      <td>tTRVp+pglOvcbtRWZgypNnK/cmHYqY268zSpDh3CVaw=</td>\n",
       "      <td>listen with</td>\n",
       "      <td>Local playlist more</td>\n",
       "      <td>listen-with</td>\n",
       "      <td>0</td>\n",
       "    </tr>\n",
       "    <tr>\n",
       "      <th>6663134</th>\n",
       "      <td>Ari3SS0s74jMKdnWzg7rLroH6YIqTDWHil8H5XKV2Go=</td>\n",
       "      <td>JqC2JO90a8jPmg00yFSf8f1azCvMu6GS3AuY7IBdPnY=</td>\n",
       "      <td>radio</td>\n",
       "      <td>NaN</td>\n",
       "      <td>local-library</td>\n",
       "      <td>1</td>\n",
       "    </tr>\n",
       "    <tr>\n",
       "      <th>6667333</th>\n",
       "      <td>ZS0r5JkCDbIx5Kqklkq2RRdfeuduKTuZB6UpY1n777A=</td>\n",
       "      <td>9KpbSXj7GneDeN8Yp/Xj95fzGHf2svBRSJZJQLT8ve0=</td>\n",
       "      <td>notification</td>\n",
       "      <td>NaN</td>\n",
       "      <td>listen-with</td>\n",
       "      <td>1</td>\n",
       "    </tr>\n",
       "    <tr>\n",
       "      <th>6674503</th>\n",
       "      <td>dPcOnStyeGxZfFWOZB3Tns7gA56Cws3nZ76cjthqNIk=</td>\n",
       "      <td>M0/cUNA9lD4msA+9+5ivwZZ8V/VNWZ2AFpHBp27f8hw=</td>\n",
       "      <td>discover</td>\n",
       "      <td>Self profile more</td>\n",
       "      <td>listen-with</td>\n",
       "      <td>0</td>\n",
       "    </tr>\n",
       "    <tr>\n",
       "      <th>6675507</th>\n",
       "      <td>tO2ylnHRKu6F054KAJiRPOcgrEU5n1BgIifI+0N1SPE=</td>\n",
       "      <td>2AklMTbHFCR7GTQFpS4cy95tDbcfGJwlIe/LM5vLIiE=</td>\n",
       "      <td>discover</td>\n",
       "      <td>Discover Feature</td>\n",
       "      <td>my-daily-playlist</td>\n",
       "      <td>1</td>\n",
       "    </tr>\n",
       "    <tr>\n",
       "      <th>6680491</th>\n",
       "      <td>ni/DgbASaJJywHyFLxHjIp/nx7MXUEy1A58iZyzKqHg=</td>\n",
       "      <td>WOvHYkt7XUOtmMOTsgT+2vJKydJEVInZGliuLUXoV7o=</td>\n",
       "      <td>discover</td>\n",
       "      <td>NaN</td>\n",
       "      <td>my-daily-playlist</td>\n",
       "      <td>0</td>\n",
       "    </tr>\n",
       "    <tr>\n",
       "      <th>6743966</th>\n",
       "      <td>AJwt//bbbV04CnVFOi9HVX1iEuUdasrs0gF33ofLHjI=</td>\n",
       "      <td>+SstqMwhQPBQFTPBhLKPT642IiBDXzZFwlzsLl4cGXo=</td>\n",
       "      <td>discover</td>\n",
       "      <td>Local playlist more</td>\n",
       "      <td>my-daily-playlist</td>\n",
       "      <td>0</td>\n",
       "    </tr>\n",
       "    <tr>\n",
       "      <th>6758754</th>\n",
       "      <td>8Bl8OPc4Y7UJ5d1mFn/dOJNyT3K/2xGIBtTEX2rv67w=</td>\n",
       "      <td>Z3cSL0ZiC08/zDu7PQJq7NxaWSI9n74EIIAiR7zt1Eo=</td>\n",
       "      <td>discover</td>\n",
       "      <td>Album more</td>\n",
       "      <td>top-hits-for-artist</td>\n",
       "      <td>0</td>\n",
       "    </tr>\n",
       "    <tr>\n",
       "      <th>6805990</th>\n",
       "      <td>CImERsQvTqIpMr7taHHyd1nwEHbmpXjvyVrMEr1EtqM=</td>\n",
       "      <td>yfr7vIatA6QicK3qWvTzQC8NF+8G7NUII1PxYHBYxM0=</td>\n",
       "      <td>settings</td>\n",
       "      <td>Search Trends</td>\n",
       "      <td>song</td>\n",
       "      <td>0</td>\n",
       "    </tr>\n",
       "    <tr>\n",
       "      <th>6845255</th>\n",
       "      <td>EIYtJipDV8KuyKkXy+l8o0Ddj8COeDB7B/kIbATsfdc=</td>\n",
       "      <td>e8rAUg3p0pkz94dXSAlatqsjv628an2t0iB4PyUL1+c=</td>\n",
       "      <td>settings</td>\n",
       "      <td>Local playlist more</td>\n",
       "      <td>top-hits-for-artist</td>\n",
       "      <td>0</td>\n",
       "    </tr>\n",
       "    <tr>\n",
       "      <th>6852049</th>\n",
       "      <td>jJkf9nVpElTskNK4qdthTtp+eQH1R4QH77/+wfwuG2w=</td>\n",
       "      <td>R+aJ1qQbnuf1+UuuepoYtatqta8uE+GqraoVIwQJ89A=</td>\n",
       "      <td>explore</td>\n",
       "      <td>Search Trends</td>\n",
       "      <td>local-library</td>\n",
       "      <td>0</td>\n",
       "    </tr>\n",
       "    <tr>\n",
       "      <th>6948417</th>\n",
       "      <td>bD5yjsFvU2qFp7a3Klf9DV6iHkSVwCOB/ppxRdTefaU=</td>\n",
       "      <td>FRJrIjfbI6R5LV/4jCE8SisvjSW/6WhW/m8ouskX3iA=</td>\n",
       "      <td>explore</td>\n",
       "      <td>Album more</td>\n",
       "      <td>song</td>\n",
       "      <td>0</td>\n",
       "    </tr>\n",
       "    <tr>\n",
       "      <th>7023119</th>\n",
       "      <td>DaMbnvBsQhkilDx6r86Ml7dD7M+FvvKOi99mWEOzZmk=</td>\n",
       "      <td>KZ5hwP74wRO6kRapVIprwodtNdVD2EVD3hkZmmyXFPk=</td>\n",
       "      <td>discover</td>\n",
       "      <td>Search</td>\n",
       "      <td>my-daily-playlist</td>\n",
       "      <td>1</td>\n",
       "    </tr>\n",
       "    <tr>\n",
       "      <th>7029103</th>\n",
       "      <td>00Zj6EzyNQPRTQVTPQzQeT4En2WRcY5jJ2tcL43/fDc=</td>\n",
       "      <td>wGhOQAnvqiExHBY7qn25FAkeg5dlR5crva/USFvVosY=</td>\n",
       "      <td>notification</td>\n",
       "      <td>Local playlist more</td>\n",
       "      <td>album</td>\n",
       "      <td>0</td>\n",
       "    </tr>\n",
       "    <tr>\n",
       "      <th>7089046</th>\n",
       "      <td>iYxjxPrvcpdALWD8JUAON01sN39P5puZKfVRCcJsHaI=</td>\n",
       "      <td>ZVBTGEzuvavj7SiTpGrrn2oQPAP3feCG/Tnb6/NDfV4=</td>\n",
       "      <td>settings</td>\n",
       "      <td>Payment</td>\n",
       "      <td>online-playlist</td>\n",
       "      <td>0</td>\n",
       "    </tr>\n",
       "    <tr>\n",
       "      <th>7105035</th>\n",
       "      <td>I4b8tU5lB3JKedd0/0jEUMdT4oD5MYEfl9flXXIJPeQ=</td>\n",
       "      <td>750RprmFfLV0bymtDH88g24pLZGVi5VpBAI300P6UOA=</td>\n",
       "      <td>listen with</td>\n",
       "      <td>Artist more</td>\n",
       "      <td>song</td>\n",
       "      <td>1</td>\n",
       "    </tr>\n",
       "    <tr>\n",
       "      <th>7194612</th>\n",
       "      <td>kKugjZpFOBCwrRQ6iqW81WJhU/XHmZcrlmAzQJ8Z7fI=</td>\n",
       "      <td>SGX6QS26C8+130CxnVdoNBYmvzluw0yBsU8jrLAaMCo=</td>\n",
       "      <td>radio</td>\n",
       "      <td>Search</td>\n",
       "      <td>local-playlist</td>\n",
       "      <td>1</td>\n",
       "    </tr>\n",
       "    <tr>\n",
       "      <th>7217888</th>\n",
       "      <td>bWds+QGbO1l9x8yjjybtydNkwWKqftfaE+gODnjR0jA=</td>\n",
       "      <td>3lZKi/fHqk5D5Nso3cMaWfUWiL5jC/AiwprBUjThe1c=</td>\n",
       "      <td>radio</td>\n",
       "      <td>Radio</td>\n",
       "      <td>local-playlist</td>\n",
       "      <td>0</td>\n",
       "    </tr>\n",
       "    <tr>\n",
       "      <th>7269923</th>\n",
       "      <td>yCCT+QckrmYll48S7BBzCLGn8HekGPwXsTaRYpV5qCk=</td>\n",
       "      <td>2iqOzhESYRyfeuYQkWWyWIjvlyark3RGDMcfPfSydQk=</td>\n",
       "      <td>listen with</td>\n",
       "      <td>Local playlist more</td>\n",
       "      <td>song</td>\n",
       "      <td>0</td>\n",
       "    </tr>\n",
       "    <tr>\n",
       "      <th>7271077</th>\n",
       "      <td>BHOLRxgzEFsE1KtpOUh8y2HP7kzCTeCZx6KiGEl2i1s=</td>\n",
       "      <td>U9kojfZSKaiWOW94PKh1Riyv/zUWxmBRmv0XInQWLGw=</td>\n",
       "      <td>radio</td>\n",
       "      <td>Discover Feature</td>\n",
       "      <td>song-based-playlist</td>\n",
       "      <td>0</td>\n",
       "    </tr>\n",
       "    <tr>\n",
       "      <th>7285041</th>\n",
       "      <td>luusCpzJNvK1VeEQyyqvTHud48A/QSOuoiJE7NtvrRI=</td>\n",
       "      <td>KvOYiE2g4XDP6Q8ei3Qd7bphFtVvQkVfqP6GcQJfQYc=</td>\n",
       "      <td>my library</td>\n",
       "      <td>Online playlist more</td>\n",
       "      <td>song</td>\n",
       "      <td>0</td>\n",
       "    </tr>\n",
       "    <tr>\n",
       "      <th>7289341</th>\n",
       "      <td>ECQfKDD7gMxE2oIad5/r1TmVHsGXTKe50tclxQxsJgc=</td>\n",
       "      <td>6N1D0QQAMJsufaCHwmKI5MI5lOn4f5yDU+boynO/BTY=</td>\n",
       "      <td>listen with</td>\n",
       "      <td>Artist more</td>\n",
       "      <td>album</td>\n",
       "      <td>1</td>\n",
       "    </tr>\n",
       "    <tr>\n",
       "      <th>7293759</th>\n",
       "      <td>UoSSb/jriRrQatHeCgnB9nCtohSaErQkJ3dnaHkwiok=</td>\n",
       "      <td>BJnKuTsMmliQJ+GmSXUW1ECkRFg69U89Zi+rVkUbe6Q=</td>\n",
       "      <td>search</td>\n",
       "      <td>Discover Feature</td>\n",
       "      <td>song-based-playlist</td>\n",
       "      <td>1</td>\n",
       "    </tr>\n",
       "    <tr>\n",
       "      <th>7303639</th>\n",
       "      <td>srkaFYzBdRD/Ssorej38U6bXTkoK1rDoVk2gfFbjl8M=</td>\n",
       "      <td>UPIWRmM9McD/HSS/ygwJEwN5nr10LgyIQ7RODjSLMec=</td>\n",
       "      <td>null</td>\n",
       "      <td>Discover Feature</td>\n",
       "      <td>top-hits-for-artist</td>\n",
       "      <td>1</td>\n",
       "    </tr>\n",
       "    <tr>\n",
       "      <th>7367828</th>\n",
       "      <td>G/j+1ILY/mzOWLPmuQT7Eqk9XMHvB76TdLNs7MYx6tA=</td>\n",
       "      <td>FynUyq0+drmIARmK1JZ/qcjNZ7DKkqTY6/0O0lTzNUI=</td>\n",
       "      <td>discover</td>\n",
       "      <td>Local playlist more</td>\n",
       "      <td>NaN</td>\n",
       "      <td>1</td>\n",
       "    </tr>\n",
       "  </tbody>\n",
       "</table>\n",
       "<p>525 rows × 6 columns</p>\n",
       "</div>"
      ],
      "text/plain": [
       "                                                 msno  \\\n",
       "0        FGtllVqz18RPiwJj/edr2gV78zirAiY/9SmYvia+kCg=   \n",
       "1        Xumu+NIjS6QYVxDS4/t3SawvJ7viT9hPKXmf0RtLNx8=   \n",
       "8        uHqAtShXTRXju5GE8ri3ITsVFepPf8jUoCF7ffNOuqE=   \n",
       "12       TJU0Gfvy7FB+r89bWovPKXTjuApTCiv3xg/tt5shR78=   \n",
       "16       TJU0Gfvy7FB+r89bWovPKXTjuApTCiv3xg/tt5shR78=   \n",
       "23       pouJqjNRmZOnRNzzMWWkamTKkIGHyvhl/jo4HgbncnM=   \n",
       "33       HtdItmpx36u5trW7la7gelIcwUiz/DvlhIgvdK1USUc=   \n",
       "62       FE+vOBWbYW+sl9YMZR0jYIzZVonsr+G7NA+rDApwnvw=   \n",
       "63       8Nlr1MyF+XUilQ4z9Cv6Re9qQIYwa5rCi90flRoyDv0=   \n",
       "75       zcCi+lR4SecPMBbZEwj4UUBrWhgBUbxx+t4O5KA28K8=   \n",
       "86       rAI+tZ85/S4CEHBEhUkHDLO1afqVLArCu0nsBmORwfQ=   \n",
       "90       rAI+tZ85/S4CEHBEhUkHDLO1afqVLArCu0nsBmORwfQ=   \n",
       "95       Eaq21N7ijazDjnqU5v1jjWewJopGxgZxkKr4GIq7JTs=   \n",
       "101      9ibQ9CebtCHGclFMWRSUDCO+007NOardgQlZt0Y/2I8=   \n",
       "121      AXKTVBbdr2/z7m5WL1IXzlriNbun8B+7wM41MsWCYDw=   \n",
       "122      AXKTVBbdr2/z7m5WL1IXzlriNbun8B+7wM41MsWCYDw=   \n",
       "124      /waL2mmZc8jUc2zQdOjJjypxwEHEsm/VksD9bQ8HriQ=   \n",
       "136      hOyJGmY7tciqGf1EhDj5UT86IfSSnaTHP5JWAPxYN6s=   \n",
       "139      ocdN6b9BP9Qr0B8q6+UNpcBvfErNMk8P6Ny5CK3CyKA=   \n",
       "142      ocdN6b9BP9Qr0B8q6+UNpcBvfErNMk8P6Ny5CK3CyKA=   \n",
       "143      hE9WBNEn/Wv0qSG2hB7/C4oQStAxcGJgRnpn3ZY/abw=   \n",
       "145      hE9WBNEn/Wv0qSG2hB7/C4oQStAxcGJgRnpn3ZY/abw=   \n",
       "224      BrjHr2sDwLNsKLfAoTZwx6D7+W55aC2+H+UHWLFzVRI=   \n",
       "269      4H6YvwwaZTqp0K52ildhnudkRNux2G4CZSrIADbtW9k=   \n",
       "401      3YP0jWMILsszO+UlJzGlCadbCIw1P3hIrYrDiatrJBo=   \n",
       "413      yp6A/uxyh/0D2+D177JVzWcruMfNzVr6l19bsssb3XY=   \n",
       "420      gvJ0N8gkqJwm4psewGcv/nwXEFe38jacQOz+oyzrmEQ=   \n",
       "424      i20rf6mroP6vsce9ZWJzKI6tdQ3cwBJFkc90lys+W58=   \n",
       "429      J8aAM+sSMlwGR8bK52NvJh3oxgg0Ko9uwKdDXrAVzKM=   \n",
       "466      dipfW+612f/PTHaBITuRU5JNTYDiUQjMyFomaIGWW+o=   \n",
       "...                                               ...   \n",
       "6288496  leF0DwdsgY6LJiFinTlTKdvu6alRcRGclTIsxCUaZwc=   \n",
       "6354239  rKkT2zHiwdl3ZaoO2oKqsDQs4astdN91b3kne9pEAXY=   \n",
       "6372383  V71CyR/G9TTSapk4KYLRPTMOMkjsRQbz6rA4DXekGjs=   \n",
       "6420711  dU4RbzpIRRd/EkA9Xncpy9CglzDBZp7nKMfdnfr3Aj8=   \n",
       "6575133  kXcxk9SFGMZfO2CU92pTmfDsNx2/F1e3V91gLqSBhc4=   \n",
       "6631050  qCdv9I9kDcR9VBm1qjVIHu1gNRcDz6tegOdrMM63TWA=   \n",
       "6663134  Ari3SS0s74jMKdnWzg7rLroH6YIqTDWHil8H5XKV2Go=   \n",
       "6667333  ZS0r5JkCDbIx5Kqklkq2RRdfeuduKTuZB6UpY1n777A=   \n",
       "6674503  dPcOnStyeGxZfFWOZB3Tns7gA56Cws3nZ76cjthqNIk=   \n",
       "6675507  tO2ylnHRKu6F054KAJiRPOcgrEU5n1BgIifI+0N1SPE=   \n",
       "6680491  ni/DgbASaJJywHyFLxHjIp/nx7MXUEy1A58iZyzKqHg=   \n",
       "6743966  AJwt//bbbV04CnVFOi9HVX1iEuUdasrs0gF33ofLHjI=   \n",
       "6758754  8Bl8OPc4Y7UJ5d1mFn/dOJNyT3K/2xGIBtTEX2rv67w=   \n",
       "6805990  CImERsQvTqIpMr7taHHyd1nwEHbmpXjvyVrMEr1EtqM=   \n",
       "6845255  EIYtJipDV8KuyKkXy+l8o0Ddj8COeDB7B/kIbATsfdc=   \n",
       "6852049  jJkf9nVpElTskNK4qdthTtp+eQH1R4QH77/+wfwuG2w=   \n",
       "6948417  bD5yjsFvU2qFp7a3Klf9DV6iHkSVwCOB/ppxRdTefaU=   \n",
       "7023119  DaMbnvBsQhkilDx6r86Ml7dD7M+FvvKOi99mWEOzZmk=   \n",
       "7029103  00Zj6EzyNQPRTQVTPQzQeT4En2WRcY5jJ2tcL43/fDc=   \n",
       "7089046  iYxjxPrvcpdALWD8JUAON01sN39P5puZKfVRCcJsHaI=   \n",
       "7105035  I4b8tU5lB3JKedd0/0jEUMdT4oD5MYEfl9flXXIJPeQ=   \n",
       "7194612  kKugjZpFOBCwrRQ6iqW81WJhU/XHmZcrlmAzQJ8Z7fI=   \n",
       "7217888  bWds+QGbO1l9x8yjjybtydNkwWKqftfaE+gODnjR0jA=   \n",
       "7269923  yCCT+QckrmYll48S7BBzCLGn8HekGPwXsTaRYpV5qCk=   \n",
       "7271077  BHOLRxgzEFsE1KtpOUh8y2HP7kzCTeCZx6KiGEl2i1s=   \n",
       "7285041  luusCpzJNvK1VeEQyyqvTHud48A/QSOuoiJE7NtvrRI=   \n",
       "7289341  ECQfKDD7gMxE2oIad5/r1TmVHsGXTKe50tclxQxsJgc=   \n",
       "7293759  UoSSb/jriRrQatHeCgnB9nCtohSaErQkJ3dnaHkwiok=   \n",
       "7303639  srkaFYzBdRD/Ssorej38U6bXTkoK1rDoVk2gfFbjl8M=   \n",
       "7367828  G/j+1ILY/mzOWLPmuQT7Eqk9XMHvB76TdLNs7MYx6tA=   \n",
       "\n",
       "                                              song_id source_system_tab  \\\n",
       "0        BBzumQNXUHKdEBOB7mAJuzok+IJA1c2Ryg/yzTF6tik=           explore   \n",
       "1        bhp/MpSNoqoxOIB+/l8WPqu6jldth4DIpCm3ayXnJqM=        my library   \n",
       "8        /bU6IRSK+YNlNbaTkxo7bhsb2EDLPrnksdX3ggcZNhI=        my library   \n",
       "12       u6/Pb7X4u7KU4gXrBgGqt8RlRrNNFLn03tLAHyxRxwA=        my library   \n",
       "16       a4TbK5V15pj3YZUOGa9h2U3t0OsE+3aiFw41mNlcgcw=        my library   \n",
       "23       gAsKceTstGBoPKWib6Zp0h8m15fH/qFwlfWsr24KFRg=        my library   \n",
       "33       56GgUdZtxpOVaQWIIPK2gFBiyJxYjbC8gPMPU1stoL8=            search   \n",
       "62       LBFRdBacp7Ob6Ada2N7uCQ47DhiNT2KjUtwOA7oSm7I=          discover   \n",
       "63       aaosaazotfFOGS0pdK4RLNmLtezYXub2Gb6T6YGGObU=          discover   \n",
       "75       3RnXpHSbz61HoSCJEB7B9Sn3bqKPUvgYVwM8ceOEd1M=          discover   \n",
       "86       U03If8ekFQ69MIodnGZOgaFV9vbFpwDQZQYCf5To5fo=               NaN   \n",
       "90       ux6db2W4f9nhapYVkSg81Uzhxnw0vf44cFWHSd2EuJo=          discover   \n",
       "95       BwDDym6Tp7EnGudWBGJyjONZeX0/4ndu5PETiPWzav8=        my library   \n",
       "101      0eBnzCiQYi7NVJdPoa4CnpZIAKdsHm2TODGnWQB/UAI=          discover   \n",
       "121      GopWs12UdPVQa3rEWVHv19FsoqHHsjo0il0Le89wN28=          discover   \n",
       "122      8geiVKcfEd3jj9XiGb3hOVio3v0/BY8P29b2r3eo3Ps=          discover   \n",
       "124      NhQfOVnptpW5z5qsP/sN+hVS8TM2iYvdy/ZGVe7K+kM=          discover   \n",
       "136      evaPiUW4ZoRCp27WhCmBCebbpvDtSW7IBNkhQ6M/ldM=             radio   \n",
       "139      dSkGPyBKM97xpD3mOsCmhwSLO42eLuqBaDAamdZNBkI=            search   \n",
       "142      F2d52gKSwWcIHb9TAQRBtj2uJ/ly5b8p5+cEucxV9aw=        my library   \n",
       "143      r01XmbdwG4sqS8ZA7tIx+VAuxrXNuDu7siNQB+Q2jrs=        my library   \n",
       "145      ijDKxOgX49hGdPBoC0S7ScN7g2TbuV1C9jfmoQMI6QM=        my library   \n",
       "224      CTwL9Gnx6QsaZ6+ygo/VHirN/XZKxlUJEB2VGQX8yjg=          discover   \n",
       "269      I1tqmFQRttTkQ8dQc3e3H3E6TXi/cjNjew2WHp5LptQ=            search   \n",
       "401      f63hfddZjOyVnUEmQ8oX4jvCbFNVuz6bnFhXCzAjoLM=       listen with   \n",
       "413      43Qm2YzsP99P5wm37B1JIhezUcQ/1CDjYlQx6rBbz2U=          discover   \n",
       "420      PyOTkp+L3tTilhQHyrOxiIiGJAgdy1JVBjPMFaoFYzg=          discover   \n",
       "424      NevP3UESU9O78jplmv9o5m9gN8ntZWXwD7l7VuIM4X8=        my library   \n",
       "429      t4Vlf/YT6j2Uo5XfhKCrBEsYjlya5xW31NKgDSDhErU=            search   \n",
       "466      zrpibgya17Ts+MHFuwUDP7Kw3UvAWmT/XGBGTelfCYM=        my library   \n",
       "...                                               ...               ...   \n",
       "6288496  wNGr/s2XR8TuqI+UgFvVxpH2z8Wgg9g9bpaSzmQU6Lc=      notification   \n",
       "6354239  cy10N2j2sdY/X4BDUcMu2Iumfz7pV3tqE5iEaup2yGI=       listen with   \n",
       "6372383  vHvKfZnNwF/SUC/ltV1pISPEJtkx8nM5i3H7KFquVgw=        my library   \n",
       "6420711  W4gOC3iBXV97C05qyVDGIKAJg76BJcrzWPnLwkKK6kQ=       listen with   \n",
       "6575133  Yo7fRp8s3sgb0Y6o16m7Wr0hF7OCx2Rx3OThkZEcJJ4=              null   \n",
       "6631050  tTRVp+pglOvcbtRWZgypNnK/cmHYqY268zSpDh3CVaw=       listen with   \n",
       "6663134  JqC2JO90a8jPmg00yFSf8f1azCvMu6GS3AuY7IBdPnY=             radio   \n",
       "6667333  9KpbSXj7GneDeN8Yp/Xj95fzGHf2svBRSJZJQLT8ve0=      notification   \n",
       "6674503  M0/cUNA9lD4msA+9+5ivwZZ8V/VNWZ2AFpHBp27f8hw=          discover   \n",
       "6675507  2AklMTbHFCR7GTQFpS4cy95tDbcfGJwlIe/LM5vLIiE=          discover   \n",
       "6680491  WOvHYkt7XUOtmMOTsgT+2vJKydJEVInZGliuLUXoV7o=          discover   \n",
       "6743966  +SstqMwhQPBQFTPBhLKPT642IiBDXzZFwlzsLl4cGXo=          discover   \n",
       "6758754  Z3cSL0ZiC08/zDu7PQJq7NxaWSI9n74EIIAiR7zt1Eo=          discover   \n",
       "6805990  yfr7vIatA6QicK3qWvTzQC8NF+8G7NUII1PxYHBYxM0=          settings   \n",
       "6845255  e8rAUg3p0pkz94dXSAlatqsjv628an2t0iB4PyUL1+c=          settings   \n",
       "6852049  R+aJ1qQbnuf1+UuuepoYtatqta8uE+GqraoVIwQJ89A=           explore   \n",
       "6948417  FRJrIjfbI6R5LV/4jCE8SisvjSW/6WhW/m8ouskX3iA=           explore   \n",
       "7023119  KZ5hwP74wRO6kRapVIprwodtNdVD2EVD3hkZmmyXFPk=          discover   \n",
       "7029103  wGhOQAnvqiExHBY7qn25FAkeg5dlR5crva/USFvVosY=      notification   \n",
       "7089046  ZVBTGEzuvavj7SiTpGrrn2oQPAP3feCG/Tnb6/NDfV4=          settings   \n",
       "7105035  750RprmFfLV0bymtDH88g24pLZGVi5VpBAI300P6UOA=       listen with   \n",
       "7194612  SGX6QS26C8+130CxnVdoNBYmvzluw0yBsU8jrLAaMCo=             radio   \n",
       "7217888  3lZKi/fHqk5D5Nso3cMaWfUWiL5jC/AiwprBUjThe1c=             radio   \n",
       "7269923  2iqOzhESYRyfeuYQkWWyWIjvlyark3RGDMcfPfSydQk=       listen with   \n",
       "7271077  U9kojfZSKaiWOW94PKh1Riyv/zUWxmBRmv0XInQWLGw=             radio   \n",
       "7285041  KvOYiE2g4XDP6Q8ei3Qd7bphFtVvQkVfqP6GcQJfQYc=        my library   \n",
       "7289341  6N1D0QQAMJsufaCHwmKI5MI5lOn4f5yDU+boynO/BTY=       listen with   \n",
       "7293759  BJnKuTsMmliQJ+GmSXUW1ECkRFg69U89Zi+rVkUbe6Q=            search   \n",
       "7303639  UPIWRmM9McD/HSS/ygwJEwN5nr10LgyIQ7RODjSLMec=              null   \n",
       "7367828  FynUyq0+drmIARmK1JZ/qcjNZ7DKkqTY6/0O0lTzNUI=          discover   \n",
       "\n",
       "           source_screen_name          source_type  target  \n",
       "0                     Explore      online-playlist       1  \n",
       "1         Local playlist more       local-playlist       1  \n",
       "8         Local playlist more        local-library       1  \n",
       "12                        NaN  top-hits-for-artist       0  \n",
       "16                 My library       local-playlist       1  \n",
       "23       Online playlist more      online-playlist       1  \n",
       "33                 Album more                album       1  \n",
       "62           Discover Feature      online-playlist       1  \n",
       "63                    Unknown      online-playlist       0  \n",
       "75                        NaN  top-hits-for-artist       1  \n",
       "86                        NaN                  NaN       0  \n",
       "90       Online playlist more      online-playlist       1  \n",
       "95                        NaN        local-library       1  \n",
       "101      Online playlist more  song-based-playlist       0  \n",
       "121          Discover Feature                album       0  \n",
       "122          Discover Feature  song-based-playlist       1  \n",
       "124            Discover Chart      online-playlist       1  \n",
       "136                     Radio                radio       0  \n",
       "139      Online playlist more      online-playlist       0  \n",
       "142               Artist more  top-hits-for-artist       1  \n",
       "143                Album more                album       0  \n",
       "145                    Search      online-playlist       0  \n",
       "224                    Search      online-playlist       1  \n",
       "269                    Search                 song       1  \n",
       "401       Others profile more          listen-with       0  \n",
       "413                       NaN      online-playlist       1  \n",
       "420                       NaN  song-based-playlist       1  \n",
       "424                My library                album       1  \n",
       "429               Artist more  top-hits-for-artist       1  \n",
       "466                My library        local-library       1  \n",
       "...                       ...                  ...     ...  \n",
       "6288496   Others profile more                radio       1  \n",
       "6354239          Discover New      online-playlist       1  \n",
       "6372383               Explore          listen-with       0  \n",
       "6420711           Search Home                 song       0  \n",
       "6575133         Search Trends      online-playlist       0  \n",
       "6631050   Local playlist more          listen-with       0  \n",
       "6663134                   NaN        local-library       1  \n",
       "6667333                   NaN          listen-with       1  \n",
       "6674503     Self profile more          listen-with       0  \n",
       "6675507      Discover Feature    my-daily-playlist       1  \n",
       "6680491                   NaN    my-daily-playlist       0  \n",
       "6743966   Local playlist more    my-daily-playlist       0  \n",
       "6758754            Album more  top-hits-for-artist       0  \n",
       "6805990         Search Trends                 song       0  \n",
       "6845255   Local playlist more  top-hits-for-artist       0  \n",
       "6852049         Search Trends        local-library       0  \n",
       "6948417            Album more                 song       0  \n",
       "7023119                Search    my-daily-playlist       1  \n",
       "7029103   Local playlist more                album       0  \n",
       "7089046               Payment      online-playlist       0  \n",
       "7105035           Artist more                 song       1  \n",
       "7194612                Search       local-playlist       1  \n",
       "7217888                 Radio       local-playlist       0  \n",
       "7269923   Local playlist more                 song       0  \n",
       "7271077      Discover Feature  song-based-playlist       0  \n",
       "7285041  Online playlist more                 song       0  \n",
       "7289341           Artist more                album       1  \n",
       "7293759      Discover Feature  song-based-playlist       1  \n",
       "7303639      Discover Feature  top-hits-for-artist       1  \n",
       "7367828   Local playlist more                  NaN       1  \n",
       "\n",
       "[525 rows x 6 columns]"
      ]
     },
     "execution_count": 195,
     "metadata": {},
     "output_type": "execute_result"
    }
   ],
   "source": [
    "train.drop_duplicates([\"source_system_tab\",\"source_screen_name\",\"source_type\"])"
   ]
  },
  {
   "cell_type": "code",
   "execution_count": 177,
   "metadata": {},
   "outputs": [
    {
     "ename": "TypeError",
     "evalue": "'method' object is not subscriptable",
     "output_type": "error",
     "traceback": [
      "\u001b[1;31m---------------------------------------------------------------------------\u001b[0m",
      "\u001b[1;31mTypeError\u001b[0m                                 Traceback (most recent call last)",
      "\u001b[1;32m<ipython-input-177-4b45b3196589>\u001b[0m in \u001b[0;36m<module>\u001b[1;34m()\u001b[0m\n\u001b[1;32m----> 1\u001b[1;33m \u001b[0mtrain\u001b[0m\u001b[1;33m.\u001b[0m\u001b[0mdrop_duplicates\u001b[0m\u001b[1;33m[\u001b[0m\u001b[1;33m[\u001b[0m\u001b[1;34m'source_system_tab'\u001b[0m\u001b[1;33m,\u001b[0m\u001b[1;34m'source_screen_name'\u001b[0m\u001b[1;33m,\u001b[0m\u001b[1;34m'source_type'\u001b[0m\u001b[1;33m]\u001b[0m\u001b[1;33m]\u001b[0m\u001b[1;33m\u001b[0m\u001b[0m\n\u001b[0m",
      "\u001b[1;31mTypeError\u001b[0m: 'method' object is not subscriptable"
     ]
    }
   ],
   "source": [
    "train.drop_duplicates[['source_system_tab','source_screen_name','source_type']]"
   ]
  },
  {
   "cell_type": "code",
   "execution_count": 21,
   "metadata": {},
   "outputs": [
    {
     "data": {
      "text/plain": [
       "(30755,)"
      ]
     },
     "execution_count": 21,
     "metadata": {},
     "output_type": "execute_result"
    }
   ],
   "source": [
    "np.unique(train['msno']).shape"
   ]
  },
  {
   "cell_type": "code",
   "execution_count": 173,
   "metadata": {},
   "outputs": [
    {
     "data": {
      "text/plain": [
       "(359966,)"
      ]
     },
     "execution_count": 173,
     "metadata": {},
     "output_type": "execute_result"
    }
   ],
   "source": [
    "np.unique(train['song_id']).shape"
   ]
  },
  {
   "cell_type": "markdown",
   "metadata": {},
   "source": [
    "On dispose de 30755 utilisateurs différents dans le jeu de train et de 359966 chansons différentes."
   ]
  },
  {
   "cell_type": "markdown",
   "metadata": {},
   "source": [
    "## Distribution du nombre de chanson écoutée par utilisateur"
   ]
  },
  {
   "cell_type": "code",
   "execution_count": 156,
   "metadata": {},
   "outputs": [
    {
     "data": {
      "text/plain": [
       "msno       831.0\n",
       "song_id    831.0\n",
       "Name: 0.95, dtype: float64"
      ]
     },
     "execution_count": 156,
     "metadata": {},
     "output_type": "execute_result"
    }
   ],
   "source": [
    "import seaborn as sns\n",
    "\n",
    "nb_chanson_utilisateur=train.groupby(\"msno\")['msno'].count()\n",
    "nb_chanson_utilisateur.quantile(0.95)"
   ]
  },
  {
   "cell_type": "markdown",
   "metadata": {},
   "source": [
    "95% des utilisateurs n'ont pas écouté plus de 830 fois des chansons"
   ]
  },
  {
   "cell_type": "code",
   "execution_count": 152,
   "metadata": {},
   "outputs": [
    {
     "data": {
      "image/png": "[encoded data removed]",
      "text/plain": [
       "<matplotlib.figure.Figure at 0x24a02bb11d0>"
      ]
     },
     "metadata": {},
     "output_type": "display_data"
    }
   ],
   "source": [
    "from matplotlib import pyplot as plt\n",
    "nb_chanson_utilisateur_inf500=nb_chanson_utilisateur.where(nb_chanson_utilisateur.values<=500).dropna()\n",
    "\n",
    "sns.distplot(nb_chanson_utilisateur_inf500,kde=False)\n",
    "plt.xlabel(\"nombre de chanson écoutée\")\n",
    "plt.ylabel(\"nombre d'utilisateur'\")\n",
    "plt.show()"
   ]
  },
  {
   "cell_type": "markdown",
   "metadata": {},
   "source": [
    "## Distribution du nombre d'écoute par chanson"
   ]
  },
  {
   "cell_type": "code",
   "execution_count": 157,
   "metadata": {},
   "outputs": [
    {
     "data": {
      "text/plain": [
       "song_id    49.0\n",
       "msno       49.0\n",
       "Name: 0.95, dtype: float64"
      ]
     },
     "execution_count": 157,
     "metadata": {},
     "output_type": "execute_result"
    }
   ],
   "source": [
    "nb_ecoute_chanson=train.groupby(\"song_id\")['song_id'].count()\n",
    "nb_ecoute_chanson.quantile(0.95)"
   ]
  },
  {
   "cell_type": "markdown",
   "metadata": {},
   "source": [
    "95% des chansons n'ont pas été écoutées plus de 50 fois"
   ]
  },
  {
   "cell_type": "code",
   "execution_count": 153,
   "metadata": {},
   "outputs": [
    {
     "data": {
      "image/png": "[encoded data removed]",
      "text/plain": [
       "<matplotlib.figure.Figure at 0x24a02830978>"
      ]
     },
     "metadata": {},
     "output_type": "display_data"
    }
   ],
   "source": [
    "nb_ecoute_chanson_inf30=nb_ecoute_chanson.where(nb_ecoute_chanson.values<=30).dropna()\n",
    "sns.distplot(nb_ecoute_chanson_inf30,kde=False)\n",
    "plt.xlabel(\"nombre d'écoute\")\n",
    "plt.ylabel(\"nombre de chanson\")\n",
    "plt.show()"
   ]
  },
  {
   "cell_type": "markdown",
   "metadata": {},
   "source": [
    "## Répartition source system_tab"
   ]
  },
  {
   "cell_type": "code",
   "execution_count": 4,
   "metadata": {},
   "outputs": [
    {
     "data": {
      "image/png": "[encoded data removed]",
      "text/plain": [
       "<matplotlib.figure.Figure at 0x21e22fd70b8>"
      ]
     },
     "metadata": {},
     "output_type": "display_data"
    }
   ],
   "source": [
    "import seaborn as sns\n",
    "from matplotlib import pyplot as plt\n",
    "sns.countplot(train[\"source_system_tab\"])\n",
    "plt.show()"
   ]
  },
  {
   "cell_type": "code",
   "execution_count": 11,
   "metadata": {},
   "outputs": [
    {
     "data": {
      "image/png": "[encoded data removed]",
      "text/plain": [
       "<matplotlib.figure.Figure at 0x21e23c2eeb8>"
      ]
     },
     "metadata": {},
     "output_type": "display_data"
    }
   ],
   "source": [
    "sns.set(rc={'figure.figsize':(20,8.27)})\n",
    "sns.countplot(train[\"source_screen_name\"])\n",
    "plt.show()\n"
   ]
  },
  {
   "cell_type": "code",
   "execution_count": 14,
   "metadata": {},
   "outputs": [
    {
     "data": {
      "image/png": "[encoded data removed]",
      "text/plain": [
       "<matplotlib.figure.Figure at 0x21e2431eb38>"
      ]
     },
     "metadata": {},
     "output_type": "display_data"
    }
   ],
   "source": [
    "sns.set(rc={'figure.figsize':(15,8.27)})\n",
    "sns.countplot(train[\"source_type\"])\n",
    "plt.show()"
   ]
  },
  {
   "cell_type": "code",
   "execution_count": 18,
   "metadata": {},
   "outputs": [
    {
     "data": {
      "image/png": "[encoded data removed]",
      "text/plain": [
       "<matplotlib.figure.Figure at 0x21e23d611d0>"
      ]
     },
     "metadata": {},
     "output_type": "display_data"
    }
   ],
   "source": [
    "sns.set(rc={'figure.figsize':(5,5)})\n",
    "sns.countplot(train[\"target\"])\n",
    "plt.show()"
   ]
  },
  {
   "cell_type": "markdown",
   "metadata": {},
   "source": [
    "## Nombre de chansons aimées par utilisateur"
   ]
  },
  {
   "cell_type": "code",
   "execution_count": 31,
   "metadata": {},
   "outputs": [],
   "source": [
    "nb_chanson_like=train.groupby(\"msno\")['target'].apply(lambda x: x.sum() / x.count())"
   ]
  },
  {
   "cell_type": "code",
   "execution_count": 49,
   "metadata": {},
   "outputs": [
    {
     "data": {
      "image/png": "[encoded data removed]",
      "text/plain": [
       "<matplotlib.figure.Figure at 0x21e23f5dfd0>"
      ]
     },
     "metadata": {},
     "output_type": "display_data"
    }
   ],
   "source": [
    "sns.distplot(nb_chanson_like,kde=False)\n",
    "plt.xlabel(\"fréquence de chanson appréciée\")\n",
    "plt.ylabel(\"nombre d'utilisateur\")\n",
    "plt.show()"
   ]
  },
  {
   "cell_type": "code",
   "execution_count": 48,
   "metadata": {},
   "outputs": [
    {
     "data": {
      "text/plain": [
       "3931"
      ]
     },
     "execution_count": 48,
     "metadata": {},
     "output_type": "execute_result"
    }
   ],
   "source": [
    "sum(nb_chanson_like<0.04)"
   ]
  },
  {
   "cell_type": "markdown",
   "metadata": {},
   "source": [
    "## Popularité des chansons "
   ]
  },
  {
   "cell_type": "code",
   "execution_count": 50,
   "metadata": {
    "collapsed": true
   },
   "outputs": [],
   "source": [
    "\n",
    "nb_like_chanson=train.groupby(\"song_id\")['target'].apply(lambda x: x.sum() / x.count())"
   ]
  },
  {
   "cell_type": "code",
   "execution_count": 51,
   "metadata": {},
   "outputs": [
    {
     "data": {
      "image/png": "[encoded data removed]",
      "text/plain": [
       "<matplotlib.figure.Figure at 0x21e2389c198>"
      ]
     },
     "metadata": {},
     "output_type": "display_data"
    }
   ],
   "source": [
    "sns.distplot(nb_like_chanson,kde=False)\n",
    "plt.xlabel(\"fréquence d'utilisateur satisfait par une chanson\")\n",
    "plt.ylabel(\"nombre de chanson\")\n",
    "plt.show()"
   ]
  },
  {
   "cell_type": "markdown",
   "metadata": {},
   "source": [
    "Beaucoup de chansons aux extrêmes correspondant aux chansons écoutées qu'une ou deux fois, gardons que les chansons qui ont été écoutées au moins 10 fois :"
   ]
  },
  {
   "cell_type": "code",
   "execution_count": 91,
   "metadata": {},
   "outputs": [],
   "source": [
    "a=train.groupby(\"song_id\").count()\n",
    "b=a.where(a['msno']>=10 ).dropna()\n",
    "mask = train['song_id'].isin(b.index)\n",
    "train=train[mask]\n",
    "## Sélectionne que les chansons écoutées au moins 10 fois"
   ]
  },
  {
   "cell_type": "code",
   "execution_count": 92,
   "metadata": {},
   "outputs": [],
   "source": [
    "nb_like_chanson=train.groupby(\"song_id\")['target'].apply(lambda x: x.sum() / x.count())"
   ]
  },
  {
   "cell_type": "code",
   "execution_count": 93,
   "metadata": {},
   "outputs": [
    {
     "data": {
      "image/png": "[encoded data removed]",
      "text/plain": [
       "<matplotlib.figure.Figure at 0x21e245be320>"
      ]
     },
     "metadata": {},
     "output_type": "display_data"
    }
   ],
   "source": [
    "sns.distplot(nb_like_chanson,kde=False)\n",
    "plt.xlabel(\"fréquence d'utilisateur satisfait par une chanson\")\n",
    "plt.ylabel(\"nombre de chanson\")\n",
    "plt.show()"
   ]
  },
  {
   "cell_type": "code",
   "execution_count": null,
   "metadata": {
    "collapsed": true
   },
   "outputs": [],
   "source": []
  }
 ],
 "metadata": {
  "kernelspec": {
   "display_name": "Python 3",
   "language": "python",
   "name": "python3"
  },
  "language_info": {
   "codemirror_mode": {
    "name": "ipython",
    "version": 3
   },
   "file_extension": ".py",
   "mimetype": "text/x-python",
   "name": "python",
   "nbconvert_exporter": "python",
   "pygments_lexer": "ipython3",
   "version": "3.6.2"
  }
 },
 "nbformat": 4,
 "nbformat_minor": 2
}
