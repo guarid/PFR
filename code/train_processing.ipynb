{
 "cells": [
  {
   "cell_type": "code",
   "execution_count": 1,
   "metadata": {
    "collapsed": true
   },
   "outputs": [],
   "source": [
    "import pandas as pd\n",
    "import numpy as np\n",
    "from os.path import join\n",
    "import matplotlib.pyplot as plt\n",
    "from sklearn.preprocessing import LabelEncoder\n",
    "from sklearn.model_selection import train_test_split\n",
    "from sklearn.preprocessing import StandardScaler\n",
    "from sklearn.metrics import accuracy_score, confusion_matrix \n",
    "from sklearn import linear_model\n",
    "from sklearn.svm import SVC"
   ]
  },
  {
   "cell_type": "code",
   "execution_count": 2,
   "metadata": {
    "collapsed": true
   },
   "outputs": [],
   "source": [
    "#Chargement des données\n",
    "path_raw = '/Users/hermann-kevin/Desktop/PFR/data/raw_data/'\n",
    "file_train = 'train.csv'"
   ]
  },
  {
   "cell_type": "code",
   "execution_count": 3,
   "metadata": {
    "collapsed": true
   },
   "outputs": [],
   "source": [
    "train = pd.read_csv(join(path_raw, file_train), error_bad_lines=False)"
   ]
  },
  {
   "cell_type": "code",
   "execution_count": 4,
   "metadata": {},
   "outputs": [
    {
     "data": {
      "text/plain": [
       "(7377418, 6)"
      ]
     },
     "execution_count": 4,
     "metadata": {},
     "output_type": "execute_result"
    }
   ],
   "source": [
    "train.shape"
   ]
  },
  {
   "cell_type": "code",
   "execution_count": 5,
   "metadata": {
    "collapsed": true
   },
   "outputs": [],
   "source": [
    "#On prend 300000 chansons dans la base \n",
    "trainPart = train.head(300000)"
   ]
  },
  {
   "cell_type": "code",
   "execution_count": 6,
   "metadata": {},
   "outputs": [
    {
     "data": {
      "text/plain": [
       "11330"
      ]
     },
     "execution_count": 6,
     "metadata": {},
     "output_type": "execute_result"
    }
   ],
   "source": [
    "#Nombre d'utilisateurs\n",
    "len(trainPart.msno.unique())"
   ]
  },
  {
   "cell_type": "code",
   "execution_count": 7,
   "metadata": {
    "scrolled": true
   },
   "outputs": [
    {
     "name": "stdout",
     "output_type": "stream",
     "text": [
      "Le nombre d'utilisateur avec plus de 10 chansons:  7678\n"
     ]
    }
   ],
   "source": [
    "# Les utilisateurs qui ont plus de 10 chansons dans le trainPart\n",
    "usr_more_song = trainPart.groupby(['msno'])['song_id'].agg('count')\n",
    "usr_more_song = pd.DataFrame(usr_more_song).reset_index()\n",
    "usr_more_song.columns = [['msno', 'song_number']]\n",
    "usr_most = usr_more_song[usr_more_song.song_number >= 10]\n",
    "print(\"Le nombre d'utilisateur avec plus de 10 chansons: \", len(usr_most))"
   ]
  },
  {
   "cell_type": "code",
   "execution_count": 8,
   "metadata": {
    "scrolled": true
   },
   "outputs": [
    {
     "data": {
      "text/html": [
       "<div>\n",
       "<style>\n",
       "    .dataframe thead tr:only-child th {\n",
       "        text-align: right;\n",
       "    }\n",
       "\n",
       "    .dataframe thead th {\n",
       "        text-align: left;\n",
       "    }\n",
       "\n",
       "    .dataframe tbody tr th {\n",
       "        vertical-align: top;\n",
       "    }\n",
       "</style>\n",
       "<table border=\"1\" class=\"dataframe\">\n",
       "  <thead>\n",
       "    <tr style=\"text-align: right;\">\n",
       "      <th></th>\n",
       "      <th>index_mem</th>\n",
       "      <th>msno</th>\n",
       "    </tr>\n",
       "  </thead>\n",
       "  <tbody>\n",
       "    <tr>\n",
       "      <th>0</th>\n",
       "      <td>0</td>\n",
       "      <td>+/SKX44s4ryWQzYzuV7ZKMXqIKQMN1cPz3M8CJ8CFKU=</td>\n",
       "    </tr>\n",
       "    <tr>\n",
       "      <th>1</th>\n",
       "      <td>1</td>\n",
       "      <td>+0+XaewkS3za58vHwKCVGwRYRvjig4lTtKDV/tOkzbU=</td>\n",
       "    </tr>\n",
       "    <tr>\n",
       "      <th>2</th>\n",
       "      <td>2</td>\n",
       "      <td>+0B4aHABar5ltaWDG4M6KCzNxpD6wnsvZpvh+o9KgtE=</td>\n",
       "    </tr>\n",
       "    <tr>\n",
       "      <th>3</th>\n",
       "      <td>3</td>\n",
       "      <td>+0U8n45rrg6b5WCy3wpqOUYCwZyLqecr3lux9K6ahMk=</td>\n",
       "    </tr>\n",
       "    <tr>\n",
       "      <th>4</th>\n",
       "      <td>4</td>\n",
       "      <td>+0e12C+p9dzDbOvKjt8eElKH9yZPshAstxjm60XFgSM=</td>\n",
       "    </tr>\n",
       "  </tbody>\n",
       "</table>\n",
       "</div>"
      ],
      "text/plain": [
       "   index_mem                                          msno\n",
       "0          0  +/SKX44s4ryWQzYzuV7ZKMXqIKQMN1cPz3M8CJ8CFKU=\n",
       "1          1  +0+XaewkS3za58vHwKCVGwRYRvjig4lTtKDV/tOkzbU=\n",
       "2          2  +0B4aHABar5ltaWDG4M6KCzNxpD6wnsvZpvh+o9KgtE=\n",
       "3          3  +0U8n45rrg6b5WCy3wpqOUYCwZyLqecr3lux9K6ahMk=\n",
       "4          4  +0e12C+p9dzDbOvKjt8eElKH9yZPshAstxjm60XFgSM="
      ]
     },
     "execution_count": 8,
     "metadata": {},
     "output_type": "execute_result"
    }
   ],
   "source": [
    "# Je donne un numero à chaque utilisateur. Pour avoir une variable catégorielle dans mes données par la suite\n",
    "usr_id = usr_most.reset_index(drop=True)\n",
    "usr_id = usr_id.reset_index()\n",
    "usr_id = usr_id[['index', 'msno']]\n",
    "usr_id.columns = ['index_mem', 'msno']\n",
    "usr_id.head()"
   ]
  },
  {
   "cell_type": "code",
   "execution_count": 9,
   "metadata": {},
   "outputs": [
    {
     "data": {
      "text/html": [
       "<div>\n",
       "<style>\n",
       "    .dataframe thead tr:only-child th {\n",
       "        text-align: right;\n",
       "    }\n",
       "\n",
       "    .dataframe thead th {\n",
       "        text-align: left;\n",
       "    }\n",
       "\n",
       "    .dataframe tbody tr th {\n",
       "        vertical-align: top;\n",
       "    }\n",
       "</style>\n",
       "<table border=\"1\" class=\"dataframe\">\n",
       "  <thead>\n",
       "    <tr style=\"text-align: right;\">\n",
       "      <th></th>\n",
       "      <th>index_song</th>\n",
       "      <th>song_id</th>\n",
       "    </tr>\n",
       "  </thead>\n",
       "  <tbody>\n",
       "    <tr>\n",
       "      <th>0</th>\n",
       "      <td>0</td>\n",
       "      <td>++7GdTgp8zbQLYOki7hVPEOHpu+KLZClsGrGiEuL2uI=</td>\n",
       "    </tr>\n",
       "    <tr>\n",
       "      <th>1</th>\n",
       "      <td>1</td>\n",
       "      <td>++CfKs1t1wU1t0q0UxCdRqGoDpToqgMPmYytklaqo9o=</td>\n",
       "    </tr>\n",
       "    <tr>\n",
       "      <th>2</th>\n",
       "      <td>2</td>\n",
       "      <td>++HlV9O/nnF8fmlWOgsrJSxO+rx75nHWuE6O3ykpVS8=</td>\n",
       "    </tr>\n",
       "    <tr>\n",
       "      <th>3</th>\n",
       "      <td>3</td>\n",
       "      <td>++NP2gO99EW6w6sm4E1XP20nx8FhbBxsK9fOvbPHwd0=</td>\n",
       "    </tr>\n",
       "    <tr>\n",
       "      <th>4</th>\n",
       "      <td>4</td>\n",
       "      <td>++QYBUGIUXrSsYfBPDW4PN5V6wnlJzLYCwP+FS9gMnY=</td>\n",
       "    </tr>\n",
       "  </tbody>\n",
       "</table>\n",
       "</div>"
      ],
      "text/plain": [
       "   index_song                                       song_id\n",
       "0           0  ++7GdTgp8zbQLYOki7hVPEOHpu+KLZClsGrGiEuL2uI=\n",
       "1           1  ++CfKs1t1wU1t0q0UxCdRqGoDpToqgMPmYytklaqo9o=\n",
       "2           2  ++HlV9O/nnF8fmlWOgsrJSxO+rx75nHWuE6O3ykpVS8=\n",
       "3           3  ++NP2gO99EW6w6sm4E1XP20nx8FhbBxsK9fOvbPHwd0=\n",
       "4           4  ++QYBUGIUXrSsYfBPDW4PN5V6wnlJzLYCwP+FS9gMnY="
      ]
     },
     "execution_count": 9,
     "metadata": {},
     "output_type": "execute_result"
    }
   ],
   "source": [
    "# Je donne également un numero à chaque chanson\n",
    "song_more = trainPart.groupby(['song_id'])['msno'] .agg('count')\n",
    "song_more = pd.DataFrame(song_more).reset_index()\n",
    "\n",
    "song_id = song_more.reset_index(drop=True)\n",
    "song_id = song_id.reset_index()\n",
    "song_id = song_id[['index', 'song_id']]\n",
    "song_id.columns = ['index_song', 'song_id']\n",
    "song_id.head()"
   ]
  },
  {
   "cell_type": "code",
   "execution_count": 10,
   "metadata": {},
   "outputs": [],
   "source": [
    "#On garde uniquement les chansons des 7678 utilisateurs\n",
    "usr_list = list(usr_most.msno)\n",
    "data = pd.DataFrame()\n",
    "for usr in usr_list:\n",
    "    data = data.append(trainPart[trainPart.msno == usr])\n"
   ]
  },
  {
   "cell_type": "code",
   "execution_count": 11,
   "metadata": {},
   "outputs": [
    {
     "data": {
      "text/plain": [
       "282251"
      ]
     },
     "execution_count": 11,
     "metadata": {},
     "output_type": "execute_result"
    }
   ],
   "source": [
    "#Nombre de données restantes\n",
    "len(data)"
   ]
  },
  {
   "cell_type": "code",
   "execution_count": 12,
   "metadata": {},
   "outputs": [
    {
     "data": {
      "text/html": [
       "<div>\n",
       "<style>\n",
       "    .dataframe thead tr:only-child th {\n",
       "        text-align: right;\n",
       "    }\n",
       "\n",
       "    .dataframe thead th {\n",
       "        text-align: left;\n",
       "    }\n",
       "\n",
       "    .dataframe tbody tr th {\n",
       "        vertical-align: top;\n",
       "    }\n",
       "</style>\n",
       "<table border=\"1\" class=\"dataframe\">\n",
       "  <thead>\n",
       "    <tr style=\"text-align: right;\">\n",
       "      <th></th>\n",
       "      <th>msno</th>\n",
       "      <th>song_id</th>\n",
       "      <th>source_system_tab</th>\n",
       "      <th>source_screen_name</th>\n",
       "      <th>source_type</th>\n",
       "      <th>target</th>\n",
       "    </tr>\n",
       "  </thead>\n",
       "  <tbody>\n",
       "    <tr>\n",
       "      <th>65094</th>\n",
       "      <td>+/SKX44s4ryWQzYzuV7ZKMXqIKQMN1cPz3M8CJ8CFKU=</td>\n",
       "      <td>SiEK8IZqD9pbPgaG2GZWVO/WKE1e7Hnqhn/vlML3cqE=</td>\n",
       "      <td>my library</td>\n",
       "      <td>Local playlist more</td>\n",
       "      <td>local-library</td>\n",
       "      <td>1</td>\n",
       "    </tr>\n",
       "    <tr>\n",
       "      <th>65095</th>\n",
       "      <td>+/SKX44s4ryWQzYzuV7ZKMXqIKQMN1cPz3M8CJ8CFKU=</td>\n",
       "      <td>YN4T/yvvXtYrBVN8KTnieiQohHL3T9fnzUkbLWcgLro=</td>\n",
       "      <td>discover</td>\n",
       "      <td>Online playlist more</td>\n",
       "      <td>online-playlist</td>\n",
       "      <td>1</td>\n",
       "    </tr>\n",
       "    <tr>\n",
       "      <th>65096</th>\n",
       "      <td>+/SKX44s4ryWQzYzuV7ZKMXqIKQMN1cPz3M8CJ8CFKU=</td>\n",
       "      <td>9kvPtsVoRFyh96q8Sk+UiMAPPTaeVvwUAjAUXgpj9NM=</td>\n",
       "      <td>my library</td>\n",
       "      <td>Local playlist more</td>\n",
       "      <td>local-library</td>\n",
       "      <td>1</td>\n",
       "    </tr>\n",
       "    <tr>\n",
       "      <th>71256</th>\n",
       "      <td>+/SKX44s4ryWQzYzuV7ZKMXqIKQMN1cPz3M8CJ8CFKU=</td>\n",
       "      <td>KZ5hwP74wRO6kRapVIprwodtNdVD2EVD3hkZmmyXFPk=</td>\n",
       "      <td>discover</td>\n",
       "      <td>Online playlist more</td>\n",
       "      <td>online-playlist</td>\n",
       "      <td>1</td>\n",
       "    </tr>\n",
       "    <tr>\n",
       "      <th>71257</th>\n",
       "      <td>+/SKX44s4ryWQzYzuV7ZKMXqIKQMN1cPz3M8CJ8CFKU=</td>\n",
       "      <td>3VkD5ekIf5duJm1hmYTZlXjyl0zqV8wCzuAh3uocfCg=</td>\n",
       "      <td>discover</td>\n",
       "      <td>Online playlist more</td>\n",
       "      <td>online-playlist</td>\n",
       "      <td>1</td>\n",
       "    </tr>\n",
       "  </tbody>\n",
       "</table>\n",
       "</div>"
      ],
      "text/plain": [
       "                                               msno  \\\n",
       "65094  +/SKX44s4ryWQzYzuV7ZKMXqIKQMN1cPz3M8CJ8CFKU=   \n",
       "65095  +/SKX44s4ryWQzYzuV7ZKMXqIKQMN1cPz3M8CJ8CFKU=   \n",
       "65096  +/SKX44s4ryWQzYzuV7ZKMXqIKQMN1cPz3M8CJ8CFKU=   \n",
       "71256  +/SKX44s4ryWQzYzuV7ZKMXqIKQMN1cPz3M8CJ8CFKU=   \n",
       "71257  +/SKX44s4ryWQzYzuV7ZKMXqIKQMN1cPz3M8CJ8CFKU=   \n",
       "\n",
       "                                            song_id source_system_tab  \\\n",
       "65094  SiEK8IZqD9pbPgaG2GZWVO/WKE1e7Hnqhn/vlML3cqE=        my library   \n",
       "65095  YN4T/yvvXtYrBVN8KTnieiQohHL3T9fnzUkbLWcgLro=          discover   \n",
       "65096  9kvPtsVoRFyh96q8Sk+UiMAPPTaeVvwUAjAUXgpj9NM=        my library   \n",
       "71256  KZ5hwP74wRO6kRapVIprwodtNdVD2EVD3hkZmmyXFPk=          discover   \n",
       "71257  3VkD5ekIf5duJm1hmYTZlXjyl0zqV8wCzuAh3uocfCg=          discover   \n",
       "\n",
       "         source_screen_name      source_type  target  \n",
       "65094   Local playlist more    local-library       1  \n",
       "65095  Online playlist more  online-playlist       1  \n",
       "65096   Local playlist more    local-library       1  \n",
       "71256  Online playlist more  online-playlist       1  \n",
       "71257  Online playlist more  online-playlist       1  "
      ]
     },
     "execution_count": 12,
     "metadata": {},
     "output_type": "execute_result"
    }
   ],
   "source": [
    "data.head()"
   ]
  },
  {
   "cell_type": "code",
   "execution_count": 13,
   "metadata": {},
   "outputs": [],
   "source": [
    "#Encodage des variables catégorielles\n",
    "encode_lab = LabelEncoder()\n",
    "dataEncode = pd.get_dummies(data, columns=['source_system_tab', 'source_screen_name', 'source_type'])"
   ]
  },
  {
   "cell_type": "code",
   "execution_count": 14,
   "metadata": {},
   "outputs": [
    {
     "data": {
      "text/plain": [
       "Index(['msno', 'song_id', 'target', 'source_system_tab_discover',\n",
       "       'source_system_tab_explore', 'source_system_tab_listen with',\n",
       "       'source_system_tab_my library', 'source_system_tab_notification',\n",
       "       'source_system_tab_null', 'source_system_tab_radio',\n",
       "       'source_system_tab_search', 'source_system_tab_settings',\n",
       "       'source_screen_name_Album more', 'source_screen_name_Artist more',\n",
       "       'source_screen_name_Discover Chart',\n",
       "       'source_screen_name_Discover Feature',\n",
       "       'source_screen_name_Discover Genre', 'source_screen_name_Discover New',\n",
       "       'source_screen_name_Explore', 'source_screen_name_Local playlist more',\n",
       "       'source_screen_name_My library', 'source_screen_name_My library_Search',\n",
       "       'source_screen_name_Online playlist more',\n",
       "       'source_screen_name_Others profile more', 'source_screen_name_Radio',\n",
       "       'source_screen_name_Search', 'source_screen_name_Search Home',\n",
       "       'source_screen_name_Search Trends',\n",
       "       'source_screen_name_Self profile more', 'source_screen_name_Unknown',\n",
       "       'source_type_album', 'source_type_artist', 'source_type_listen-with',\n",
       "       'source_type_local-library', 'source_type_local-playlist',\n",
       "       'source_type_online-playlist', 'source_type_radio', 'source_type_song',\n",
       "       'source_type_song-based-playlist', 'source_type_top-hits-for-artist',\n",
       "       'source_type_topic-article-playlist'],\n",
       "      dtype='object')"
      ]
     },
     "execution_count": 14,
     "metadata": {},
     "output_type": "execute_result"
    }
   ],
   "source": [
    "dataEncode.columns"
   ]
  },
  {
   "cell_type": "code",
   "execution_count": 15,
   "metadata": {},
   "outputs": [],
   "source": [
    "# On modifie les colonnes de chansons et membres pour avoir que des valeurs numériques\n",
    "dataEncode = dataEncode.merge(song_id, left_on='song_id', right_on='song_id')\n",
    "dataEncode = dataEncode.merge(usr_id, left_on='msno', right_on='msno')"
   ]
  },
  {
   "cell_type": "code",
   "execution_count": 16,
   "metadata": {},
   "outputs": [],
   "source": [
    "dataEncode = dataEncode.iloc[:, 2:]"
   ]
  },
  {
   "cell_type": "code",
   "execution_count": 23,
   "metadata": {},
   "outputs": [],
   "source": [
    "X = dataEncode.iloc[:, 1:]\n",
    "Y = dataEncode['target']"
   ]
  },
  {
   "cell_type": "code",
   "execution_count": 24,
   "metadata": {},
   "outputs": [],
   "source": [
    "#Split en train test\n",
    "Xav, Xt, Yav, Yt = train_test_split(X, Y, shuffle=True, test_size=0.2, stratify=Y)\n",
    "Xa, Xv, Ya, Yv = train_test_split(Xav, Yav, shuffle=True, test_size=0.3, stratify=Yav)"
   ]
  },
  {
   "cell_type": "code",
   "execution_count": 25,
   "metadata": {},
   "outputs": [],
   "source": [
    "#%% Normalisation\n",
    "sc = StandardScaler(with_mean=True, with_std=True)\n",
    "sc = sc.fit(Xav)\n",
    "Xav = sc.transform(Xav)\n",
    "Xa = sc.transform(Xa)\n",
    "Xv = sc.transform(Xv)\n",
    "Xt = sc.transform(Xt)"
   ]
  },
  {
   "cell_type": "code",
   "execution_count": null,
   "metadata": {},
   "outputs": [
    {
     "data": {
      "text/plain": [
       "SVC(C=1, cache_size=200, class_weight=None, coef0=0.0,\n",
       "  decision_function_shape='ovr', degree=3, gamma=1, kernel='rbf',\n",
       "  max_iter=-1, probability=False, random_state=None, shrinking=True,\n",
       "  tol=0.001, verbose=False)"
      ]
     },
     "execution_count": 29,
     "metadata": {},
     "output_type": "execute_result"
    }
   ],
   "source": [
    "#%% Définition du modèle\n",
    "paramC = 1\n",
    "paramKer = 1\n",
    "#Les paramètres de C sont les paramètres de base et seront modifiés par la suite\n",
    "clf_ker = SVC(kernel='rbf', C = paramC, gamma=paramKer)\n",
    "# apprentissage des parametres du SVM non Lineaire sur le jeu d'apprentissage\n",
    "clf_ker.fit(Xa, Ya)"
   ]
  },
  {
   "cell_type": "code",
   "execution_count": null,
   "metadata": {},
   "outputs": [
    {
     "name": "stdout",
     "output_type": "stream",
     "text": [
      "- Apprentissage du SVM pour C =  0.001 \n",
      "\t Apprentissage du SVM pour gamma =   0.01 \n",
      "\t Apprentissage du SVM pour gamma =   0.06 \n",
      "\t Apprentissage du SVM pour gamma =   0.40 \n",
      "\t Apprentissage du SVM pour gamma =   2.51 \n",
      "\t Apprentissage du SVM pour gamma =  15.85 \n",
      "\t Apprentissage du SVM pour gamma = 100.00 \n",
      "- Apprentissage du SVM pour C =  0.010 \n",
      "\t Apprentissage du SVM pour gamma =   0.01 \n",
      "\t Apprentissage du SVM pour gamma =   0.06 \n",
      "\t Apprentissage du SVM pour gamma =   0.40 \n"
     ]
    }
   ],
   "source": [
    "#%% Grid search (exploration des plages de valeurs de C et gamma)\n",
    "vectC = np.logspace(-3, 2, 6)\n",
    "vectGamma = np.logspace(-2, 2, 6)\n",
    "err_val = np.empty((vectC.shape[0], vectGamma.shape[0]))\n",
    "err_app = np.empty((vectC.shape[0], vectGamma.shape[0])) \n",
    "for ind_C, C in enumerate(vectC):\n",
    "    print(\"- Apprentissage du SVM pour C = {:6.3f} \".format(C)) \n",
    "    clf_ker.C = C\n",
    "    for ind_gam, paramKer in enumerate(vectGamma):\n",
    "        print(\"\\t Apprentissage du SVM pour gamma = {:6.2f} \".format( paramKer))\n",
    "        clf_ker.gamma = paramKer\n",
    "        clf_ker.fit(Xa, Ya)\n",
    "        err_val[ind_C, ind_gam] = 1 - accuracy_score(Yv, clf_ker.predict(Xv))\n",
    "        err_app[ind_C, ind_gam] = 1 - accuracy_score(Ya, clf_ker.predict(Xa))\n",
    "\n",
    "plt.subplot(121)\n",
    "plt.imshow(err_val, aspect=\"auto\")\n",
    "plt.title(\"Err validation\")\n",
    "plt.colorbar()\n",
    "plt.show()\n",
    "plt.subplot(122)\n",
    "plt.imshow(err_app, aspect=\"auto\")\n",
    "plt.title(\"Err apprentissage\")\n",
    "plt.colorbar()\n",
    "plt.show()"
   ]
  },
  {
   "cell_type": "code",
   "execution_count": null,
   "metadata": {
    "collapsed": true
   },
   "outputs": [],
   "source": [
    "# Apprentissage modele optimal et evaluation\n",
    "clf_ker.C = Copt\n",
    "clf_ker.gamma = GammaOpt\n",
    "clf_ker.fit(Xav, Yav)\n",
    "err_app = 1 - accuracy_score(Yav, clf_ker.predict(Xav)) \n",
    "print(\"\\nSVM kernel optimal : erreur apprentissage = {}%\".format(100*err_app))\n",
    "\n",
    "err_test = 1 - accuracy_score(Yt, clf_ker.predict(Xt))\n",
    "print(\"SVM kernel optimal : erreur test = {}%\".format(100*err_test))"
   ]
  },
  {
   "cell_type": "code",
   "execution_count": 26,
   "metadata": {
    "collapsed": true
   },
   "outputs": [],
   "source": [
    "#%% Régression logistique\n",
    "#On va d'abord déterminer la valeur optimale du paramètre C à utiliser.\n",
    "\n",
    "clf_reglog = linear_model.LogisticRegression(tol=1e-5, multi_class='multinomial', solver='lbfgs')\n",
    "#Les valeurs de C que je teste sont entre 10^-3 et 10\n",
    "# Les tests initiaux avec d'autres valeurs ont montré qu'au dela de ces limites, l'erreur est stable\n",
    "vectC = np.logspace(-3, 1, 20)\n",
    "err_app = np.empty(vectC.shape[0])\n",
    "err_val = np.empty(vectC.shape[0])\n",
    "for ind_C, C in enumerate(vectC):\n",
    "    clf_reglog.C = C\n",
    "    clf_reglog.fit(Xa, Ya)\n",
    "    err_val[ind_C] = 1 - accuracy_score(Yv, clf_reglog.predict(Xv))\n",
    "    err_app[ind_C] = 1 - accuracy_score(Ya, clf_reglog.predict(Xa))\n"
   ]
  },
  {
   "cell_type": "code",
   "execution_count": 27,
   "metadata": {
    "collapsed": true
   },
   "outputs": [],
   "source": [
    "# Choix du meilleur C\n",
    "err_min_val, ind_min = err_val.min(), err_val.argmin()\n",
    "Copt = vectC[ind_min]"
   ]
  },
  {
   "cell_type": "code",
   "execution_count": 28,
   "metadata": {},
   "outputs": [
    {
     "name": "stdout",
     "output_type": "stream",
     "text": [
      "Valeur de Copt = 10.0\n",
      "RegLog: Err test correspondante = 23.671857008733234\n",
      "RegLog: Err apprentissage correspondante = 23.64083259521701\n"
     ]
    }
   ],
   "source": [
    "#%% On utilise ensuite la meilleure valeur de C sur les données de tests pour voir si la prédiction est toujours performante\n",
    "clf_reglog.C = Copt\n",
    "clf_reglog.fit(Xav, Yav)\n",
    "print('Valeur de Copt = {}'.format(Copt ))\n",
    "print('RegLog: Err test correspondante = {}'.format(100*(1 - accuracy_score(Yt, clf_reglog.predict(Xt)))))\n",
    "print('RegLog: Err apprentissage correspondante = {}'.format(100*(1 - accuracy_score(Yav, clf_reglog.predict(Xav)))))"
   ]
  },
  {
   "cell_type": "code",
   "execution_count": null,
   "metadata": {
    "collapsed": true
   },
   "outputs": [],
   "source": []
  }
 ],
 "metadata": {
  "kernelspec": {
   "display_name": "Python 3",
   "language": "python",
   "name": "python3"
  },
  "language_info": {
   "codemirror_mode": {
    "name": "ipython",
    "version": 3
   },
   "file_extension": ".py",
   "mimetype": "text/x-python",
   "name": "python",
   "nbconvert_exporter": "python",
   "pygments_lexer": "ipython3",
   "version": "3.6.2"
  }
 },
 "nbformat": 4,
 "nbformat_minor": 2
}
