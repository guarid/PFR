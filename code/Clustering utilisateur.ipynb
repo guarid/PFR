{
 "cells": [
  {
   "cell_type": "code",
   "execution_count": 4,
   "metadata": {
    "collapsed": true
   },
   "outputs": [],
   "source": [
    "import pandas as pd\n",
    "pos=pd.read_excel('score_traina_pos_genre_utilisateur.xlsx')\n",
    "neg=pd.read_excel('score_traina_neg_genre_utilisateur.xlsx')"
   ]
  },
  {
   "cell_type": "code",
   "execution_count": 5,
   "metadata": {
    "collapsed": true
   },
   "outputs": [],
   "source": [
    "index=pos.index.union(neg.index)"
   ]
  },
  {
   "cell_type": "code",
   "execution_count": 6,
   "metadata": {
    "collapsed": true
   },
   "outputs": [],
   "source": [
    "score=pos.loc[index].fillna(0).add(neg.loc[index].fillna(0),fill_value=0)"
   ]
  },
  {
   "cell_type": "code",
   "execution_count": 25,
   "metadata": {
    "collapsed": true
   },
   "outputs": [],
   "source": [
    "valid=pd.read_csv('valid')# dataset de validation"
   ]
  },
  {
   "cell_type": "code",
   "execution_count": 8,
   "metadata": {
    "collapsed": true
   },
   "outputs": [],
   "source": [
    "from os.path import join\n",
    "path_raw = 'D:/Documents/Machine learning/Projet'\n",
    "file_train = 'train.csv'\n",
    "train = pd.read_csv(join(path_raw, file_train), error_bad_lines=False)"
   ]
  },
  {
   "cell_type": "code",
   "execution_count": 9,
   "metadata": {
    "collapsed": true
   },
   "outputs": [],
   "source": [
    "app=train[~train.index.isin(valid.loc[:,'Unnamed: 0'])]# dataset d'apprentissage"
   ]
  },
  {
   "cell_type": "code",
   "execution_count": 10,
   "metadata": {},
   "outputs": [
    {
     "data": {
      "text/html": [
       "<div>\n",
       "<style>\n",
       "    .dataframe thead tr:only-child th {\n",
       "        text-align: right;\n",
       "    }\n",
       "\n",
       "    .dataframe thead th {\n",
       "        text-align: left;\n",
       "    }\n",
       "\n",
       "    .dataframe tbody tr th {\n",
       "        vertical-align: top;\n",
       "    }\n",
       "</style>\n",
       "<table border=\"1\" class=\"dataframe\">\n",
       "  <thead>\n",
       "    <tr style=\"text-align: right;\">\n",
       "      <th></th>\n",
       "      <th>msno</th>\n",
       "      <th>song_id</th>\n",
       "      <th>source_system_tab</th>\n",
       "      <th>source_screen_name</th>\n",
       "      <th>source_type</th>\n",
       "      <th>target</th>\n",
       "    </tr>\n",
       "  </thead>\n",
       "  <tbody>\n",
       "    <tr>\n",
       "      <th>0</th>\n",
       "      <td>FGtllVqz18RPiwJj/edr2gV78zirAiY/9SmYvia+kCg=</td>\n",
       "      <td>BBzumQNXUHKdEBOB7mAJuzok+IJA1c2Ryg/yzTF6tik=</td>\n",
       "      <td>explore</td>\n",
       "      <td>Explore</td>\n",
       "      <td>online-playlist</td>\n",
       "      <td>1</td>\n",
       "    </tr>\n",
       "    <tr>\n",
       "      <th>1</th>\n",
       "      <td>Xumu+NIjS6QYVxDS4/t3SawvJ7viT9hPKXmf0RtLNx8=</td>\n",
       "      <td>bhp/MpSNoqoxOIB+/l8WPqu6jldth4DIpCm3ayXnJqM=</td>\n",
       "      <td>my library</td>\n",
       "      <td>Local playlist more</td>\n",
       "      <td>local-playlist</td>\n",
       "      <td>1</td>\n",
       "    </tr>\n",
       "    <tr>\n",
       "      <th>2</th>\n",
       "      <td>Xumu+NIjS6QYVxDS4/t3SawvJ7viT9hPKXmf0RtLNx8=</td>\n",
       "      <td>JNWfrrC7zNN7BdMpsISKa4Mw+xVJYNnxXh3/Epw7QgY=</td>\n",
       "      <td>my library</td>\n",
       "      <td>Local playlist more</td>\n",
       "      <td>local-playlist</td>\n",
       "      <td>1</td>\n",
       "    </tr>\n",
       "    <tr>\n",
       "      <th>4</th>\n",
       "      <td>FGtllVqz18RPiwJj/edr2gV78zirAiY/9SmYvia+kCg=</td>\n",
       "      <td>3qm6XTZ6MOCU11x8FIVbAGH5l5uMkT3/ZalWG1oo2Gc=</td>\n",
       "      <td>explore</td>\n",
       "      <td>Explore</td>\n",
       "      <td>online-playlist</td>\n",
       "      <td>1</td>\n",
       "    </tr>\n",
       "    <tr>\n",
       "      <th>5</th>\n",
       "      <td>FGtllVqz18RPiwJj/edr2gV78zirAiY/9SmYvia+kCg=</td>\n",
       "      <td>3Hg5kugV1S0wzEVLAEfqjIV5UHzb7bCrdBRQlGygLvU=</td>\n",
       "      <td>explore</td>\n",
       "      <td>Explore</td>\n",
       "      <td>online-playlist</td>\n",
       "      <td>1</td>\n",
       "    </tr>\n",
       "    <tr>\n",
       "      <th>7</th>\n",
       "      <td>FGtllVqz18RPiwJj/edr2gV78zirAiY/9SmYvia+kCg=</td>\n",
       "      <td>bPIvRTzfHxH5LgHrStll+tYwSQNVV8PySgA3M1PfTgc=</td>\n",
       "      <td>explore</td>\n",
       "      <td>Explore</td>\n",
       "      <td>online-playlist</td>\n",
       "      <td>1</td>\n",
       "    </tr>\n",
       "    <tr>\n",
       "      <th>8</th>\n",
       "      <td>uHqAtShXTRXju5GE8ri3ITsVFepPf8jUoCF7ffNOuqE=</td>\n",
       "      <td>/bU6IRSK+YNlNbaTkxo7bhsb2EDLPrnksdX3ggcZNhI=</td>\n",
       "      <td>my library</td>\n",
       "      <td>Local playlist more</td>\n",
       "      <td>local-library</td>\n",
       "      <td>1</td>\n",
       "    </tr>\n",
       "    <tr>\n",
       "      <th>9</th>\n",
       "      <td>uHqAtShXTRXju5GE8ri3ITsVFepPf8jUoCF7ffNOuqE=</td>\n",
       "      <td>EbI7xoNxI+3QSsiHxL13zBdgHIJOwa3srHd7cDcnJ0g=</td>\n",
       "      <td>my library</td>\n",
       "      <td>Local playlist more</td>\n",
       "      <td>local-library</td>\n",
       "      <td>1</td>\n",
       "    </tr>\n",
       "    <tr>\n",
       "      <th>12</th>\n",
       "      <td>TJU0Gfvy7FB+r89bWovPKXTjuApTCiv3xg/tt5shR78=</td>\n",
       "      <td>u6/Pb7X4u7KU4gXrBgGqt8RlRrNNFLn03tLAHyxRxwA=</td>\n",
       "      <td>my library</td>\n",
       "      <td>NaN</td>\n",
       "      <td>top-hits-for-artist</td>\n",
       "      <td>0</td>\n",
       "    </tr>\n",
       "    <tr>\n",
       "      <th>13</th>\n",
       "      <td>3g0bC24RD7QUeALY1IF/e8L6X3fHG298ZFIsCEG9T9Y=</td>\n",
       "      <td>TYhx9eqWklddkLQlApQ5MS9jJCO4H3JHdpISZ3kZSRE=</td>\n",
       "      <td>my library</td>\n",
       "      <td>Local playlist more</td>\n",
       "      <td>local-library</td>\n",
       "      <td>1</td>\n",
       "    </tr>\n",
       "  </tbody>\n",
       "</table>\n",
       "</div>"
      ],
      "text/plain": [
       "                                            msno  \\\n",
       "0   FGtllVqz18RPiwJj/edr2gV78zirAiY/9SmYvia+kCg=   \n",
       "1   Xumu+NIjS6QYVxDS4/t3SawvJ7viT9hPKXmf0RtLNx8=   \n",
       "2   Xumu+NIjS6QYVxDS4/t3SawvJ7viT9hPKXmf0RtLNx8=   \n",
       "4   FGtllVqz18RPiwJj/edr2gV78zirAiY/9SmYvia+kCg=   \n",
       "5   FGtllVqz18RPiwJj/edr2gV78zirAiY/9SmYvia+kCg=   \n",
       "7   FGtllVqz18RPiwJj/edr2gV78zirAiY/9SmYvia+kCg=   \n",
       "8   uHqAtShXTRXju5GE8ri3ITsVFepPf8jUoCF7ffNOuqE=   \n",
       "9   uHqAtShXTRXju5GE8ri3ITsVFepPf8jUoCF7ffNOuqE=   \n",
       "12  TJU0Gfvy7FB+r89bWovPKXTjuApTCiv3xg/tt5shR78=   \n",
       "13  3g0bC24RD7QUeALY1IF/e8L6X3fHG298ZFIsCEG9T9Y=   \n",
       "\n",
       "                                         song_id source_system_tab  \\\n",
       "0   BBzumQNXUHKdEBOB7mAJuzok+IJA1c2Ryg/yzTF6tik=           explore   \n",
       "1   bhp/MpSNoqoxOIB+/l8WPqu6jldth4DIpCm3ayXnJqM=        my library   \n",
       "2   JNWfrrC7zNN7BdMpsISKa4Mw+xVJYNnxXh3/Epw7QgY=        my library   \n",
       "4   3qm6XTZ6MOCU11x8FIVbAGH5l5uMkT3/ZalWG1oo2Gc=           explore   \n",
       "5   3Hg5kugV1S0wzEVLAEfqjIV5UHzb7bCrdBRQlGygLvU=           explore   \n",
       "7   bPIvRTzfHxH5LgHrStll+tYwSQNVV8PySgA3M1PfTgc=           explore   \n",
       "8   /bU6IRSK+YNlNbaTkxo7bhsb2EDLPrnksdX3ggcZNhI=        my library   \n",
       "9   EbI7xoNxI+3QSsiHxL13zBdgHIJOwa3srHd7cDcnJ0g=        my library   \n",
       "12  u6/Pb7X4u7KU4gXrBgGqt8RlRrNNFLn03tLAHyxRxwA=        my library   \n",
       "13  TYhx9eqWklddkLQlApQ5MS9jJCO4H3JHdpISZ3kZSRE=        my library   \n",
       "\n",
       "     source_screen_name          source_type  target  \n",
       "0               Explore      online-playlist       1  \n",
       "1   Local playlist more       local-playlist       1  \n",
       "2   Local playlist more       local-playlist       1  \n",
       "4               Explore      online-playlist       1  \n",
       "5               Explore      online-playlist       1  \n",
       "7               Explore      online-playlist       1  \n",
       "8   Local playlist more        local-library       1  \n",
       "9   Local playlist more        local-library       1  \n",
       "12                  NaN  top-hits-for-artist       0  \n",
       "13  Local playlist more        local-library       1  "
      ]
     },
     "execution_count": 10,
     "metadata": {},
     "output_type": "execute_result"
    }
   ],
   "source": [
    "app.head(10)"
   ]
  },
  {
   "cell_type": "code",
   "execution_count": 11,
   "metadata": {
    "collapsed": true
   },
   "outputs": [],
   "source": [
    "file_members = 'members.csv'\n",
    "file_songs = 'songs.csv'\n",
    "members = pd.read_csv(join(path_raw, file_members), error_bad_lines=False)\n",
    "songs = pd.read_csv(join(path_raw, file_songs), error_bad_lines=False)"
   ]
  },
  {
   "cell_type": "code",
   "execution_count": 12,
   "metadata": {},
   "outputs": [
    {
     "data": {
      "text/html": [
       "<div>\n",
       "<style>\n",
       "    .dataframe thead tr:only-child th {\n",
       "        text-align: right;\n",
       "    }\n",
       "\n",
       "    .dataframe thead th {\n",
       "        text-align: left;\n",
       "    }\n",
       "\n",
       "    .dataframe tbody tr th {\n",
       "        vertical-align: top;\n",
       "    }\n",
       "</style>\n",
       "<table border=\"1\" class=\"dataframe\">\n",
       "  <thead>\n",
       "    <tr style=\"text-align: right;\">\n",
       "      <th></th>\n",
       "      <th>msno</th>\n",
       "    </tr>\n",
       "  </thead>\n",
       "  <tbody>\n",
       "    <tr>\n",
       "      <th>0</th>\n",
       "      <td>XQxgAYj3klVKjR3oxPPXYYFp4soD4TuBghkhMTD4oTw=</td>\n",
       "    </tr>\n",
       "    <tr>\n",
       "      <th>1</th>\n",
       "      <td>UizsfmJb9mV54qE9hCYyU07Va97c0lCRLEQX3ae+ztM=</td>\n",
       "    </tr>\n",
       "    <tr>\n",
       "      <th>2</th>\n",
       "      <td>D8nEhsIOBSoE6VthTaqDX8U6lqjJ7dLdr72mOyLya2A=</td>\n",
       "    </tr>\n",
       "    <tr>\n",
       "      <th>3</th>\n",
       "      <td>mCuD+tZ1hERA/o5GPqk38e041J8ZsBaLcu7nGoIIvhI=</td>\n",
       "    </tr>\n",
       "    <tr>\n",
       "      <th>4</th>\n",
       "      <td>q4HRBfVSssAFS9iRfxWrohxuk9kCYMKjHOEagUMV6rQ=</td>\n",
       "    </tr>\n",
       "  </tbody>\n",
       "</table>\n",
       "</div>"
      ],
      "text/plain": [
       "                                           msno\n",
       "0  XQxgAYj3klVKjR3oxPPXYYFp4soD4TuBghkhMTD4oTw=\n",
       "1  UizsfmJb9mV54qE9hCYyU07Va97c0lCRLEQX3ae+ztM=\n",
       "2  D8nEhsIOBSoE6VthTaqDX8U6lqjJ7dLdr72mOyLya2A=\n",
       "3  mCuD+tZ1hERA/o5GPqk38e041J8ZsBaLcu7nGoIIvhI=\n",
       "4  q4HRBfVSssAFS9iRfxWrohxuk9kCYMKjHOEagUMV6rQ="
      ]
     },
     "execution_count": 12,
     "metadata": {},
     "output_type": "execute_result"
    }
   ],
   "source": [
    "# correspondance members msno et id\n",
    "corr_mem=pd.DataFrame(members.msno,members.index)\n",
    "members.head()\n",
    "corr_mem.head()"
   ]
  },
  {
   "cell_type": "code",
   "execution_count": 13,
   "metadata": {},
   "outputs": [
    {
     "data": {
      "text/html": [
       "<div>\n",
       "<style>\n",
       "    .dataframe thead tr:only-child th {\n",
       "        text-align: right;\n",
       "    }\n",
       "\n",
       "    .dataframe thead th {\n",
       "        text-align: left;\n",
       "    }\n",
       "\n",
       "    .dataframe tbody tr th {\n",
       "        vertical-align: top;\n",
       "    }\n",
       "</style>\n",
       "<table border=\"1\" class=\"dataframe\">\n",
       "  <thead>\n",
       "    <tr style=\"text-align: right;\">\n",
       "      <th></th>\n",
       "      <th>Unnamed: 0</th>\n",
       "      <th>msno</th>\n",
       "      <th>song_id</th>\n",
       "      <th>source_system_tab</th>\n",
       "      <th>source_screen_name</th>\n",
       "      <th>source_type</th>\n",
       "      <th>target</th>\n",
       "    </tr>\n",
       "  </thead>\n",
       "  <tbody>\n",
       "    <tr>\n",
       "      <th>0</th>\n",
       "      <td>1505227</td>\n",
       "      <td>mdIey6HyDWiVIsemFLtNZu0PslNzwLt8WQR+vBIL2ws=</td>\n",
       "      <td>3IAub+F4juhXHglm+kwPI9ZYjXfbd6scnEnhdPriL3I=</td>\n",
       "      <td>my library</td>\n",
       "      <td>Artist more</td>\n",
       "      <td>top-hits-for-artist</td>\n",
       "      <td>1</td>\n",
       "    </tr>\n",
       "    <tr>\n",
       "      <th>1</th>\n",
       "      <td>3352014</td>\n",
       "      <td>OVT1afKoXawfczyQ19qccBtN6aXgAvgY2+ptTA+j7A0=</td>\n",
       "      <td>JeXiwEyqL8GNmn6jb99naH97u6dAbauw3Z6x5jlsO94=</td>\n",
       "      <td>radio</td>\n",
       "      <td>Radio</td>\n",
       "      <td>radio</td>\n",
       "      <td>0</td>\n",
       "    </tr>\n",
       "    <tr>\n",
       "      <th>2</th>\n",
       "      <td>2145878</td>\n",
       "      <td>1tkkzwEOkbta7Uzt4SXdDSHIG8B1YVAzavHgude0fkU=</td>\n",
       "      <td>+y2UNIAeSzYGfgjlXmh51B+96HlR6NPIXVy/OtA8aS0=</td>\n",
       "      <td>listen with</td>\n",
       "      <td>Others profile more</td>\n",
       "      <td>listen-with</td>\n",
       "      <td>0</td>\n",
       "    </tr>\n",
       "    <tr>\n",
       "      <th>3</th>\n",
       "      <td>2878461</td>\n",
       "      <td>T+FJrpYi77CWTUE5nO/vliojRaTPgt2bRUQHy5lhXrQ=</td>\n",
       "      <td>yoBkh/KaiMl+uUFqnmmatpw7ccK0LPCqk3GC0jKpXTU=</td>\n",
       "      <td>my library</td>\n",
       "      <td>Local playlist more</td>\n",
       "      <td>local-library</td>\n",
       "      <td>0</td>\n",
       "    </tr>\n",
       "    <tr>\n",
       "      <th>4</th>\n",
       "      <td>3665518</td>\n",
       "      <td>SBk7HZF/f4dHzTk4SIT+xFxFtQSg2To3G/ei8n9z+bU=</td>\n",
       "      <td>WjTdj5NVTtqOPRChE54kPlAt/n/tyNuCvq/NE7iahtQ=</td>\n",
       "      <td>my library</td>\n",
       "      <td>Local playlist more</td>\n",
       "      <td>local-library</td>\n",
       "      <td>0</td>\n",
       "    </tr>\n",
       "    <tr>\n",
       "      <th>5</th>\n",
       "      <td>6359250</td>\n",
       "      <td>HmAaZSQ9He3BXNAxkgizK0Z18tHFXPKwLZBVKUitT+c=</td>\n",
       "      <td>h90KlUZE/mlkkPjhbhz3hXY1zvOhqJXuiKBoFWnTDAo=</td>\n",
       "      <td>my library</td>\n",
       "      <td>Local playlist more</td>\n",
       "      <td>local-playlist</td>\n",
       "      <td>1</td>\n",
       "    </tr>\n",
       "    <tr>\n",
       "      <th>6</th>\n",
       "      <td>739868</td>\n",
       "      <td>VVhc4pdVs8wrqmVmN6R4OI9igjCT+BorVWmvnNHdAjY=</td>\n",
       "      <td>jQHDoO1960zR7zSDsaycesSmjkvxL46cG1CO6GV1pr8=</td>\n",
       "      <td>my library</td>\n",
       "      <td>Local playlist more</td>\n",
       "      <td>local-playlist</td>\n",
       "      <td>1</td>\n",
       "    </tr>\n",
       "    <tr>\n",
       "      <th>7</th>\n",
       "      <td>7153048</td>\n",
       "      <td>OIsM93Abw/FAnNKgV8MeKMpJcLTUqe71Bb9175wxWz8=</td>\n",
       "      <td>UoLnEGgVEj2w0TouRQ9b15c3GWM4Ti5vGYeyuLj1nQk=</td>\n",
       "      <td>listen with</td>\n",
       "      <td>Others profile more</td>\n",
       "      <td>listen-with</td>\n",
       "      <td>0</td>\n",
       "    </tr>\n",
       "    <tr>\n",
       "      <th>8</th>\n",
       "      <td>3003420</td>\n",
       "      <td>Ognp+L0Jrz7DjpPRwSPhYKoE9RCuFuBjYjximnzVITg=</td>\n",
       "      <td>ihKc4lpcMihjQhOtqK7OcQx9AoZdZr1AbHA62dysy0M=</td>\n",
       "      <td>listen with</td>\n",
       "      <td>Others profile more</td>\n",
       "      <td>listen-with</td>\n",
       "      <td>0</td>\n",
       "    </tr>\n",
       "    <tr>\n",
       "      <th>9</th>\n",
       "      <td>1929088</td>\n",
       "      <td>Wna4EUGjNfnaFmHY4hjmQRMOlni27SX1kmQ7FeR0b28=</td>\n",
       "      <td>9W/H8tPBKQ7VWmBctuQ6RabciYdr1l+/kg1YPDcPOlU=</td>\n",
       "      <td>discover</td>\n",
       "      <td>Online playlist more</td>\n",
       "      <td>online-playlist</td>\n",
       "      <td>0</td>\n",
       "    </tr>\n",
       "  </tbody>\n",
       "</table>\n",
       "</div>"
      ],
      "text/plain": [
       "   Unnamed: 0                                          msno  \\\n",
       "0     1505227  mdIey6HyDWiVIsemFLtNZu0PslNzwLt8WQR+vBIL2ws=   \n",
       "1     3352014  OVT1afKoXawfczyQ19qccBtN6aXgAvgY2+ptTA+j7A0=   \n",
       "2     2145878  1tkkzwEOkbta7Uzt4SXdDSHIG8B1YVAzavHgude0fkU=   \n",
       "3     2878461  T+FJrpYi77CWTUE5nO/vliojRaTPgt2bRUQHy5lhXrQ=   \n",
       "4     3665518  SBk7HZF/f4dHzTk4SIT+xFxFtQSg2To3G/ei8n9z+bU=   \n",
       "5     6359250  HmAaZSQ9He3BXNAxkgizK0Z18tHFXPKwLZBVKUitT+c=   \n",
       "6      739868  VVhc4pdVs8wrqmVmN6R4OI9igjCT+BorVWmvnNHdAjY=   \n",
       "7     7153048  OIsM93Abw/FAnNKgV8MeKMpJcLTUqe71Bb9175wxWz8=   \n",
       "8     3003420  Ognp+L0Jrz7DjpPRwSPhYKoE9RCuFuBjYjximnzVITg=   \n",
       "9     1929088  Wna4EUGjNfnaFmHY4hjmQRMOlni27SX1kmQ7FeR0b28=   \n",
       "\n",
       "                                        song_id source_system_tab  \\\n",
       "0  3IAub+F4juhXHglm+kwPI9ZYjXfbd6scnEnhdPriL3I=        my library   \n",
       "1  JeXiwEyqL8GNmn6jb99naH97u6dAbauw3Z6x5jlsO94=             radio   \n",
       "2  +y2UNIAeSzYGfgjlXmh51B+96HlR6NPIXVy/OtA8aS0=       listen with   \n",
       "3  yoBkh/KaiMl+uUFqnmmatpw7ccK0LPCqk3GC0jKpXTU=        my library   \n",
       "4  WjTdj5NVTtqOPRChE54kPlAt/n/tyNuCvq/NE7iahtQ=        my library   \n",
       "5  h90KlUZE/mlkkPjhbhz3hXY1zvOhqJXuiKBoFWnTDAo=        my library   \n",
       "6  jQHDoO1960zR7zSDsaycesSmjkvxL46cG1CO6GV1pr8=        my library   \n",
       "7  UoLnEGgVEj2w0TouRQ9b15c3GWM4Ti5vGYeyuLj1nQk=       listen with   \n",
       "8  ihKc4lpcMihjQhOtqK7OcQx9AoZdZr1AbHA62dysy0M=       listen with   \n",
       "9  9W/H8tPBKQ7VWmBctuQ6RabciYdr1l+/kg1YPDcPOlU=          discover   \n",
       "\n",
       "     source_screen_name          source_type  target  \n",
       "0           Artist more  top-hits-for-artist       1  \n",
       "1                 Radio                radio       0  \n",
       "2   Others profile more          listen-with       0  \n",
       "3   Local playlist more        local-library       0  \n",
       "4   Local playlist more        local-library       0  \n",
       "5   Local playlist more       local-playlist       1  \n",
       "6   Local playlist more       local-playlist       1  \n",
       "7   Others profile more          listen-with       0  \n",
       "8   Others profile more          listen-with       0  \n",
       "9  Online playlist more      online-playlist       0  "
      ]
     },
     "execution_count": 13,
     "metadata": {},
     "output_type": "execute_result"
    }
   ],
   "source": [
    "valid.head(10)"
   ]
  },
  {
   "cell_type": "code",
   "execution_count": 97,
   "metadata": {
    "collapsed": true
   },
   "outputs": [],
   "source": [
    "def attribute_target(user,song,norm):# en entrée on donne un msno d'utilisateur et une chanson (song_id)\n",
    "    # et en sortie on a la target prédite(en utilisant l'utilisateur le plus proche)\n",
    "    near_user=0\n",
    "    dist=3000\n",
    "    users=app[app['song_id']==song]['msno']# recup tous les utilisateurs de app qui ont écouté la même chanson\n",
    "    ind1=corr_mem.loc[corr_mem['msno']==user].index# index de l'utilisateur qui ns intéresse\n",
    "    inds=corr_mem.loc[corr_mem['msno'].isin(users)].index# index des utilisateurs de users\n",
    "    for user in inds:# on cherche l'utilisateur le plus proche de notre utilisateur dans la liste users\n",
    "        dist=min(dist,np.linalg.norm(score.loc[ind1]-score.loc[user],norm))\n",
    "        if dist==np.linalg.norm(score.loc[ind1]-score.loc[user],norm):\n",
    "            near_user=user       \n",
    "    return app.loc[(app['msno']==corr_mem.loc[near_user]['msno'])&(app['song_id']==song)]['target']# on récupère la target pour cet utilisateur"
   ]
  },
  {
   "cell_type": "code",
   "execution_count": 307,
   "metadata": {
    "collapsed": true
   },
   "outputs": [],
   "source": [
    "for i in range(200):# pour les 200 premières ligne de valid, on calcule les targets\n",
    "    try:\n",
    "        valid.loc[i,'pred']=attribute_target(valid.msno[i],valid.song_id[i],2).values[0]\n",
    "    except:\n",
    "        continue"
   ]
  },
  {
   "cell_type": "code",
   "execution_count": 317,
   "metadata": {},
   "outputs": [
    {
     "data": {
      "text/plain": [
       "0.57499999999999996"
      ]
     },
     "execution_count": 317,
     "metadata": {},
     "output_type": "execute_result"
    }
   ],
   "source": [
    "np.sum(valid.loc[0:200]['target']==valid.loc[0:200]['pred'])/200"
   ]
  },
  {
   "cell_type": "markdown",
   "metadata": {},
   "source": [
    "On obtient moins de 60% de \"bonne classification\" avec la norme euclidienne, décevant ! "
   ]
  },
  {
   "cell_type": "code",
   "execution_count": 110,
   "metadata": {},
   "outputs": [],
   "source": [
    "for i in range(50):# pour les 50 premières ligne de valid, on calcule les targets\n",
    "    try:\n",
    "        valid.loc[i,'pred']=attribute_target(valid.msno[i],valid.song_id[i],float('inf')).values[0]\n",
    "    except:\n",
    "        continue"
   ]
  },
  {
   "cell_type": "code",
   "execution_count": 112,
   "metadata": {},
   "outputs": [
    {
     "data": {
      "text/plain": [
       "0.64000000000000001"
      ]
     },
     "execution_count": 112,
     "metadata": {},
     "output_type": "execute_result"
    }
   ],
   "source": [
    "np.sum(valid.loc[0:50]['target']==valid.loc[0:50]['pred'])/50"
   ]
  },
  {
   "cell_type": "markdown",
   "metadata": {},
   "source": [
    "Avec la norme infini, on obtient pour les 50 premières lignes de valid 64% de bonne classification, c'est mieux mais ça reste faible."
   ]
  },
  {
   "cell_type": "code",
   "execution_count": 117,
   "metadata": {},
   "outputs": [],
   "source": [
    "for i in range(20,50):\n",
    "    try:\n",
    "        valid.loc[i,'pred']=attribute_target(valid.msno[i],valid.song_id[i],1)#.values[0]\n",
    "    except:\n",
    "        continue"
   ]
  },
  {
   "cell_type": "code",
   "execution_count": 118,
   "metadata": {},
   "outputs": [
    {
     "data": {
      "text/plain": [
       "0.64000000000000001"
      ]
     },
     "execution_count": 118,
     "metadata": {},
     "output_type": "execute_result"
    }
   ],
   "source": [
    "np.sum(valid.loc[0:50]['target']==valid.loc[0:50]['pred'])/50"
   ]
  },
  {
   "cell_type": "code",
   "execution_count": 121,
   "metadata": {},
   "outputs": [
    {
     "name": "stdout",
     "output_type": "stream",
     "text": [
      "[ 0.8472549   0.05135258  0.02048673  0.01650446]\n",
      "[ 9983.46244297  2457.8494806   1552.42458137  1393.39692155]\n"
     ]
    }
   ],
   "source": [
    "import numpy as np\n",
    "from sklearn.decomposition import PCA\n",
    "X = score\n",
    "pca = PCA(n_components=4)\n",
    "pca.fit(X)\n",
    "\n",
    "\n",
    "print(pca.explained_variance_ratio_)  \n",
    "\n",
    "print(pca.singular_values_)  "
   ]
  },
  {
   "cell_type": "code",
   "execution_count": 370,
   "metadata": {
    "collapsed": true
   },
   "outputs": [],
   "source": [
    "from sklearn import metrics\n",
    "from sklearn.cluster import AgglomerativeClustering\n",
    "from sklearn.cluster import KMeans\n",
    "model=KMeans(3)\n",
    "y_pred=model.fit_predict(score)\n",
    "y_pred=pd.Series(y_pred,score.index)"
   ]
  },
  {
   "cell_type": "code",
   "execution_count": 500,
   "metadata": {
    "collapsed": true
   },
   "outputs": [],
   "source": [
    "def attribute_target2(user,song):\n",
    "    near_user=0\n",
    "    dist=3000\n",
    "    ind1=corr_mem.loc[corr_mem['msno']==user].index# index de l'utilisateur qui ns intéresse\n",
    "    users=app[app['song_id']==song]['msno']# recup tous les utilisateurs de app qui ont écouté la même chanson\n",
    "    inds=corr_mem.loc[corr_mem['msno'].isin(users)].index\n",
    "    ind=[ind for ind in inds if y_pred[ind]==y_pred[ind1].values[0]]# on garde les utilisateurs qui sont dans le meme cluster que ind1\n",
    "    liste=[]\n",
    "    for ind in inds[:5] :\n",
    "        liste.append(app.loc[(app['msno']==corr_mem.loc[ind]['msno'])&(app['song_id']==song)]['target'].values[0])# on récupère les targets de tous ces utilisateurs\n",
    "    return round(np.sum(liste)/len(liste))# On prend la target qui apparaît le plus de fois"
   ]
  },
  {
   "cell_type": "code",
   "execution_count": 503,
   "metadata": {},
   "outputs": [
    {
     "name": "stderr",
     "output_type": "stream",
     "text": [
      "C:\\Users\\moosb\\AppData\\Local\\Continuum\\Anaconda3\\lib\\site-packages\\ipykernel_launcher.py:11: RuntimeWarning: invalid value encountered in double_scalars\n",
      "  # This is added back by InteractiveShellApp.init_path()\n"
     ]
    }
   ],
   "source": [
    "for i in range(10):\n",
    "    try:\n",
    "        valid.loc[i,'pred']=attribute_target2(valid.msno[i],valid.song_id[i])\n",
    "    except:\n",
    "        continue"
   ]
  },
  {
   "cell_type": "code",
   "execution_count": 505,
   "metadata": {},
   "outputs": [
    {
     "data": {
      "text/html": [
       "<div>\n",
       "<style>\n",
       "    .dataframe thead tr:only-child th {\n",
       "        text-align: right;\n",
       "    }\n",
       "\n",
       "    .dataframe thead th {\n",
       "        text-align: left;\n",
       "    }\n",
       "\n",
       "    .dataframe tbody tr th {\n",
       "        vertical-align: top;\n",
       "    }\n",
       "</style>\n",
       "<table border=\"1\" class=\"dataframe\">\n",
       "  <thead>\n",
       "    <tr style=\"text-align: right;\">\n",
       "      <th></th>\n",
       "      <th>Unnamed: 0</th>\n",
       "      <th>msno</th>\n",
       "      <th>song_id</th>\n",
       "      <th>source_system_tab</th>\n",
       "      <th>source_screen_name</th>\n",
       "      <th>source_type</th>\n",
       "      <th>target</th>\n",
       "      <th>pred</th>\n",
       "    </tr>\n",
       "  </thead>\n",
       "  <tbody>\n",
       "    <tr>\n",
       "      <th>0</th>\n",
       "      <td>1505227</td>\n",
       "      <td>mdIey6HyDWiVIsemFLtNZu0PslNzwLt8WQR+vBIL2ws=</td>\n",
       "      <td>3IAub+F4juhXHglm+kwPI9ZYjXfbd6scnEnhdPriL3I=</td>\n",
       "      <td>my library</td>\n",
       "      <td>Artist more</td>\n",
       "      <td>top-hits-for-artist</td>\n",
       "      <td>1</td>\n",
       "      <td>1.0</td>\n",
       "    </tr>\n",
       "    <tr>\n",
       "      <th>1</th>\n",
       "      <td>3352014</td>\n",
       "      <td>OVT1afKoXawfczyQ19qccBtN6aXgAvgY2+ptTA+j7A0=</td>\n",
       "      <td>JeXiwEyqL8GNmn6jb99naH97u6dAbauw3Z6x5jlsO94=</td>\n",
       "      <td>radio</td>\n",
       "      <td>Radio</td>\n",
       "      <td>radio</td>\n",
       "      <td>0</td>\n",
       "      <td>0.0</td>\n",
       "    </tr>\n",
       "    <tr>\n",
       "      <th>2</th>\n",
       "      <td>2145878</td>\n",
       "      <td>1tkkzwEOkbta7Uzt4SXdDSHIG8B1YVAzavHgude0fkU=</td>\n",
       "      <td>+y2UNIAeSzYGfgjlXmh51B+96HlR6NPIXVy/OtA8aS0=</td>\n",
       "      <td>listen with</td>\n",
       "      <td>Others profile more</td>\n",
       "      <td>listen-with</td>\n",
       "      <td>0</td>\n",
       "      <td>1.0</td>\n",
       "    </tr>\n",
       "    <tr>\n",
       "      <th>3</th>\n",
       "      <td>2878461</td>\n",
       "      <td>T+FJrpYi77CWTUE5nO/vliojRaTPgt2bRUQHy5lhXrQ=</td>\n",
       "      <td>yoBkh/KaiMl+uUFqnmmatpw7ccK0LPCqk3GC0jKpXTU=</td>\n",
       "      <td>my library</td>\n",
       "      <td>Local playlist more</td>\n",
       "      <td>local-library</td>\n",
       "      <td>0</td>\n",
       "      <td>0.0</td>\n",
       "    </tr>\n",
       "    <tr>\n",
       "      <th>4</th>\n",
       "      <td>3665518</td>\n",
       "      <td>SBk7HZF/f4dHzTk4SIT+xFxFtQSg2To3G/ei8n9z+bU=</td>\n",
       "      <td>WjTdj5NVTtqOPRChE54kPlAt/n/tyNuCvq/NE7iahtQ=</td>\n",
       "      <td>my library</td>\n",
       "      <td>Local playlist more</td>\n",
       "      <td>local-library</td>\n",
       "      <td>0</td>\n",
       "      <td>1.0</td>\n",
       "    </tr>\n",
       "    <tr>\n",
       "      <th>5</th>\n",
       "      <td>6359250</td>\n",
       "      <td>HmAaZSQ9He3BXNAxkgizK0Z18tHFXPKwLZBVKUitT+c=</td>\n",
       "      <td>h90KlUZE/mlkkPjhbhz3hXY1zvOhqJXuiKBoFWnTDAo=</td>\n",
       "      <td>my library</td>\n",
       "      <td>Local playlist more</td>\n",
       "      <td>local-playlist</td>\n",
       "      <td>1</td>\n",
       "      <td>0.0</td>\n",
       "    </tr>\n",
       "    <tr>\n",
       "      <th>6</th>\n",
       "      <td>739868</td>\n",
       "      <td>VVhc4pdVs8wrqmVmN6R4OI9igjCT+BorVWmvnNHdAjY=</td>\n",
       "      <td>jQHDoO1960zR7zSDsaycesSmjkvxL46cG1CO6GV1pr8=</td>\n",
       "      <td>my library</td>\n",
       "      <td>Local playlist more</td>\n",
       "      <td>local-playlist</td>\n",
       "      <td>1</td>\n",
       "      <td>NaN</td>\n",
       "    </tr>\n",
       "    <tr>\n",
       "      <th>7</th>\n",
       "      <td>7153048</td>\n",
       "      <td>OIsM93Abw/FAnNKgV8MeKMpJcLTUqe71Bb9175wxWz8=</td>\n",
       "      <td>UoLnEGgVEj2w0TouRQ9b15c3GWM4Ti5vGYeyuLj1nQk=</td>\n",
       "      <td>listen with</td>\n",
       "      <td>Others profile more</td>\n",
       "      <td>listen-with</td>\n",
       "      <td>0</td>\n",
       "      <td>0.0</td>\n",
       "    </tr>\n",
       "    <tr>\n",
       "      <th>8</th>\n",
       "      <td>3003420</td>\n",
       "      <td>Ognp+L0Jrz7DjpPRwSPhYKoE9RCuFuBjYjximnzVITg=</td>\n",
       "      <td>ihKc4lpcMihjQhOtqK7OcQx9AoZdZr1AbHA62dysy0M=</td>\n",
       "      <td>listen with</td>\n",
       "      <td>Others profile more</td>\n",
       "      <td>listen-with</td>\n",
       "      <td>0</td>\n",
       "      <td>1.0</td>\n",
       "    </tr>\n",
       "    <tr>\n",
       "      <th>9</th>\n",
       "      <td>1929088</td>\n",
       "      <td>Wna4EUGjNfnaFmHY4hjmQRMOlni27SX1kmQ7FeR0b28=</td>\n",
       "      <td>9W/H8tPBKQ7VWmBctuQ6RabciYdr1l+/kg1YPDcPOlU=</td>\n",
       "      <td>discover</td>\n",
       "      <td>Online playlist more</td>\n",
       "      <td>online-playlist</td>\n",
       "      <td>0</td>\n",
       "      <td>1.0</td>\n",
       "    </tr>\n",
       "  </tbody>\n",
       "</table>\n",
       "</div>"
      ],
      "text/plain": [
       "   Unnamed: 0                                          msno  \\\n",
       "0     1505227  mdIey6HyDWiVIsemFLtNZu0PslNzwLt8WQR+vBIL2ws=   \n",
       "1     3352014  OVT1afKoXawfczyQ19qccBtN6aXgAvgY2+ptTA+j7A0=   \n",
       "2     2145878  1tkkzwEOkbta7Uzt4SXdDSHIG8B1YVAzavHgude0fkU=   \n",
       "3     2878461  T+FJrpYi77CWTUE5nO/vliojRaTPgt2bRUQHy5lhXrQ=   \n",
       "4     3665518  SBk7HZF/f4dHzTk4SIT+xFxFtQSg2To3G/ei8n9z+bU=   \n",
       "5     6359250  HmAaZSQ9He3BXNAxkgizK0Z18tHFXPKwLZBVKUitT+c=   \n",
       "6      739868  VVhc4pdVs8wrqmVmN6R4OI9igjCT+BorVWmvnNHdAjY=   \n",
       "7     7153048  OIsM93Abw/FAnNKgV8MeKMpJcLTUqe71Bb9175wxWz8=   \n",
       "8     3003420  Ognp+L0Jrz7DjpPRwSPhYKoE9RCuFuBjYjximnzVITg=   \n",
       "9     1929088  Wna4EUGjNfnaFmHY4hjmQRMOlni27SX1kmQ7FeR0b28=   \n",
       "\n",
       "                                        song_id source_system_tab  \\\n",
       "0  3IAub+F4juhXHglm+kwPI9ZYjXfbd6scnEnhdPriL3I=        my library   \n",
       "1  JeXiwEyqL8GNmn6jb99naH97u6dAbauw3Z6x5jlsO94=             radio   \n",
       "2  +y2UNIAeSzYGfgjlXmh51B+96HlR6NPIXVy/OtA8aS0=       listen with   \n",
       "3  yoBkh/KaiMl+uUFqnmmatpw7ccK0LPCqk3GC0jKpXTU=        my library   \n",
       "4  WjTdj5NVTtqOPRChE54kPlAt/n/tyNuCvq/NE7iahtQ=        my library   \n",
       "5  h90KlUZE/mlkkPjhbhz3hXY1zvOhqJXuiKBoFWnTDAo=        my library   \n",
       "6  jQHDoO1960zR7zSDsaycesSmjkvxL46cG1CO6GV1pr8=        my library   \n",
       "7  UoLnEGgVEj2w0TouRQ9b15c3GWM4Ti5vGYeyuLj1nQk=       listen with   \n",
       "8  ihKc4lpcMihjQhOtqK7OcQx9AoZdZr1AbHA62dysy0M=       listen with   \n",
       "9  9W/H8tPBKQ7VWmBctuQ6RabciYdr1l+/kg1YPDcPOlU=          discover   \n",
       "\n",
       "     source_screen_name          source_type  target  pred  \n",
       "0           Artist more  top-hits-for-artist       1   1.0  \n",
       "1                 Radio                radio       0   0.0  \n",
       "2   Others profile more          listen-with       0   1.0  \n",
       "3   Local playlist more        local-library       0   0.0  \n",
       "4   Local playlist more        local-library       0   1.0  \n",
       "5   Local playlist more       local-playlist       1   0.0  \n",
       "6   Local playlist more       local-playlist       1   NaN  \n",
       "7   Others profile more          listen-with       0   0.0  \n",
       "8   Others profile more          listen-with       0   1.0  \n",
       "9  Online playlist more      online-playlist       0   1.0  "
      ]
     },
     "execution_count": 505,
     "metadata": {},
     "output_type": "execute_result"
    }
   ],
   "source": [
    "valid.head(10)"
   ]
  },
  {
   "cell_type": "code",
   "execution_count": 502,
   "metadata": {},
   "outputs": [
    {
     "data": {
      "text/plain": [
       "1.0"
      ]
     },
     "execution_count": 502,
     "metadata": {},
     "output_type": "execute_result"
    }
   ],
   "source": [
    "attribute_target2(valid.msno[0],valid.song_id[0])"
   ]
  },
  {
   "cell_type": "code",
   "execution_count": 379,
   "metadata": {
    "collapsed": true
   },
   "outputs": [],
   "source": [
    "users=app[app['song_id']=='3IAub+F4juhXHglm+kwPI9ZYjXfbd6scnEnhdPriL3I=']['msno']\n"
   ]
  },
  {
   "cell_type": "code",
   "execution_count": 402,
   "metadata": {
    "collapsed": true
   },
   "outputs": [],
   "source": [
    "# On récupère le premier utilisateur de valid \n",
    "y_pred=pd.Series(y_pred,score.index)\n",
    "import numpy as np\n",
    "ind1=corr_mem.loc[corr_mem['msno']=='mdIey6HyDWiVIsemFLtNZu0PslNzwLt8WQR+vBIL2ws='].index\n",
    "inds=corr_mem.loc[corr_mem['msno'].isin(users)].index"
   ]
  },
  {
   "cell_type": "code",
   "execution_count": 425,
   "metadata": {},
   "outputs": [
    {
     "data": {
      "text/plain": [
       "[5138, 7703, 10477, 20553, 23616, 30529, 32046]"
      ]
     },
     "execution_count": 425,
     "metadata": {},
     "output_type": "execute_result"
    }
   ],
   "source": [
    "inds=[ind for ind in inds if y_pred[ind]==y_pred[ind1].values[0]]\n",
    "inds"
   ]
  },
  {
   "cell_type": "code",
   "execution_count": 442,
   "metadata": {
    "collapsed": true
   },
   "outputs": [],
   "source": [
    "liste=[]\n",
    "for ind in inds:\n",
    "    liste.append(app.loc[(app['msno'] ==corr_mem.loc[ind]['msno'])&(app['song_id']=='3IAub+F4juhXHglm+kwPI9ZYjXfbd6scnEnhdPriL3I=')]['target'].values[0])"
   ]
  },
  {
   "cell_type": "code",
   "execution_count": 452,
   "metadata": {},
   "outputs": [
    {
     "data": {
      "text/plain": [
       "1"
      ]
     },
     "execution_count": 452,
     "metadata": {},
     "output_type": "execute_result"
    }
   ],
   "source": [
    "round(np.sum(liste)/len(liste))"
   ]
  },
  {
   "cell_type": "code",
   "execution_count": 227,
   "metadata": {},
   "outputs": [
    {
     "data": {
      "text/plain": [
       "2216260    1\n",
       "Name: target, dtype: int64"
      ]
     },
     "execution_count": 227,
     "metadata": {},
     "output_type": "execute_result"
    }
   ],
   "source": [
    "dist=3000\n",
    "for user in inds:\n",
    "    dist=min(dist,np.linalg.norm(score.loc[ind1]-score.loc[user]))\n",
    "    if dist==np.linalg.norm(score.loc[ind1]-score.loc[user]):\n",
    "        near_user=user\n",
    "app.loc[(app['msno']==corr_mem.loc[near_user]['msno'])&(app['song_id']=='3IAub+F4juhXHglm+kwPI9ZYjXfbd6scnEnhdPriL3I=')]['target'] "
   ]
  },
  {
   "cell_type": "code",
   "execution_count": 376,
   "metadata": {},
   "outputs": [
    {
     "data": {
      "text/plain": [
       "0.091378573073254171"
      ]
     },
     "execution_count": 376,
     "metadata": {},
     "output_type": "execute_result"
    }
   ],
   "source": [
    "np.sum(y_pred==0)/len(y_pred)"
   ]
  },
  {
   "cell_type": "code",
   "execution_count": 378,
   "metadata": {},
   "outputs": [
    {
     "data": {
      "text/plain": [
       "0"
      ]
     },
     "execution_count": 378,
     "metadata": {},
     "output_type": "execute_result"
    }
   ],
   "source": [
    "y_pred[ind1][0]"
   ]
  },
  {
   "cell_type": "code",
   "execution_count": 344,
   "metadata": {},
   "outputs": [
    {
     "data": {
      "image/png": "[encoded data removed]",
      "text/plain": [
       "<matplotlib.figure.Figure at 0x4c2f28cd68>"
      ]
     },
     "metadata": {},
     "output_type": "display_data"
    }
   ],
   "source": [
    "from sklearn import metrics\n",
    "from sklearn.cluster import AgglomerativeClustering\n",
    "from sklearn.cluster import KMeans\n",
    "import matplotlib.pyplot as plt\n",
    "\n",
    "perf=[]\n",
    "my_k=range(2,10)\n",
    "for k in my_k:\n",
    "    model=KMeans(k)\n",
    "    y_pred=model.fit_predict(score)\n",
    "    perf.append(metrics.calinski_harabaz_score(score,y_pred))\n",
    "\n",
    "plt.plot(my_k,perf)\n",
    "plt.show()"
   ]
  },
  {
   "cell_type": "code",
   "execution_count": 337,
   "metadata": {},
   "outputs": [
    {
     "data": {
      "text/plain": [
       "(30401, 164)"
      ]
     },
     "execution_count": 337,
     "metadata": {},
     "output_type": "execute_result"
    }
   ],
   "source": [
    "score.shape"
   ]
  },
  {
   "cell_type": "code",
   "execution_count": null,
   "metadata": {
    "collapsed": true
   },
   "outputs": [],
   "source": []
  }
 ],
 "metadata": {
  "kernelspec": {
   "display_name": "Python 3",
   "language": "python",
   "name": "python3"
  },
  "language_info": {
   "codemirror_mode": {
    "name": "ipython",
    "version": 3
   },
   "file_extension": ".py",
   "mimetype": "text/x-python",
   "name": "python",
   "nbconvert_exporter": "python",
   "pygments_lexer": "ipython3",
   "version": "3.6.1"
  }
 },
 "nbformat": 4,
 "nbformat_minor": 2
}
