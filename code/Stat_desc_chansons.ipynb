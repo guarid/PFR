{
 "cells": [
  {
   "cell_type": "code",
   "execution_count": 2,
   "metadata": {},
   "outputs": [],
   "source": [
    "# import des librairies\n",
    "import pandas as pd\n",
    "import numpy as np\n",
    "import time\n",
    "import seaborn as sns\n",
    "import matplotlib.pyplot as plt\n",
    "plt.style.use('ggplot')\n",
    "\n",
    "path = '/home/..../Bureau/PFL'"
   ]
  },
  {
   "cell_type": "code",
   "execution_count": 3,
   "metadata": {},
   "outputs": [
    {
     "name": "stdout",
     "output_type": "stream",
     "text": [
      "Temps de l'import :\n",
      "29.474s\n",
      "===============================\n",
      "Taille train : 7377418\n"
     ]
    }
   ],
   "source": [
    "t0 = time.time()\n",
    "print(\"Temps de l'import :\")\n",
    "filename_train = 'train.csv'\n",
    "filename_test = 'test.csv'\n",
    "\n",
    "data_train = pd.read_csv(path+'/'+filename_train)\n",
    "data_test = pd.read_csv(path+'/'+filename_test)\n",
    "\n",
    "print(\"%0.3fs\" % (time.time() - t0))\n",
    "print(\"===============================\")\n",
    "print(\"Taille train : \" + str(data_train.shape[0]))"
   ]
  },
  {
   "cell_type": "code",
   "execution_count": 5,
   "metadata": {},
   "outputs": [
    {
     "name": "stdout",
     "output_type": "stream",
     "text": [
      "Statistiques sur les chansons :\n",
      "Nombre de chansons uniques dans train : 359966\n",
      "Nombre de chansons uniques dans test : 224753\n",
      "Chansons uniques présentes dans Train et Test : 164880\n",
      "0.2664\n"
     ]
    }
   ],
   "source": [
    "print(\"Statistiques sur les chansons :\")\n",
    "print(\"Nombre de chansons uniques dans train : \" + str(data_train['song_id'].nunique()))\n",
    "print(\"Nombre de chansons uniques dans test : \" + str(data_test['song_id'].nunique()))\n",
    "merge_train_et_test = np.intersect1d(data_train['song_id'].unique(), data_test['song_id'].unique())\n",
    "\n",
    "print(\"Chansons uniques présentes dans Train et Test : {}\" .format(merge_train_et_test.shape[0]))\n",
    "print(round((data_test['song_id'].nunique()- merge_train_et_test.shape[0])/data_test['song_id'].nunique(),4))\n",
    "\n"
   ]
  },
  {
   "cell_type": "markdown",
   "metadata": {},
   "source": [
    "Il existe 26.64% de chansons uniques dans Test et non présentes dans le jeu d'apprentissage"
   ]
  },
  {
   "cell_type": "markdown",
   "metadata": {},
   "source": [
    "### SONGS"
   ]
  },
  {
   "cell_type": "code",
   "execution_count": 4,
   "metadata": {
    "scrolled": false
   },
   "outputs": [
    {
     "name": "stdout",
     "output_type": "stream",
     "text": [
      "Nombre de chansons : 2296320\n"
     ]
    },
    {
     "data": {
      "text/html": [
       "<div>\n",
       "<style scoped>\n",
       "    .dataframe tbody tr th:only-of-type {\n",
       "        vertical-align: middle;\n",
       "    }\n",
       "\n",
       "    .dataframe tbody tr th {\n",
       "        vertical-align: top;\n",
       "    }\n",
       "\n",
       "    .dataframe thead th {\n",
       "        text-align: right;\n",
       "    }\n",
       "</style>\n",
       "<table border=\"1\" class=\"dataframe\">\n",
       "  <thead>\n",
       "    <tr style=\"text-align: right;\">\n",
       "      <th></th>\n",
       "      <th>song_id</th>\n",
       "      <th>song_length</th>\n",
       "      <th>genre_ids</th>\n",
       "      <th>artist_name</th>\n",
       "      <th>composer</th>\n",
       "      <th>lyricist</th>\n",
       "      <th>language</th>\n",
       "    </tr>\n",
       "  </thead>\n",
       "  <tbody>\n",
       "    <tr>\n",
       "      <th>0</th>\n",
       "      <td>CXoTN1eb7AI+DntdU1vbcwGRV4SCIDxZu+YD8JP8r4E=</td>\n",
       "      <td>247640</td>\n",
       "      <td>465</td>\n",
       "      <td>張信哲 (Jeff Chang)</td>\n",
       "      <td>董貞</td>\n",
       "      <td>何啟弘</td>\n",
       "      <td>3.0</td>\n",
       "    </tr>\n",
       "    <tr>\n",
       "      <th>1</th>\n",
       "      <td>o0kFgae9QtnYgRkVPqLJwa05zIhRlUjfF7O1tDw0ZDU=</td>\n",
       "      <td>197328</td>\n",
       "      <td>444</td>\n",
       "      <td>BLACKPINK</td>\n",
       "      <td>TEDDY|  FUTURE BOUNCE|  Bekuh BOOM</td>\n",
       "      <td>TEDDY</td>\n",
       "      <td>31.0</td>\n",
       "    </tr>\n",
       "    <tr>\n",
       "      <th>2</th>\n",
       "      <td>DwVvVurfpuz+XPuFvucclVQEyPqcpUkHR0ne1RQzPs0=</td>\n",
       "      <td>231781</td>\n",
       "      <td>465</td>\n",
       "      <td>SUPER JUNIOR</td>\n",
       "      <td>NaN</td>\n",
       "      <td>NaN</td>\n",
       "      <td>31.0</td>\n",
       "    </tr>\n",
       "    <tr>\n",
       "      <th>3</th>\n",
       "      <td>dKMBWoZyScdxSkihKG+Vf47nc18N9q4m58+b4e7dSSE=</td>\n",
       "      <td>273554</td>\n",
       "      <td>465</td>\n",
       "      <td>S.H.E</td>\n",
       "      <td>湯小康</td>\n",
       "      <td>徐世珍</td>\n",
       "      <td>3.0</td>\n",
       "    </tr>\n",
       "    <tr>\n",
       "      <th>4</th>\n",
       "      <td>W3bqWd3T+VeHFzHAUfARgW9AvVRaF4N5Yzm4Mr6Eo/o=</td>\n",
       "      <td>140329</td>\n",
       "      <td>726</td>\n",
       "      <td>貴族精選</td>\n",
       "      <td>Traditional</td>\n",
       "      <td>Traditional</td>\n",
       "      <td>52.0</td>\n",
       "    </tr>\n",
       "  </tbody>\n",
       "</table>\n",
       "</div>"
      ],
      "text/plain": [
       "                                        song_id  song_length genre_ids  \\\n",
       "0  CXoTN1eb7AI+DntdU1vbcwGRV4SCIDxZu+YD8JP8r4E=       247640       465   \n",
       "1  o0kFgae9QtnYgRkVPqLJwa05zIhRlUjfF7O1tDw0ZDU=       197328       444   \n",
       "2  DwVvVurfpuz+XPuFvucclVQEyPqcpUkHR0ne1RQzPs0=       231781       465   \n",
       "3  dKMBWoZyScdxSkihKG+Vf47nc18N9q4m58+b4e7dSSE=       273554       465   \n",
       "4  W3bqWd3T+VeHFzHAUfARgW9AvVRaF4N5Yzm4Mr6Eo/o=       140329       726   \n",
       "\n",
       "        artist_name                            composer     lyricist  language  \n",
       "0  張信哲 (Jeff Chang)                                  董貞          何啟弘       3.0  \n",
       "1         BLACKPINK  TEDDY|  FUTURE BOUNCE|  Bekuh BOOM        TEDDY      31.0  \n",
       "2      SUPER JUNIOR                                 NaN          NaN      31.0  \n",
       "3             S.H.E                                 湯小康          徐世珍       3.0  \n",
       "4              貴族精選                         Traditional  Traditional      52.0  "
      ]
     },
     "execution_count": 4,
     "metadata": {},
     "output_type": "execute_result"
    }
   ],
   "source": [
    "songs = pd.read_csv(path+'/'+'songs.csv')\n",
    "print('Nombre de chansons : {}'.format(songs['song_id'].nunique()))\n",
    "songs.head(5)"
   ]
  },
  {
   "cell_type": "markdown",
   "metadata": {},
   "source": [
    "On dénombre 2 296 320 chansons décrites par 7 variables : le nom de la chanson, la durée, le genre, l'artiste, le compositeur et la langue.\n",
    "A noter qu'une chanson peut avoir plusieurs genres."
   ]
  },
  {
   "cell_type": "code",
   "execution_count": 4,
   "metadata": {},
   "outputs": [
    {
     "name": "stdout",
     "output_type": "stream",
     "text": [
      "Durée de la plus courte chanson : 0.185s\n",
      "Durée de la plus longue chanson : 12173.85s\n"
     ]
    }
   ],
   "source": [
    "min_song_length_sec = songs['song_length'].min() / 1000  # durée en milisecondes\n",
    "max_song_length_sec = songs['song_length'].max() / 1000\n",
    "print('Durée de la plus courte chanson : {}s'.format(min_song_length_sec))\n",
    "print('Durée de la plus longue chanson : {}s'.format(max_song_length_sec))"
   ]
  },
  {
   "cell_type": "markdown",
   "metadata": {},
   "source": [
    "Bizarre ! Une chanson de moins d'une seconde et la plus longue dure plus de 3h."
   ]
  },
  {
   "cell_type": "code",
   "execution_count": 35,
   "metadata": {},
   "outputs": [
    {
     "name": "stdout",
     "output_type": "stream",
     "text": [
      "song_id        kLdsd0eUT6Pp3EDG4nEGBxabSN5b9CUSuaE3H/B5w78=\n",
      "song_length                                             185\n",
      "genre_ids                                               921\n",
      "artist_name                       Blockbuster Sound Effects\n",
      "composer                                                NaN\n",
      "lyricist                                                NaN\n",
      "language                                                 52\n",
      "Name: 677186, dtype: object\n",
      "======================================================================\n",
      "song_id        DCdid/1HvuvKitGXNUg+R89Z9T7bHQquDeUra4fBzZU=\n",
      "song_length                                        12173850\n",
      "genre_ids                                               940\n",
      "artist_name                                Jason Stephenson\n",
      "composer                                   Jason Stephenson\n",
      "lyricist                                                NaN\n",
      "language                                                 -1\n",
      "Name: 778210, dtype: object\n"
     ]
    }
   ],
   "source": [
    "min_length_song = songs.iloc[songs['song_length'].idxmin()]\n",
    "max_length_song = songs.iloc[songs['song_length'].idxmax()]\n",
    "print(min_length_song)\n",
    "print('='*70)\n",
    "print(max_length_song)"
   ]
  },
  {
   "cell_type": "markdown",
   "metadata": {},
   "source": [
    "La plus courte chanson est de Blockbuster Sound Effects. En faisant une recherche sur Deezer, on s'aperçoit en effet qu'il s'agit d'effets musicaux très courts.\n",
    "Quant à Jason Stephenson, c'est un compositeur de musique de méditation/relaxation."
   ]
  },
  {
   "cell_type": "code",
   "execution_count": 36,
   "metadata": {},
   "outputs": [
    {
     "name": "stdout",
     "output_type": "stream",
     "text": [
      "Langues : [ 3. 31. 52. 17. 10. -1. 24. 59. 45. 38. nan]\n",
      "Nombre de langues : 11\n"
     ]
    }
   ],
   "source": [
    "print('Langues : {}'.format(songs['language'].unique()))\n",
    "print('Nombre de langues : {}'.format(songs['language'].unique().shape[0]))"
   ]
  },
  {
   "cell_type": "markdown",
   "metadata": {},
   "source": [
    "Les chansons sont composées en 10 langues diffèrentes."
   ]
  },
  {
   "cell_type": "markdown",
   "metadata": {},
   "source": [
    "### Etude de la popularité des chansons"
   ]
  },
  {
   "cell_type": "markdown",
   "metadata": {},
   "source": [
    "Dans cette étape, on croise le jeu de données d'apprentissage et la table des chansons.\n",
    "L'idée est de classer les chansons selon leur popularité mais aussi d'étudier les variables qui influent à la répétition ou non des chansons."
   ]
  },
  {
   "cell_type": "code",
   "execution_count": 5,
   "metadata": {},
   "outputs": [],
   "source": [
    "log_chansons = data_train[['msno','song_id','target']].merge(songs,on='song_id')\n",
    "log_chansons_g = log_chansons[['song_id', 'target']].groupby(['song_id']).agg(['mean','count'])"
   ]
  },
  {
   "cell_type": "code",
   "execution_count": 6,
   "metadata": {},
   "outputs": [],
   "source": [
    "log_chansons_g.reset_index(inplace=True)\n",
    "log_chansons_g.columns = list(map(''.join, log_chansons_g.columns.values))\n",
    "log_chansons_g.columns = ['song_id', 'chance_replay', 'occurence']\n",
    "song_data = log_chansons_g.merge(songs, on='song_id')"
   ]
  },
  {
   "cell_type": "markdown",
   "metadata": {},
   "source": [
    "#### Le nombre maximal d'occurrence "
   ]
  },
  {
   "cell_type": "code",
   "execution_count": 7,
   "metadata": {},
   "outputs": [
    {
     "data": {
      "text/plain": [
       "13973"
      ]
     },
     "execution_count": 7,
     "metadata": {},
     "output_type": "execute_result"
    }
   ],
   "source": [
    "song_data['occurence'].max()"
   ]
  },
  {
   "cell_type": "markdown",
   "metadata": {},
   "source": [
    "Etudions les éléments qui affectent le plus le nombre d'écoutes (replay) ?"
   ]
  },
  {
   "cell_type": "code",
   "execution_count": 9,
   "metadata": {},
   "outputs": [
    {
     "data": {
      "text/html": [
       "<div>\n",
       "<table border=\"1\" class=\"dataframe\">\n",
       "  <thead>\n",
       "    <tr style=\"text-align: right;\">\n",
       "      <th></th>\n",
       "      <th>song_id</th>\n",
       "      <th>chance_replay</th>\n",
       "      <th>occurence</th>\n",
       "      <th>song_length</th>\n",
       "      <th>genre_ids</th>\n",
       "      <th>artist_name</th>\n",
       "      <th>composer</th>\n",
       "      <th>lyricist</th>\n",
       "      <th>language</th>\n",
       "    </tr>\n",
       "  </thead>\n",
       "  <tbody>\n",
       "    <tr>\n",
       "      <th>0</th>\n",
       "      <td>+++2AEoM0d8iZTdbnAjUm35bnGKGMXdZJSv4rrWK6JQ=</td>\n",
       "      <td>0</td>\n",
       "      <td>1</td>\n",
       "      <td>223921</td>\n",
       "      <td>921</td>\n",
       "      <td>รวมศิลปิน</td>\n",
       "      <td>Chackkrit Muckkanaso</td>\n",
       "      <td>Tadakorn; Narongvit Techatanawat</td>\n",
       "      <td>45</td>\n",
       "    </tr>\n",
       "    <tr>\n",
       "      <th>1</th>\n",
       "      <td>++/ACCkEN/+VtgrJxEqeRgRmV4y8pcarDJ9T/yRAi1E=</td>\n",
       "      <td>0</td>\n",
       "      <td>2</td>\n",
       "      <td>271302</td>\n",
       "      <td>465</td>\n",
       "      <td>Variété Française</td>\n",
       "      <td>NaN</td>\n",
       "      <td>NaN</td>\n",
       "      <td>52</td>\n",
       "    </tr>\n",
       "    <tr>\n",
       "      <th>2</th>\n",
       "      <td>++/lJNswCU+za2pYB0cWIbGL5UzWIKtfweX20+GImZA=</td>\n",
       "      <td>0</td>\n",
       "      <td>3</td>\n",
       "      <td>221413</td>\n",
       "      <td>786|947</td>\n",
       "      <td>愛的音樂盒</td>\n",
       "      <td>NaN</td>\n",
       "      <td>NaN</td>\n",
       "      <td>-1</td>\n",
       "    </tr>\n",
       "  </tbody>\n",
       "</table>\n",
       "</div>"
      ],
      "text/plain": [
       "                                        song_id  chance_replay  occurence  \\\n",
       "0  +++2AEoM0d8iZTdbnAjUm35bnGKGMXdZJSv4rrWK6JQ=              0          1   \n",
       "1  ++/ACCkEN/+VtgrJxEqeRgRmV4y8pcarDJ9T/yRAi1E=              0          2   \n",
       "2  ++/lJNswCU+za2pYB0cWIbGL5UzWIKtfweX20+GImZA=              0          3   \n",
       "\n",
       "   song_length genre_ids        artist_name              composer  \\\n",
       "0       223921       921          รวมศิลปิน  Chackkrit Muckkanaso   \n",
       "1       271302       465  Variété Française                   NaN   \n",
       "2       221413   786|947              愛的音樂盒                   NaN   \n",
       "\n",
       "                           lyricist  language  \n",
       "0  Tadakorn; Narongvit Techatanawat        45  \n",
       "1                               NaN        52  \n",
       "2                               NaN        -1  "
      ]
     },
     "execution_count": 9,
     "metadata": {},
     "output_type": "execute_result"
    }
   ],
   "source": [
    "song_data.head(3)"
   ]
  },
  {
   "cell_type": "code",
   "execution_count": 10,
   "metadata": {},
   "outputs": [
    {
     "data": {
      "text/plain": [
       "str"
      ]
     },
     "execution_count": 10,
     "metadata": {},
     "output_type": "execute_result"
    }
   ],
   "source": [
    "type('genre_ids')"
   ]
  },
  {
   "cell_type": "code",
   "execution_count": 6,
   "metadata": {},
   "outputs": [],
   "source": [
    "# Fonction qui permet de compter le nombre de valeurs : exemple, on peut avoir 2 nombres séparés par | pour le genre\n",
    "\n",
    "def cnt(a):\n",
    "    if type(a) != str:\n",
    "        return 1\n",
    "    else:\n",
    "        return 1 + a.count('|')"
   ]
  },
  {
   "cell_type": "markdown",
   "metadata": {},
   "source": [
    "#### Etude sur les genres, les compositeurs et lyriques"
   ]
  },
  {
   "cell_type": "code",
   "execution_count": 7,
   "metadata": {},
   "outputs": [],
   "source": [
    "song_data['number_of_genres'] = song_data['genre_ids'].apply(cnt)  # compte le nombre de genres par chanson\n",
    "song_data['number_of_composers'] = song_data['composer'].apply(cnt)\n",
    "song_data['number_of_lyricists'] = song_data['lyricist'].apply(cnt)"
   ]
  },
  {
   "cell_type": "code",
   "execution_count": 8,
   "metadata": {},
   "outputs": [
    {
     "name": "stdout",
     "output_type": "stream",
     "text": [
      "Nombre maximal de genres : 8 \n",
      "Nombre maximal de compositeurs : 51 \n",
      "Nombre maximal de lyriques : 23\n"
     ]
    }
   ],
   "source": [
    "genres_max = song_data['number_of_genres'].max()\n",
    "composers_max = song_data['number_of_composers'].max()\n",
    "lyricists_max = song_data['number_of_lyricists'].max()\n",
    "\n",
    "print('Nombre maximal de genres : {} \\nNombre maximal de compositeurs : {} \\nNombre maximal de lyriques : {}'.format(genres_max, composers_max, lyricists_max))\n"
   ]
  },
  {
   "cell_type": "code",
   "execution_count": 10,
   "metadata": {},
   "outputs": [
    {
     "name": "stdout",
     "output_type": "stream",
     "text": [
      "Chanson ayant le plus de compositeurs : \n",
      "\n",
      "artist_name                                                       SHINee\n",
      "composer               Korean Lyrics by Kim| Jong Hyun (12.5%) Harvey...\n",
      "lyricist                          Andreas \"Quiz\" Romdhane| Savan Kotecha\n",
      "number_of_composers                                                   51\n",
      "number_of_lyricists                                                    2\n",
      "Name: 309485, dtype: object\n"
     ]
    }
   ],
   "source": [
    "max_song_composers = song_data.iloc[song_data['number_of_composers'].idxmax()]\n",
    "print('Chanson ayant le plus de compositeurs : ' + '\\n'+ '\\n' + str(max_song_composers[['artist_name', 'composer', 'lyricist', 'number_of_composers',\n",
    "                     'number_of_lyricists']]))"
   ]
  },
  {
   "cell_type": "code",
   "execution_count": 11,
   "metadata": {},
   "outputs": [
    {
     "name": "stdout",
     "output_type": "stream",
     "text": [
      "Chanson ayant le plus de genres : \n",
      "\n",
      "artist_name                        証聲音樂圖書館 ECHO MUSIC\n",
      "composer               Joseph Mohr;Franz Xaver Gruber\n",
      "number_of_genres                                    8\n",
      "number_of_lyricists                                 1\n",
      "Name: 25490, dtype: object\n"
     ]
    }
   ],
   "source": [
    "max_song_genres = song_data.iloc[song_data['number_of_genres'].idxmax()]\n",
    "print('Chanson ayant le plus de genres : ' + '\\n'+ '\\n' + str(max_song_genres[['artist_name', 'composer', 'number_of_genres',\n",
    "                     'number_of_lyricists']]))"
   ]
  },
  {
   "cell_type": "markdown",
   "metadata": {},
   "source": [
    "#### Etude de l'influence de la langue "
   ]
  },
  {
   "cell_type": "code",
   "execution_count": 20,
   "metadata": {},
   "outputs": [],
   "source": [
    "languages = song_data['language'].unique()\n",
    "\n",
    "language_count = []\n",
    "language_occurence = []\n",
    "language_chance_replay = []\n",
    "\n",
    "for l in languages:\n",
    "    if not np.isnan(l):\n",
    "        songs_with_language = song_data[song_data['language'] == l] # pour chaque langue on compte le nombre de chansons\n",
    "        language_count.append(songs_with_language.shape[0]) # le nombre total de chansons dans la langue\n",
    "        count = songs_with_language['occurence'].sum() \n",
    "        language_occurence.append(count) # total d'occurence de la langue\n",
    "        language_chance_replay.append(songs_with_language['chance_replay'].sum() / count) # chance de répétition\n",
    "        \n",
    "        \n",
    "    else:\n",
    "        songs_with_language = song_data[pd.isnull(song_data['language'])]\n",
    "        language_count.append(songs_with_language.shape[0])\n",
    "        count = songs_with_language['occurence'].sum()\n",
    "        language_occurence.append(count)\n",
    "        language_chance_replay.append(songs_with_language['chance_replay'].sum() / count)\n",
    "        \n",
    "        # le nombre de chansons ayant la même langue / le nombre total d'occurence des chansons ayant la même langue donne\n",
    "        # le pourceentage de chance de répétition\n",
    "        "
   ]
  },
  {
   "cell_type": "code",
   "execution_count": 24,
   "metadata": {},
   "outputs": [
    {
     "name": "stdout",
     "output_type": "stream",
     "text": [
      "Langues : [45. 52. -1.  3. 10. 24. 31. 17. 59. 38. nan]\n"
     ]
    }
   ],
   "source": [
    "print('Langues : {}'.format(languages))"
   ]
  },
  {
   "cell_type": "code",
   "execution_count": 25,
   "metadata": {},
   "outputs": [],
   "source": [
    "languages[10] = 90 # On affecte la valeur 90 (au hasard) à la langue 'nan'"
   ]
  },
  {
   "cell_type": "code",
   "execution_count": 21,
   "metadata": {},
   "outputs": [
    {
     "data": {
      "image/png": "[encoded data removed]",
      "text/plain": [
       "<matplotlib.figure.Figure at 0x7fd25cc203c8>"
      ]
     },
     "metadata": {},
     "output_type": "display_data"
    }
   ],
   "source": [
    "fig = plt.figure(figsize=(15, 15)) \n",
    "\n",
    "ax1 = plt.subplot(3,1,1)\n",
    "sns.barplot(languages, np.log10(language_count)) # log en base 10 pour l'échelle\n",
    "ax1.set_ylabel('log10(# chansons)')\n",
    "\n",
    "ax2 = plt.subplot(3,1,2)\n",
    "sns.barplot(languages, np.log10(language_occurence))\n",
    "ax2.set_ylabel('log10(occurence)')\n",
    "\n",
    "\n",
    "ax3 = plt.subplot(3,1,3)\n",
    "sns.barplot(languages,language_chance_replay)\n",
    "ax3.set_ylabel('Chance de répétition')\n",
    "ax3.set_xlabel('langage de la chanson')\n",
    "\n",
    "plt.show()\n"
   ]
  },
  {
   "cell_type": "markdown",
   "metadata": {},
   "source": [
    "Les chansons de langue '3', '10', '31' ont moins de chance de réécoute. Cependant elles représentent plus d'écoute.\n",
    "On dénombre plus de chansons (5000) dans la langue '52'."
   ]
  },
  {
   "cell_type": "code",
   "execution_count": 22,
   "metadata": {},
   "outputs": [
    {
     "data": {
      "image/png": "[encoded data removed]",
      "text/plain": [
       "<matplotlib.figure.Figure at 0x7fd2933ad438>"
      ]
     },
     "metadata": {},
     "output_type": "display_data"
    }
   ],
   "source": [
    "l = pd.DataFrame({'language_count' :language_count,'language_occurence' : language_occurence, 'chance_replay' : language_chance_replay})\n",
    "corr = l.corr()\n",
    "sns.heatmap(corr,cmap= 'RdBu', xticklabels=corr.columns.values, yticklabels=corr.columns.values)\n",
    "plt.show()"
   ]
  },
  {
   "cell_type": "markdown",
   "metadata": {},
   "source": [
    "Le nombre de chansons dans une langue et le nombre d'occurences influent négativement à la chance de répétition."
   ]
  },
  {
   "cell_type": "markdown",
   "metadata": {},
   "source": [
    "#### Etude de l'influence de la durée de la chanson"
   ]
  },
  {
   "cell_type": "code",
   "execution_count": 23,
   "metadata": {},
   "outputs": [
    {
     "data": {
      "image/png": "[encoded data removed]",
      "text/plain": [
       "<matplotlib.figure.Figure at 0x7fd293090f28>"
      ]
     },
     "metadata": {},
     "output_type": "display_data"
    }
   ],
   "source": [
    "plt.figure(figsize=(18,8))\n",
    "k = np.logspace(np.log10(min_song_length_sec)+1,np.log10(max_song_length_sec),150)\n",
    "\n",
    "sns.distplot(song_data['song_length']/1000, bins=k, hist_kws={\"alpha\": 1}, kde=False, color='indianred')\n",
    "plt.xlabel('durée de la chanson (en secondes)')\n",
    "plt.ylabel('card(chansons)')\n",
    "plt.yscale('log')\n",
    "plt.xscale('log')\n",
    "plt.show()"
   ]
  },
  {
   "cell_type": "markdown",
   "metadata": {},
   "source": [
    "Il existe beaucoup de chansons dont leur durée est supérieure à 1000s ~ 16 minutes. La durée est néanmoins fortement concentrée entre 2 et moins de 6 minutes."
   ]
  },
  {
   "cell_type": "code",
   "execution_count": 116,
   "metadata": {},
   "outputs": [
    {
     "data": {
      "text/plain": [
       "(150,)"
      ]
     },
     "execution_count": 116,
     "metadata": {},
     "output_type": "execute_result"
    }
   ],
   "source": [
    "k.shape"
   ]
  },
  {
   "cell_type": "code",
   "execution_count": 24,
   "metadata": {},
   "outputs": [
    {
     "data": {
      "image/png": "[encoded data removed]",
      "text/plain": [
       "<matplotlib.figure.Figure at 0x7fd2591a8c50>"
      ]
     },
     "metadata": {},
     "output_type": "display_data"
    }
   ],
   "source": [
    "d_chance_rpt = []\n",
    "d_occurence = []\n",
    "\n",
    "durée = list(range(k.shape[0]-1))\n",
    "song_data['sub_durée'] = pd.cut(song_data['song_length']/1000, bins=k, labels=durée)  # subdivision de la durée\n",
    "\n",
    "for d in durée :\n",
    "    sub_durée_d = song_data[song_data['sub_durée']==d]\n",
    "    count = sub_durée_d['occurence'].sum()\n",
    "    d_occurence.append(count)\n",
    "    \n",
    "    if count != 0:\n",
    "        d_chance_rpt.append(sub_durée_d['chance_replay'].sum() / count)\n",
    "    else:                                               # si la durée n'est pas dans k\n",
    "        d_chance_rpt.append(0)\n",
    "    \n",
    "plt.figure(figsize=(18, 16)) \n",
    "\n",
    "ax211 = plt.subplot(2,1,1)\n",
    "sns.barplot(x=k[durée],y=np.log10(d_occurence))\n",
    "ax211.set_ylabel('log10(# écoutes)')\n",
    "\n",
    "ax212 = plt.subplot(2,1,2)\n",
    "sns.barplot(x = k[durée],y = d_chance_rpt)\n",
    "ax212.set_ylabel('Chance de répétition')\n",
    "ax212.set_xlabel('Durée de la chanson')\n",
    "\n",
    "plt.show()"
   ]
  },
  {
   "cell_type": "markdown",
   "metadata": {},
   "source": [
    "Il est clair que les chansons qui ont une durée supérieure à la moyenne, ont de forte chance d'étre réécoutées.\n",
    "En effet, les gens qui ont écouté la chanson de Jason Stephenson l'ont réécoutée au moins une seconde fois."
   ]
  },
  {
   "cell_type": "code",
   "execution_count": 25,
   "metadata": {},
   "outputs": [
    {
     "name": "stdout",
     "output_type": "stream",
     "text": [
      "Various Artists       17080\n",
      "証聲音樂圖書館 ECHO MUSIC     3997\n",
      "貴族精選                   1211\n",
      "霹靂布袋戲劇集原聲帶              937\n",
      "張學友 (Jacky Cheung)      869\n",
      "陳奕迅 (Eason Chan)        832\n",
      "鄧麗君 (Teresa Teng)       786\n",
      "Michael Jackson         657\n",
      "Armin van Buuren        577\n",
      "王菲 (Faye Wong)          536\n",
      "Name: artist_name, dtype: int64\n"
     ]
    }
   ],
   "source": [
    "print(song_data['artist_name'].value_counts()[:10]) # 10 artistes les représentés dans la base"
   ]
  },
  {
   "cell_type": "code",
   "execution_count": 31,
   "metadata": {},
   "outputs": [
    {
     "data": {
      "image/png": "[encoded data removed]",
      "text/plain": [
       "<matplotlib.figure.Figure at 0x7fd2584d0080>"
      ]
     },
     "metadata": {},
     "output_type": "display_data"
    }
   ],
   "source": [
    "max_titre = song_data['artist_name'].value_counts().max()\n",
    "\n",
    "plt.figure(figsize=(15,8))\n",
    "\n",
    "k_titre = np.logspace(0,np.log10(max_titre),100)\n",
    "\n",
    "sns.distplot(song_data['artist_name'].value_counts(), bins=k_titre, kde=False, hist_kws={\"alpha\": 1}, color='c')\n",
    "plt.xlabel('nombres de titres')\n",
    "plt.ylabel(\"nombre d'artistes\")\n",
    "plt.yscale('log')\n",
    "plt.xscale('log')\n",
    "\n",
    "membersplt.show()"
   ]
  },
  {
   "cell_type": "markdown",
   "metadata": {},
   "source": [
    "### Croisement Train-Songs-Members"
   ]
  },
  {
   "cell_type": "code",
   "execution_count": 7,
   "metadata": {
    "scrolled": true
   },
   "outputs": [],
   "source": [
    "members = pd.read_csv(path+'/'+'members.csv')\n",
    "df1 = data_train.merge(songs,on='song_id')\n",
    "song_train_mem = df1.merge(members, on= 'msno', how='left')"
   ]
  },
  {
   "cell_type": "code",
   "execution_count": 10,
   "metadata": {
    "scrolled": false
   },
   "outputs": [
    {
     "data": {
      "text/plain": [
       "msno                      0.000000\n",
       "song_id                   0.000000\n",
       "source_system_tab         0.003368\n",
       "source_screen_name        0.056226\n",
       "source_type               0.002920\n",
       "target                    0.000000\n",
       "song_length               0.000000\n",
       "genre_ids                 0.016041\n",
       "artist_name               0.000000\n",
       "composer                  0.227128\n",
       "lyricist                  0.430873\n",
       "language                  0.000005\n",
       "city                      0.000000\n",
       "bd                        0.000000\n",
       "gender                    0.401425\n",
       "registered_via            0.000000\n",
       "registration_init_time    0.000000\n",
       "expiration_date           0.000000\n",
       "dtype: float64"
      ]
     },
     "execution_count": 10,
     "metadata": {},
     "output_type": "execute_result"
    }
   ],
   "source": [
    "song_train_mem.isnull().sum()/song_train_mem.isnull().count()"
   ]
  },
  {
   "cell_type": "markdown",
   "metadata": {},
   "source": [
    "43% des données manquantes après croisement de (train-songs_members) concernent les paroliers et 40% le sexe des membres ..."
   ]
  },
  {
   "cell_type": "markdown",
   "metadata": {},
   "source": [
    "Nous allons remplacer les données manquantes par ...0. Elles concernent essentiellement le sexe, les paroliers ... des variables catégorielles !"
   ]
  },
  {
   "cell_type": "code",
   "execution_count": 8,
   "metadata": {},
   "outputs": [],
   "source": [
    "song_train_mem = song_train_mem.fillna(value=0)"
   ]
  },
  {
   "cell_type": "code",
   "execution_count": 36,
   "metadata": {},
   "outputs": [
    {
     "name": "stdout",
     "output_type": "stream",
     "text": [
      "<class 'pandas.core.frame.DataFrame'>\n",
      "Int64Index: 7377304 entries, 0 to 7377303\n",
      "Data columns (total 18 columns):\n",
      "msno                      object\n",
      "song_id                   object\n",
      "source_system_tab         object\n",
      "source_screen_name        object\n",
      "source_type               object\n",
      "target                    int64\n",
      "song_length               int64\n",
      "genre_ids                 object\n",
      "artist_name               object\n",
      "composer                  object\n",
      "lyricist                  object\n",
      "language                  float64\n",
      "city                      int64\n",
      "bd                        int64\n",
      "gender                    object\n",
      "registered_via            int64\n",
      "registration_init_time    int64\n",
      "expiration_date           int64\n",
      "dtypes: float64(1), int64(7), object(10)\n",
      "memory usage: 1.0+ GB\n"
     ]
    }
   ],
   "source": [
    "song_train_mem.info()"
   ]
  },
  {
   "cell_type": "code",
   "execution_count": 9,
   "metadata": {},
   "outputs": [
    {
     "data": {
      "text/html": [
       "<div>\n",
       "<style scoped>\n",
       "    .dataframe tbody tr th:only-of-type {\n",
       "        vertical-align: middle;\n",
       "    }\n",
       "\n",
       "    .dataframe tbody tr th {\n",
       "        vertical-align: top;\n",
       "    }\n",
       "\n",
       "    .dataframe thead th {\n",
       "        text-align: right;\n",
       "    }\n",
       "</style>\n",
       "<table border=\"1\" class=\"dataframe\">\n",
       "  <thead>\n",
       "    <tr style=\"text-align: right;\">\n",
       "      <th></th>\n",
       "      <th>msno</th>\n",
       "      <th>song_id</th>\n",
       "      <th>source_system_tab</th>\n",
       "      <th>source_screen_name</th>\n",
       "      <th>source_type</th>\n",
       "      <th>target</th>\n",
       "      <th>song_length</th>\n",
       "      <th>genre_ids</th>\n",
       "      <th>artist_name</th>\n",
       "      <th>composer</th>\n",
       "      <th>...</th>\n",
       "      <th>gender</th>\n",
       "      <th>registered_via</th>\n",
       "      <th>registration_init_time</th>\n",
       "      <th>expiration_date</th>\n",
       "      <th>annee_enregristrement</th>\n",
       "      <th>mois_enregristrement</th>\n",
       "      <th>jour_enregristrement</th>\n",
       "      <th>annee_expiration</th>\n",
       "      <th>mois_expiration</th>\n",
       "      <th>jour_expiration</th>\n",
       "    </tr>\n",
       "  </thead>\n",
       "  <tbody>\n",
       "    <tr>\n",
       "      <th>0</th>\n",
       "      <td>FGtllVqz18RPiwJj/edr2gV78zirAiY/9SmYvia+kCg=</td>\n",
       "      <td>BBzumQNXUHKdEBOB7mAJuzok+IJA1c2Ryg/yzTF6tik=</td>\n",
       "      <td>explore</td>\n",
       "      <td>Explore</td>\n",
       "      <td>online-playlist</td>\n",
       "      <td>1</td>\n",
       "      <td>206471</td>\n",
       "      <td>359</td>\n",
       "      <td>Bastille</td>\n",
       "      <td>Dan Smith| Mark Crew</td>\n",
       "      <td>...</td>\n",
       "      <td>0</td>\n",
       "      <td>7</td>\n",
       "      <td>20120102</td>\n",
       "      <td>20171005</td>\n",
       "      <td>2012</td>\n",
       "      <td>01</td>\n",
       "      <td>02</td>\n",
       "      <td>2017</td>\n",
       "      <td>10</td>\n",
       "      <td>05</td>\n",
       "    </tr>\n",
       "    <tr>\n",
       "      <th>1</th>\n",
       "      <td>e5Ezre9HPuPos+CXQXtmo32E/hHIZTMmo6jG3yRf6UA=</td>\n",
       "      <td>BBzumQNXUHKdEBOB7mAJuzok+IJA1c2Ryg/yzTF6tik=</td>\n",
       "      <td>my library</td>\n",
       "      <td>Local playlist more</td>\n",
       "      <td>local-playlist</td>\n",
       "      <td>1</td>\n",
       "      <td>206471</td>\n",
       "      <td>359</td>\n",
       "      <td>Bastille</td>\n",
       "      <td>Dan Smith| Mark Crew</td>\n",
       "      <td>...</td>\n",
       "      <td>female</td>\n",
       "      <td>3</td>\n",
       "      <td>20150513</td>\n",
       "      <td>20171019</td>\n",
       "      <td>2015</td>\n",
       "      <td>05</td>\n",
       "      <td>13</td>\n",
       "      <td>2017</td>\n",
       "      <td>10</td>\n",
       "      <td>19</td>\n",
       "    </tr>\n",
       "    <tr>\n",
       "      <th>2</th>\n",
       "      <td>pouJqjNRmZOnRNzzMWWkamTKkIGHyvhl/jo4HgbncnM=</td>\n",
       "      <td>BBzumQNXUHKdEBOB7mAJuzok+IJA1c2Ryg/yzTF6tik=</td>\n",
       "      <td>discover</td>\n",
       "      <td>Online playlist more</td>\n",
       "      <td>online-playlist</td>\n",
       "      <td>0</td>\n",
       "      <td>206471</td>\n",
       "      <td>359</td>\n",
       "      <td>Bastille</td>\n",
       "      <td>Dan Smith| Mark Crew</td>\n",
       "      <td>...</td>\n",
       "      <td>male</td>\n",
       "      <td>4</td>\n",
       "      <td>20151220</td>\n",
       "      <td>20170930</td>\n",
       "      <td>2015</td>\n",
       "      <td>12</td>\n",
       "      <td>20</td>\n",
       "      <td>2017</td>\n",
       "      <td>09</td>\n",
       "      <td>30</td>\n",
       "    </tr>\n",
       "  </tbody>\n",
       "</table>\n",
       "<p>3 rows × 24 columns</p>\n",
       "</div>"
      ],
      "text/plain": [
       "                                           msno  \\\n",
       "0  FGtllVqz18RPiwJj/edr2gV78zirAiY/9SmYvia+kCg=   \n",
       "1  e5Ezre9HPuPos+CXQXtmo32E/hHIZTMmo6jG3yRf6UA=   \n",
       "2  pouJqjNRmZOnRNzzMWWkamTKkIGHyvhl/jo4HgbncnM=   \n",
       "\n",
       "                                        song_id source_system_tab  \\\n",
       "0  BBzumQNXUHKdEBOB7mAJuzok+IJA1c2Ryg/yzTF6tik=           explore   \n",
       "1  BBzumQNXUHKdEBOB7mAJuzok+IJA1c2Ryg/yzTF6tik=        my library   \n",
       "2  BBzumQNXUHKdEBOB7mAJuzok+IJA1c2Ryg/yzTF6tik=          discover   \n",
       "\n",
       "     source_screen_name      source_type  target  song_length genre_ids  \\\n",
       "0               Explore  online-playlist       1       206471       359   \n",
       "1   Local playlist more   local-playlist       1       206471       359   \n",
       "2  Online playlist more  online-playlist       0       206471       359   \n",
       "\n",
       "  artist_name              composer       ...        gender  registered_via  \\\n",
       "0    Bastille  Dan Smith| Mark Crew       ...             0               7   \n",
       "1    Bastille  Dan Smith| Mark Crew       ...        female               3   \n",
       "2    Bastille  Dan Smith| Mark Crew       ...          male               4   \n",
       "\n",
       "   registration_init_time  expiration_date annee_enregristrement  \\\n",
       "0                20120102         20171005                  2012   \n",
       "1                20150513         20171019                  2015   \n",
       "2                20151220         20170930                  2015   \n",
       "\n",
       "   mois_enregristrement  jour_enregristrement  annee_expiration  \\\n",
       "0                    01                    02              2017   \n",
       "1                    05                    13              2017   \n",
       "2                    12                    20              2017   \n",
       "\n",
       "  mois_expiration jour_expiration  \n",
       "0              10              05  \n",
       "1              10              19  \n",
       "2              09              30  \n",
       "\n",
       "[3 rows x 24 columns]"
      ]
     },
     "execution_count": 9,
     "metadata": {},
     "output_type": "execute_result"
    }
   ],
   "source": [
    "#song_train_mem['registration_init_time'] = pd.to_datetime(song_train_mem['registration_init_time'], format = '%Y%m%d')\n",
    "#song_train_mem['annee_enregristrement'] = song_train_mem['registration_init_time'].dt.year\n",
    "\n",
    "song_train_mem[\"annee_enregristrement\"] = song_train_mem.registration_init_time.apply(lambda  x: str(x)[0:4])\n",
    "song_train_mem['mois_enregristrement'] = song_train_mem.registration_init_time.apply(lambda  x: str(x)[4:6])\n",
    "song_train_mem['jour_enregristrement'] = song_train_mem.registration_init_time.apply(lambda  x: str(x)[6:8])\n",
    "\n",
    "song_train_mem[\"annee_expiration\"] = song_train_mem.expiration_date.apply(lambda  x: str(x)[0:4])\n",
    "song_train_mem['mois_expiration'] = song_train_mem.expiration_date.apply(lambda  x: str(x)[4:6])\n",
    "song_train_mem['jour_expiration'] = song_train_mem.expiration_date.apply(lambda  x: str(x)[6:8])\n",
    "\n",
    "song_train_mem.head(3)"
   ]
  },
  {
   "cell_type": "code",
   "execution_count": 10,
   "metadata": {},
   "outputs": [],
   "source": [
    "for c in song_train_mem.select_dtypes(include = ['object']).columns:\n",
    "    song_train_mem[c] = song_train_mem[c].astype('category')    # on change le type des objets en catégorie\n",
    "    \n",
    "for c in song_train_mem.select_dtypes(include = ['category']).columns:  \n",
    "    song_train_mem[c] = song_train_mem[c].cat.codes   # codage des variables catégorielles\n",
    "    \n",
    "song_train_mem = song_train_mem.drop(['registration_init_time','expiration_date'],1)"
   ]
  },
  {
   "cell_type": "code",
   "execution_count": 14,
   "metadata": {
    "scrolled": true
   },
   "outputs": [
    {
     "data": {
      "image/png": "[encoded data removed]",
      "text/plain": [
       "<matplotlib.figure.Figure at 0x7f5eae11c198>"
      ]
     },
     "metadata": {},
     "output_type": "display_data"
    }
   ],
   "source": [
    "plt.figure(figsize = [10,8])\n",
    "sns.heatmap(song_train_mem.corr())\n",
    "plt.show()"
   ]
  },
  {
   "cell_type": "markdown",
   "metadata": {},
   "source": [
    "Après l'encodage des variables catégorielles, il s'avère que certaines variables sont moyennement corrélées.\n",
    "Ces corrélations semblent cohérentes : il s'agit du compositeur et le parolier."
   ]
  },
  {
   "cell_type": "markdown",
   "metadata": {},
   "source": [
    "#### Variable target"
   ]
  },
  {
   "cell_type": "code",
   "execution_count": 14,
   "metadata": {
    "scrolled": true
   },
   "outputs": [
    {
     "data": {
      "text/html": [
       "<div>\n",
       "<style scoped>\n",
       "    .dataframe tbody tr th:only-of-type {\n",
       "        vertical-align: middle;\n",
       "    }\n",
       "\n",
       "    .dataframe tbody tr th {\n",
       "        vertical-align: top;\n",
       "    }\n",
       "\n",
       "    .dataframe thead th {\n",
       "        text-align: right;\n",
       "    }\n",
       "</style>\n",
       "<table border=\"1\" class=\"dataframe\">\n",
       "  <thead>\n",
       "    <tr style=\"text-align: right;\">\n",
       "      <th></th>\n",
       "      <th>target</th>\n",
       "      <th>count</th>\n",
       "    </tr>\n",
       "  </thead>\n",
       "  <tbody>\n",
       "    <tr>\n",
       "      <th>0</th>\n",
       "      <td>0</td>\n",
       "      <td>3662694</td>\n",
       "    </tr>\n",
       "    <tr>\n",
       "      <th>1</th>\n",
       "      <td>1</td>\n",
       "      <td>3714610</td>\n",
       "    </tr>\n",
       "  </tbody>\n",
       "</table>\n",
       "</div>"
      ],
      "text/plain": [
       "   target    count\n",
       "0       0  3662694\n",
       "1       1  3714610"
      ]
     },
     "execution_count": 14,
     "metadata": {},
     "output_type": "execute_result"
    }
   ],
   "source": [
    "dfp  = song_train_mem[['target', 'msno']].groupby(['target']).agg(['count'])\n",
    "dfp.reset_index(inplace=True)\n",
    "dfp.columns = list(map(''.join, dfp.columns.values))\n",
    "dfp.columns = ['target', 'count']\n",
    "dfp"
   ]
  },
  {
   "cell_type": "markdown",
   "metadata": {},
   "source": [
    "Target est bien réparti !"
   ]
  }
 ],
 "metadata": {
  "kernelspec": {
   "display_name": "Python 3",
   "language": "python",
   "name": "python3"
  },
  "language_info": {
   "codemirror_mode": {
    "name": "ipython",
    "version": 3
   },
   "file_extension": ".py",
   "mimetype": "text/x-python",
   "name": "python",
   "nbconvert_exporter": "python",
   "pygments_lexer": "ipython3",
   "version": "3.5.2"
  }
 },
 "nbformat": 4,
 "nbformat_minor": 2
}
