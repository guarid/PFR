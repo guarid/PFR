{
 "cells": [
  {
   "cell_type": "markdown",
   "metadata": {},
   "source": [
    "## PROJET FIL ROUGE"
   ]
  },
  {
   "cell_type": "code",
   "execution_count": 1,
   "metadata": {},
   "outputs": [],
   "source": [
    "# import des librairies\n",
    "import pandas as pd\n",
    "import numpy as np\n",
    "import time\n",
    "import seaborn as sns\n",
    "import matplotlib.pyplot as plt\n",
    "path = '/home/....../Bureau/PFL'"
   ]
  },
  {
   "cell_type": "code",
   "execution_count": 7,
   "metadata": {},
   "outputs": [
    {
     "name": "stdout",
     "output_type": "stream",
     "text": [
      "Temps de l'import de l'échantillon test et d'apprentissage :\n",
      "23.854s\n"
     ]
    }
   ],
   "source": [
    "t0 = time.time()\n",
    "print(\"Temps de l'import de l'échantillon test et d'apprentissage :\")\n",
    "filename_train = 'train.csv'\n",
    "filename_test = 'test.csv'\n",
    "\n",
    "data_train = pd.read_csv(path+'/'+filename_train)\n",
    "#data_test = pd.read_csv(path+'/'+filename_test)\n",
    "\n",
    "print(\"%0.3fs\" % (time.time() - t0))"
   ]
  },
  {
   "cell_type": "code",
   "execution_count": 6,
   "metadata": {},
   "outputs": [
    {
     "name": "stdout",
     "output_type": "stream",
     "text": [
      "Statistiques sur les chansons :\n",
      "Nombre de chansons uniques dans train : 359966\n",
      "Nombre de chansons uniques dans test : 224753\n",
      "Chansons uniques présentes dans Train et Test : 164880\n",
      "0.2664\n"
     ]
    }
   ],
   "source": [
    "print(\"Statistiques sur les chansons :\")\n",
    "print(\"Nombre de chansons uniques dans train : \" + str(data_train['song_id'].nunique()))\n",
    "print(\"Nombre de chansons uniques dans test : \" + str(data_test['song_id'].nunique()))\n",
    "merge_train_et_test = np.intersect1d(data_train['song_id'].unique(), data_test['song_id'].unique())\n",
    "\n",
    "print(\"Chansons uniques présentes dans Train et Test : {}\" .format(merge_train_et_test.shape[0]))\n",
    "print(round((data_test['song_id'].nunique()- merge_train_et_test.shape[0])/data_test['song_id'].nunique(),4))\n",
    "\n"
   ]
  },
  {
   "cell_type": "markdown",
   "metadata": {},
   "source": [
    "Il existe 26.64% de chansons uniques dans Test et non présentes dans le jeu d'apprentissage"
   ]
  },
  {
   "cell_type": "markdown",
   "metadata": {},
   "source": [
    "### SONGS"
   ]
  },
  {
   "cell_type": "code",
   "execution_count": 2,
   "metadata": {
    "scrolled": false
   },
   "outputs": [
    {
     "name": "stdout",
     "output_type": "stream",
     "text": [
      "Nombre de chansons : 2296320\n"
     ]
    },
    {
     "data": {
      "text/html": [
       "<div>\n",
       "<table border=\"1\" class=\"dataframe\">\n",
       "  <thead>\n",
       "    <tr style=\"text-align: right;\">\n",
       "      <th></th>\n",
       "      <th>song_id</th>\n",
       "      <th>song_length</th>\n",
       "      <th>genre_ids</th>\n",
       "      <th>artist_name</th>\n",
       "      <th>composer</th>\n",
       "      <th>lyricist</th>\n",
       "      <th>language</th>\n",
       "    </tr>\n",
       "  </thead>\n",
       "  <tbody>\n",
       "    <tr>\n",
       "      <th>0</th>\n",
       "      <td>CXoTN1eb7AI+DntdU1vbcwGRV4SCIDxZu+YD8JP8r4E=</td>\n",
       "      <td>247640</td>\n",
       "      <td>465</td>\n",
       "      <td>張信哲 (Jeff Chang)</td>\n",
       "      <td>董貞</td>\n",
       "      <td>何啟弘</td>\n",
       "      <td>3</td>\n",
       "    </tr>\n",
       "    <tr>\n",
       "      <th>1</th>\n",
       "      <td>o0kFgae9QtnYgRkVPqLJwa05zIhRlUjfF7O1tDw0ZDU=</td>\n",
       "      <td>197328</td>\n",
       "      <td>444</td>\n",
       "      <td>BLACKPINK</td>\n",
       "      <td>TEDDY|  FUTURE BOUNCE|  Bekuh BOOM</td>\n",
       "      <td>TEDDY</td>\n",
       "      <td>31</td>\n",
       "    </tr>\n",
       "    <tr>\n",
       "      <th>2</th>\n",
       "      <td>DwVvVurfpuz+XPuFvucclVQEyPqcpUkHR0ne1RQzPs0=</td>\n",
       "      <td>231781</td>\n",
       "      <td>465</td>\n",
       "      <td>SUPER JUNIOR</td>\n",
       "      <td>NaN</td>\n",
       "      <td>NaN</td>\n",
       "      <td>31</td>\n",
       "    </tr>\n",
       "    <tr>\n",
       "      <th>3</th>\n",
       "      <td>dKMBWoZyScdxSkihKG+Vf47nc18N9q4m58+b4e7dSSE=</td>\n",
       "      <td>273554</td>\n",
       "      <td>465</td>\n",
       "      <td>S.H.E</td>\n",
       "      <td>湯小康</td>\n",
       "      <td>徐世珍</td>\n",
       "      <td>3</td>\n",
       "    </tr>\n",
       "    <tr>\n",
       "      <th>4</th>\n",
       "      <td>W3bqWd3T+VeHFzHAUfARgW9AvVRaF4N5Yzm4Mr6Eo/o=</td>\n",
       "      <td>140329</td>\n",
       "      <td>726</td>\n",
       "      <td>貴族精選</td>\n",
       "      <td>Traditional</td>\n",
       "      <td>Traditional</td>\n",
       "      <td>52</td>\n",
       "    </tr>\n",
       "  </tbody>\n",
       "</table>\n",
       "</div>"
      ],
      "text/plain": [
       "                                        song_id  song_length genre_ids  \\\n",
       "0  CXoTN1eb7AI+DntdU1vbcwGRV4SCIDxZu+YD8JP8r4E=       247640       465   \n",
       "1  o0kFgae9QtnYgRkVPqLJwa05zIhRlUjfF7O1tDw0ZDU=       197328       444   \n",
       "2  DwVvVurfpuz+XPuFvucclVQEyPqcpUkHR0ne1RQzPs0=       231781       465   \n",
       "3  dKMBWoZyScdxSkihKG+Vf47nc18N9q4m58+b4e7dSSE=       273554       465   \n",
       "4  W3bqWd3T+VeHFzHAUfARgW9AvVRaF4N5Yzm4Mr6Eo/o=       140329       726   \n",
       "\n",
       "        artist_name                            composer     lyricist  language  \n",
       "0  張信哲 (Jeff Chang)                                  董貞          何啟弘         3  \n",
       "1         BLACKPINK  TEDDY|  FUTURE BOUNCE|  Bekuh BOOM        TEDDY        31  \n",
       "2      SUPER JUNIOR                                 NaN          NaN        31  \n",
       "3             S.H.E                                 湯小康          徐世珍         3  \n",
       "4              貴族精選                         Traditional  Traditional        52  "
      ]
     },
     "execution_count": 2,
     "metadata": {},
     "output_type": "execute_result"
    }
   ],
   "source": [
    "songs = pd.read_csv(path+'/'+'songs.csv')\n",
    "print('Nombre de chansons : {}'.format(songs['song_id'].nunique()))\n",
    "songs.head(5)"
   ]
  },
  {
   "cell_type": "raw",
   "metadata": {},
   "source": [
    "On dénombre 2 296 320 chansons décrites par 7 variables : le nom de la chanson, la durée, le genre, l'artiste, le compositeur et la langue.\n",
    "A noter qu'une chanson peut avoir plusieurs genres."
   ]
  },
  {
   "cell_type": "code",
   "execution_count": 3,
   "metadata": {},
   "outputs": [
    {
     "name": "stdout",
     "output_type": "stream",
     "text": [
      "Durée de la plus courte chanson : 0.185\n",
      "Durée de la plus longue chanson : 12173.85\n"
     ]
    }
   ],
   "source": [
    "min_song_length_sec = songs['song_length'].min() / 1000  # durée en milisecondes\n",
    "max_song_length_sec = songs['song_length'].max() / 1000\n",
    "print('Durée de la plus courte chanson : {}'.format(min_song_length_sec))\n",
    "print('Durée de la plus longue chanson : {}'.format(max_song_length_sec))"
   ]
  },
  {
   "cell_type": "raw",
   "metadata": {},
   "source": [
    "Bizarre ! Une chanson de moins d'une seconde et la plus longue dure plus de 3h."
   ]
  },
  {
   "cell_type": "code",
   "execution_count": 4,
   "metadata": {},
   "outputs": [
    {
     "name": "stdout",
     "output_type": "stream",
     "text": [
      "song_id        kLdsd0eUT6Pp3EDG4nEGBxabSN5b9CUSuaE3H/B5w78=\n",
      "song_length                                             185\n",
      "genre_ids                                               921\n",
      "artist_name                       Blockbuster Sound Effects\n",
      "composer                                                NaN\n",
      "lyricist                                                NaN\n",
      "language                                                 52\n",
      "Name: 677186, dtype: object\n",
      "=============================================================\n",
      "song_id        DCdid/1HvuvKitGXNUg+R89Z9T7bHQquDeUra4fBzZU=\n",
      "song_length                                        12173850\n",
      "genre_ids                                               940\n",
      "artist_name                                Jason Stephenson\n",
      "composer                                   Jason Stephenson\n",
      "lyricist                                                NaN\n",
      "language                                                 -1\n",
      "Name: 778210, dtype: object\n"
     ]
    }
   ],
   "source": [
    "min_length_song = songs.iloc[songs['song_length'].idxmin()]\n",
    "max_length_song = songs.iloc[songs['song_length'].idxmax()]\n",
    "print(min_length_song)\n",
    "print('=============================================================')\n",
    "print(max_length_song)"
   ]
  },
  {
   "cell_type": "raw",
   "metadata": {},
   "source": [
    "La plus courte chanson est de Blockbuster Sound Effects. En faisant une recherche sur Deezer, on s'aperçoit en effet qu'il s'agit d'effets musicaux très courts.\n",
    "Quant à Jason Stephenson, c'est un compositeur de musique de méditation/relaxation."
   ]
  },
  {
   "cell_type": "code",
   "execution_count": 5,
   "metadata": {},
   "outputs": [
    {
     "name": "stdout",
     "output_type": "stream",
     "text": [
      "Langues : [ 3. 31. 52. 17. 10. -1. 24. 59. 45. 38. nan]\n",
      "Nombre de langues : 11\n"
     ]
    }
   ],
   "source": [
    "print('Langues : {}'.format(songs['language'].unique()))\n",
    "print('Nombre de langues : {}'.format(songs['language'].unique().shape[0]))"
   ]
  },
  {
   "cell_type": "raw",
   "metadata": {},
   "source": [
    "Les chansons sont composées en 10 langues diffèrentes."
   ]
  },
  {
   "cell_type": "markdown",
   "metadata": {},
   "source": [
    "### Etude de la popularité des chansons"
   ]
  },
  {
   "cell_type": "markdown",
   "metadata": {},
   "source": [
    "Dans cette étape, on croise le jeu de données d'apprentissage et la table des chansons.\n",
    "L'idée est de classer les chansons selon leur popularité mais aussi d'étudier les variables qui influent à la répétition ou non des chansons."
   ]
  },
  {
   "cell_type": "code",
   "execution_count": 8,
   "metadata": {},
   "outputs": [],
   "source": [
    "log_chansons = data_train[['msno','song_id','target']].merge(songs,on='song_id')\n",
    "log_chansons_g = log_chansons[['song_id', 'target']].groupby(['song_id']).agg(['mean','count'])"
   ]
  },
  {
   "cell_type": "code",
   "execution_count": 9,
   "metadata": {},
   "outputs": [],
   "source": [
    "log_chansons_g.reset_index(inplace=True)\n",
    "log_chansons_g.columns = list(map(''.join, log_chansons_g.columns.values))\n",
    "log_chansons_g.columns = ['song_id', 'chance_replay', 'occurence']\n",
    "song_data = log_chansons_g.merge(songs, on='song_id')"
   ]
  },
  {
   "cell_type": "markdown",
   "metadata": {},
   "source": [
    "#### Le nombre maximal d'occurence"
   ]
  },
  {
   "cell_type": "code",
   "execution_count": 10,
   "metadata": {},
   "outputs": [
    {
     "data": {
      "text/plain": [
       "13973"
      ]
     },
     "execution_count": 10,
     "metadata": {},
     "output_type": "execute_result"
    }
   ],
   "source": [
    "song_data['occurence'].max()"
   ]
  },
  {
   "cell_type": "raw",
   "metadata": {},
   "source": [
    "Comment la popularité d'une chanson (nombre d'occurence) peut affecter le nombre d'écoutes (replay) ?"
   ]
  },
  {
   "cell_type": "code",
   "execution_count": 11,
   "metadata": {},
   "outputs": [
    {
     "data": {
      "text/html": [
       "<div>\n",
       "<table border=\"1\" class=\"dataframe\">\n",
       "  <thead>\n",
       "    <tr style=\"text-align: right;\">\n",
       "      <th></th>\n",
       "      <th>song_id</th>\n",
       "      <th>chance_replay</th>\n",
       "      <th>occurence</th>\n",
       "      <th>song_length</th>\n",
       "      <th>genre_ids</th>\n",
       "      <th>artist_name</th>\n",
       "      <th>composer</th>\n",
       "      <th>lyricist</th>\n",
       "      <th>language</th>\n",
       "    </tr>\n",
       "  </thead>\n",
       "  <tbody>\n",
       "    <tr>\n",
       "      <th>0</th>\n",
       "      <td>+++2AEoM0d8iZTdbnAjUm35bnGKGMXdZJSv4rrWK6JQ=</td>\n",
       "      <td>0</td>\n",
       "      <td>1</td>\n",
       "      <td>223921</td>\n",
       "      <td>921</td>\n",
       "      <td>รวมศิลปิน</td>\n",
       "      <td>Chackkrit Muckkanaso</td>\n",
       "      <td>Tadakorn; Narongvit Techatanawat</td>\n",
       "      <td>45</td>\n",
       "    </tr>\n",
       "    <tr>\n",
       "      <th>1</th>\n",
       "      <td>++/ACCkEN/+VtgrJxEqeRgRmV4y8pcarDJ9T/yRAi1E=</td>\n",
       "      <td>0</td>\n",
       "      <td>2</td>\n",
       "      <td>271302</td>\n",
       "      <td>465</td>\n",
       "      <td>Variété Française</td>\n",
       "      <td>NaN</td>\n",
       "      <td>NaN</td>\n",
       "      <td>52</td>\n",
       "    </tr>\n",
       "    <tr>\n",
       "      <th>2</th>\n",
       "      <td>++/lJNswCU+za2pYB0cWIbGL5UzWIKtfweX20+GImZA=</td>\n",
       "      <td>0</td>\n",
       "      <td>3</td>\n",
       "      <td>221413</td>\n",
       "      <td>786|947</td>\n",
       "      <td>愛的音樂盒</td>\n",
       "      <td>NaN</td>\n",
       "      <td>NaN</td>\n",
       "      <td>-1</td>\n",
       "    </tr>\n",
       "  </tbody>\n",
       "</table>\n",
       "</div>"
      ],
      "text/plain": [
       "                                        song_id  chance_replay  occurence  \\\n",
       "0  +++2AEoM0d8iZTdbnAjUm35bnGKGMXdZJSv4rrWK6JQ=              0          1   \n",
       "1  ++/ACCkEN/+VtgrJxEqeRgRmV4y8pcarDJ9T/yRAi1E=              0          2   \n",
       "2  ++/lJNswCU+za2pYB0cWIbGL5UzWIKtfweX20+GImZA=              0          3   \n",
       "\n",
       "   song_length genre_ids        artist_name              composer  \\\n",
       "0       223921       921          รวมศิลปิน  Chackkrit Muckkanaso   \n",
       "1       271302       465  Variété Française                   NaN   \n",
       "2       221413   786|947              愛的音樂盒                   NaN   \n",
       "\n",
       "                           lyricist  language  \n",
       "0  Tadakorn; Narongvit Techatanawat        45  \n",
       "1                               NaN        52  \n",
       "2                               NaN        -1  "
      ]
     },
     "execution_count": 11,
     "metadata": {},
     "output_type": "execute_result"
    }
   ],
   "source": [
    "song_data.head(3)"
   ]
  },
  {
   "cell_type": "code",
   "execution_count": 12,
   "metadata": {},
   "outputs": [
    {
     "data": {
      "text/plain": [
       "str"
      ]
     },
     "execution_count": 12,
     "metadata": {},
     "output_type": "execute_result"
    }
   ],
   "source": [
    "type('genre_ids')"
   ]
  },
  {
   "cell_type": "code",
   "execution_count": 14,
   "metadata": {},
   "outputs": [],
   "source": [
    "# Fonction qui permet de compter le nombre de valeurs : exemple, on peut avoir 2 nombres séparés par | pour le genre\n",
    "\n",
    "def cnt(a):\n",
    "    if type(a) != str:\n",
    "        return 1\n",
    "    else:\n",
    "        return 1 + a.count('|')"
   ]
  },
  {
   "cell_type": "markdown",
   "metadata": {},
   "source": [
    "#### Nombre de genres, de compositeurs et de lyriques"
   ]
  },
  {
   "cell_type": "code",
   "execution_count": 15,
   "metadata": {},
   "outputs": [],
   "source": [
    "song_data['number_of_genres'] = song_data['genre_ids'].apply(cnt)\n",
    "song_data['number_of_composers'] = song_data['composer'].apply(cnt)\n",
    "song_data['number_of_lyricists'] = song_data['lyricist'].apply(cnt)"
   ]
  },
  {
   "cell_type": "code",
   "execution_count": 16,
   "metadata": {},
   "outputs": [
    {
     "name": "stdout",
     "output_type": "stream",
     "text": [
      "Nombre maximal de genres : 8 \n",
      "Nombre maximal de compositeurs : 51 \n",
      "Nombre maximal de lyriques : 23\n"
     ]
    }
   ],
   "source": [
    "genres_max = song_data['number_of_genres'].max()\n",
    "composers_max = song_data['number_of_composers'].max()\n",
    "lyricists_max = song_data['number_of_lyricists'].max()\n",
    "\n",
    "print('Nombre maximal de genres : {} \\nNombre maximal de compositeurs : {} \\nNombre maximal de lyriques : {}'.format(genres_max, composers_max, lyricists_max))\n"
   ]
  },
  {
   "cell_type": "code",
   "execution_count": 64,
   "metadata": {},
   "outputs": [
    {
     "name": "stdout",
     "output_type": "stream",
     "text": [
      "Chanson ayant le plus de compositeurs : \n",
      "\n",
      "artist_name                                                       SHINee\n",
      "composer               Korean Lyrics by Kim| Jong Hyun (12.5%) Harvey...\n",
      "lyricist                          Andreas \"Quiz\" Romdhane| Savan Kotecha\n",
      "number_of_composers                                                   51\n",
      "number_of_lyricists                                                    2\n",
      "Name: 309485, dtype: object\n"
     ]
    }
   ],
   "source": [
    "max_song_composers = song_data.iloc[song_data['number_of_composers'].idxmax()]\n",
    "print('Chanson ayant le plus de compositeurs : ' + '\\n'+ '\\n' + str(max_song_composers[['artist_name', 'composer', 'lyricist', 'number_of_composers',\n",
    "                     'number_of_lyricists']]))"
   ]
  },
  {
   "cell_type": "code",
   "execution_count": 17,
   "metadata": {},
   "outputs": [
    {
     "name": "stdout",
     "output_type": "stream",
     "text": [
      "Chanson ayant le plus de genres : \n",
      "\n",
      "artist_name                        証聲音樂圖書館 ECHO MUSIC\n",
      "composer               Joseph Mohr;Franz Xaver Gruber\n",
      "number_of_genres                                    8\n",
      "number_of_lyricists                                 1\n",
      "Name: 25490, dtype: object\n"
     ]
    }
   ],
   "source": [
    "max_song_genres = song_data.iloc[song_data['number_of_genres'].idxmax()]\n",
    "print('Chanson ayant le plus de genres : ' + '\\n'+ '\\n' + str(max_song_genres[['artist_name', 'composer', 'number_of_genres',\n",
    "                     'number_of_lyricists']]))"
   ]
  },
  {
   "cell_type": "markdown",
   "metadata": {},
   "source": [
    "#### Etude de l'influence de la langue "
   ]
  },
  {
   "cell_type": "code",
   "execution_count": 31,
   "metadata": {},
   "outputs": [],
   "source": [
    "languages = song_data['language'].unique()\n",
    "\n",
    "language_count = []\n",
    "language_occurence = []\n",
    "language_chance_replay = []\n",
    "\n",
    "for l in languages:\n",
    "    if not np.isnan(l):\n",
    "        songs_with_language = song_data[song_data['language'] == l] # pour chaque langue on compte le nombre de chansons\n",
    "        language_count.append(songs_with_language.shape[0])\n",
    "        count = songs_with_language['occurence'].sum() # aggregate\n",
    "        language_occurence.append(count) # total d'occurence de la langue\n",
    "        language_chance_replay.append(songs_with_language['chance_replay'].sum() / count) # chance de répétition\n",
    "        \n",
    "        \n",
    "    else:\n",
    "        songs_with_language = song_data[pd.isnull(song_data['language'])]\n",
    "        language_count.append(songs_with_language.shape[0])\n",
    "        count = songs_with_language['occurence'].sum()\n",
    "        language_occurence.append(count)\n",
    "        language_chance_replay.append(songs_with_language['chance_replay'].sum() / count)\n",
    "        \n",
    "        # le nombre de chansons ayant la même langue / le nombre total d'occurence des chansons ayant la même langue donne\n",
    "        # le pourceentage de chance de répétition\n",
    "        "
   ]
  },
  {
   "cell_type": "code",
   "execution_count": 32,
   "metadata": {},
   "outputs": [
    {
     "name": "stdout",
     "output_type": "stream",
     "text": [
      "Langues : [45. 52. -1.  3. 10. 24. 31. 17. 59. 38. nan]\n"
     ]
    }
   ],
   "source": [
    "print('Langues : {}'.format(languages))"
   ]
  },
  {
   "cell_type": "code",
   "execution_count": 33,
   "metadata": {},
   "outputs": [],
   "source": [
    "languages[10] = 90 # On affecte la valeur 90 (au hasard) à la langue 'nan'"
   ]
  },
  {
   "cell_type": "code",
   "execution_count": 34,
   "metadata": {},
   "outputs": [
    {
     "data": {
      "image/png": "[encoded data removed]",
      "text/plain": [
       "<matplotlib.figure.Figure at 0x7f0bf9c0bef0>"
      ]
     },
     "metadata": {},
     "output_type": "display_data"
    }
   ],
   "source": [
    "fig = plt.figure(figsize=(15, 15)) \n",
    "\n",
    "ax1 = plt.subplot(2,1,1)\n",
    "sns.barplot(languages, np.log10(language_occurence)) # log en base 10 pour l'échelle\n",
    "ax1.set_ylabel('log10(occurence)')\n",
    "\n",
    "ax2 = plt.subplot(2,1,2)\n",
    "sns.barplot(languages,language_chance_replay)\n",
    "ax2.set_ylabel('Chance de répétition')\n",
    "ax2.set_xlabel('langage de la chanson')\n",
    "\n",
    "plt.show()\n"
   ]
  },
  {
   "cell_type": "raw",
   "metadata": {},
   "source": [
    "Les chansons de langue '3', '10', '31' ont moins de chance de réécoute. Cependant elles représentent plus d'écoute."
   ]
  },
  {
   "cell_type": "markdown",
   "metadata": {},
   "source": [
    "#### Etude de l'influence de la durée de la chanson"
   ]
  },
  {
   "cell_type": "code",
   "execution_count": 74,
   "metadata": {},
   "outputs": [
    {
     "data": {
      "image/png": "[encoded data removed]",
      "text/plain": [
       "<matplotlib.figure.Figure at 0x7f0bf9ac7da0>"
      ]
     },
     "metadata": {},
     "output_type": "display_data"
    }
   ],
   "source": [
    "plt.figure(figsize=(18,8))\n",
    "k = np.logspace(np.log10(min_song_length_sec)+1,np.log10(max_song_length_sec),150)\n",
    "\n",
    "sns.distplot(song_data['song_length']/1000, bins=k, hist_kws={\"alpha\": 1}, kde=False, color='indianred')\n",
    "plt.xlabel('durée de la chanson (en secondes)')\n",
    "plt.ylabel('card(chansons)')\n",
    "plt.yscale('log')\n",
    "plt.xscale('log')\n",
    "plt.show()"
   ]
  },
  {
   "cell_type": "raw",
   "metadata": {},
   "source": [
    "Il existe beaucoup de chansons dont leur durée est supérieure à 1000s ~ 16 minutes. La durée est néanmoins fortement concentrée entre 2 et moins de 6 minutes."
   ]
  }
 ],
 "metadata": {
  "kernelspec": {
   "display_name": "Python 2",
   "language": "python",
   "name": "python2"
  },
  "language_info": {
   "codemirror_mode": {
    "name": "ipython",
    "version": 3
   },
   "file_extension": ".py",
   "mimetype": "text/x-python",
   "name": "python",
   "nbconvert_exporter": "python",
   "pygments_lexer": "ipython3",
   "version": "3.5.2"
  }
 },
 "nbformat": 4,
 "nbformat_minor": 2
}
